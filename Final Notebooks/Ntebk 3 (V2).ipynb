{
 "cells": [
  {
   "cell_type": "markdown",
   "id": "542f2071",
   "metadata": {},
   "source": [
    "<span style='color:darkcyan'><font size=\"3\">_Juan Sebastian Deslarzes_</font></span><br>\n",
    "<span style='color:darkcyan'><font size=\"3\">_Chloé De Ancos_</font></span><br>\n",
    "<span style='color:darkcyan'><font size=\"3\">_Anaïs Burrus_</font></span><br>\n",
    "<span style='color:darkcyan'><font size=\"3\">_Margot Chapot_</font></span><br>\n",
    "<span style='color:darkcyan'><font size=\"3\">_Eva Sarlin_</font></span><br>\n",
    "\n",
    "<span style='color:steelblue'><font size=\"6\"> Notebook 3 : use of a unique pipeline for all the features </font></span><br>"
   ]
  },
  {
   "cell_type": "code",
   "execution_count": 1,
   "id": "1b8d5e66",
   "metadata": {},
   "outputs": [
    {
     "data": {
      "text/html": [
       "\n",
       "    <div class=\"bk-root\">\n",
       "        <a href=\"https://bokeh.org\" target=\"_blank\" class=\"bk-logo bk-logo-small bk-logo-notebook\"></a>\n",
       "        <span id=\"1002\">Loading BokehJS ...</span>\n",
       "    </div>"
      ]
     },
     "metadata": {},
     "output_type": "display_data"
    },
    {
     "data": {
      "application/javascript": [
       "\n",
       "(function(root) {\n",
       "  function now() {\n",
       "    return new Date();\n",
       "  }\n",
       "\n",
       "  const force = true;\n",
       "\n",
       "  if (typeof root._bokeh_onload_callbacks === \"undefined\" || force === true) {\n",
       "    root._bokeh_onload_callbacks = [];\n",
       "    root._bokeh_is_loading = undefined;\n",
       "  }\n",
       "\n",
       "  const JS_MIME_TYPE = 'application/javascript';\n",
       "  const HTML_MIME_TYPE = 'text/html';\n",
       "  const EXEC_MIME_TYPE = 'application/vnd.bokehjs_exec.v0+json';\n",
       "  const CLASS_NAME = 'output_bokeh rendered_html';\n",
       "\n",
       "  /**\n",
       "   * Render data to the DOM node\n",
       "   */\n",
       "  function render(props, node) {\n",
       "    const script = document.createElement(\"script\");\n",
       "    node.appendChild(script);\n",
       "  }\n",
       "\n",
       "  /**\n",
       "   * Handle when an output is cleared or removed\n",
       "   */\n",
       "  function handleClearOutput(event, handle) {\n",
       "    const cell = handle.cell;\n",
       "\n",
       "    const id = cell.output_area._bokeh_element_id;\n",
       "    const server_id = cell.output_area._bokeh_server_id;\n",
       "    // Clean up Bokeh references\n",
       "    if (id != null && id in Bokeh.index) {\n",
       "      Bokeh.index[id].model.document.clear();\n",
       "      delete Bokeh.index[id];\n",
       "    }\n",
       "\n",
       "    if (server_id !== undefined) {\n",
       "      // Clean up Bokeh references\n",
       "      const cmd_clean = \"from bokeh.io.state import curstate; print(curstate().uuid_to_server['\" + server_id + \"'].get_sessions()[0].document.roots[0]._id)\";\n",
       "      cell.notebook.kernel.execute(cmd_clean, {\n",
       "        iopub: {\n",
       "          output: function(msg) {\n",
       "            const id = msg.content.text.trim();\n",
       "            if (id in Bokeh.index) {\n",
       "              Bokeh.index[id].model.document.clear();\n",
       "              delete Bokeh.index[id];\n",
       "            }\n",
       "          }\n",
       "        }\n",
       "      });\n",
       "      // Destroy server and session\n",
       "      const cmd_destroy = \"import bokeh.io.notebook as ion; ion.destroy_server('\" + server_id + \"')\";\n",
       "      cell.notebook.kernel.execute(cmd_destroy);\n",
       "    }\n",
       "  }\n",
       "\n",
       "  /**\n",
       "   * Handle when a new output is added\n",
       "   */\n",
       "  function handleAddOutput(event, handle) {\n",
       "    const output_area = handle.output_area;\n",
       "    const output = handle.output;\n",
       "\n",
       "    // limit handleAddOutput to display_data with EXEC_MIME_TYPE content only\n",
       "    if ((output.output_type != \"display_data\") || (!Object.prototype.hasOwnProperty.call(output.data, EXEC_MIME_TYPE))) {\n",
       "      return\n",
       "    }\n",
       "\n",
       "    const toinsert = output_area.element.find(\".\" + CLASS_NAME.split(' ')[0]);\n",
       "\n",
       "    if (output.metadata[EXEC_MIME_TYPE][\"id\"] !== undefined) {\n",
       "      toinsert[toinsert.length - 1].firstChild.textContent = output.data[JS_MIME_TYPE];\n",
       "      // store reference to embed id on output_area\n",
       "      output_area._bokeh_element_id = output.metadata[EXEC_MIME_TYPE][\"id\"];\n",
       "    }\n",
       "    if (output.metadata[EXEC_MIME_TYPE][\"server_id\"] !== undefined) {\n",
       "      const bk_div = document.createElement(\"div\");\n",
       "      bk_div.innerHTML = output.data[HTML_MIME_TYPE];\n",
       "      const script_attrs = bk_div.children[0].attributes;\n",
       "      for (let i = 0; i < script_attrs.length; i++) {\n",
       "        toinsert[toinsert.length - 1].firstChild.setAttribute(script_attrs[i].name, script_attrs[i].value);\n",
       "        toinsert[toinsert.length - 1].firstChild.textContent = bk_div.children[0].textContent\n",
       "      }\n",
       "      // store reference to server id on output_area\n",
       "      output_area._bokeh_server_id = output.metadata[EXEC_MIME_TYPE][\"server_id\"];\n",
       "    }\n",
       "  }\n",
       "\n",
       "  function register_renderer(events, OutputArea) {\n",
       "\n",
       "    function append_mime(data, metadata, element) {\n",
       "      // create a DOM node to render to\n",
       "      const toinsert = this.create_output_subarea(\n",
       "        metadata,\n",
       "        CLASS_NAME,\n",
       "        EXEC_MIME_TYPE\n",
       "      );\n",
       "      this.keyboard_manager.register_events(toinsert);\n",
       "      // Render to node\n",
       "      const props = {data: data, metadata: metadata[EXEC_MIME_TYPE]};\n",
       "      render(props, toinsert[toinsert.length - 1]);\n",
       "      element.append(toinsert);\n",
       "      return toinsert\n",
       "    }\n",
       "\n",
       "    /* Handle when an output is cleared or removed */\n",
       "    events.on('clear_output.CodeCell', handleClearOutput);\n",
       "    events.on('delete.Cell', handleClearOutput);\n",
       "\n",
       "    /* Handle when a new output is added */\n",
       "    events.on('output_added.OutputArea', handleAddOutput);\n",
       "\n",
       "    /**\n",
       "     * Register the mime type and append_mime function with output_area\n",
       "     */\n",
       "    OutputArea.prototype.register_mime_type(EXEC_MIME_TYPE, append_mime, {\n",
       "      /* Is output safe? */\n",
       "      safe: true,\n",
       "      /* Index of renderer in `output_area.display_order` */\n",
       "      index: 0\n",
       "    });\n",
       "  }\n",
       "\n",
       "  // register the mime type if in Jupyter Notebook environment and previously unregistered\n",
       "  if (root.Jupyter !== undefined) {\n",
       "    const events = require('base/js/events');\n",
       "    const OutputArea = require('notebook/js/outputarea').OutputArea;\n",
       "\n",
       "    if (OutputArea.prototype.mime_types().indexOf(EXEC_MIME_TYPE) == -1) {\n",
       "      register_renderer(events, OutputArea);\n",
       "    }\n",
       "  }\n",
       "\n",
       "  \n",
       "  if (typeof (root._bokeh_timeout) === \"undefined\" || force === true) {\n",
       "    root._bokeh_timeout = Date.now() + 5000;\n",
       "    root._bokeh_failed_load = false;\n",
       "  }\n",
       "\n",
       "  const NB_LOAD_WARNING = {'data': {'text/html':\n",
       "     \"<div style='background-color: #fdd'>\\n\"+\n",
       "     \"<p>\\n\"+\n",
       "     \"BokehJS does not appear to have successfully loaded. If loading BokehJS from CDN, this \\n\"+\n",
       "     \"may be due to a slow or bad network connection. Possible fixes:\\n\"+\n",
       "     \"</p>\\n\"+\n",
       "     \"<ul>\\n\"+\n",
       "     \"<li>re-rerun `output_notebook()` to attempt to load from CDN again, or</li>\\n\"+\n",
       "     \"<li>use INLINE resources instead, as so:</li>\\n\"+\n",
       "     \"</ul>\\n\"+\n",
       "     \"<code>\\n\"+\n",
       "     \"from bokeh.resources import INLINE\\n\"+\n",
       "     \"output_notebook(resources=INLINE)\\n\"+\n",
       "     \"</code>\\n\"+\n",
       "     \"</div>\"}};\n",
       "\n",
       "  function display_loaded() {\n",
       "    const el = document.getElementById(\"1002\");\n",
       "    if (el != null) {\n",
       "      el.textContent = \"BokehJS is loading...\";\n",
       "    }\n",
       "    if (root.Bokeh !== undefined) {\n",
       "      if (el != null) {\n",
       "        el.textContent = \"BokehJS \" + root.Bokeh.version + \" successfully loaded.\";\n",
       "      }\n",
       "    } else if (Date.now() < root._bokeh_timeout) {\n",
       "      setTimeout(display_loaded, 100)\n",
       "    }\n",
       "  }\n",
       "\n",
       "\n",
       "  function run_callbacks() {\n",
       "    try {\n",
       "      root._bokeh_onload_callbacks.forEach(function(callback) {\n",
       "        if (callback != null)\n",
       "          callback();\n",
       "      });\n",
       "    } finally {\n",
       "      delete root._bokeh_onload_callbacks\n",
       "    }\n",
       "    console.debug(\"Bokeh: all callbacks have finished\");\n",
       "  }\n",
       "\n",
       "  function load_libs(css_urls, js_urls, callback) {\n",
       "    if (css_urls == null) css_urls = [];\n",
       "    if (js_urls == null) js_urls = [];\n",
       "\n",
       "    root._bokeh_onload_callbacks.push(callback);\n",
       "    if (root._bokeh_is_loading > 0) {\n",
       "      console.debug(\"Bokeh: BokehJS is being loaded, scheduling callback at\", now());\n",
       "      return null;\n",
       "    }\n",
       "    if (js_urls == null || js_urls.length === 0) {\n",
       "      run_callbacks();\n",
       "      return null;\n",
       "    }\n",
       "    console.debug(\"Bokeh: BokehJS not loaded, scheduling load and callback at\", now());\n",
       "    root._bokeh_is_loading = css_urls.length + js_urls.length;\n",
       "\n",
       "    function on_load() {\n",
       "      root._bokeh_is_loading--;\n",
       "      if (root._bokeh_is_loading === 0) {\n",
       "        console.debug(\"Bokeh: all BokehJS libraries/stylesheets loaded\");\n",
       "        run_callbacks()\n",
       "      }\n",
       "    }\n",
       "\n",
       "    function on_error(url) {\n",
       "      console.error(\"failed to load \" + url);\n",
       "    }\n",
       "\n",
       "    for (let i = 0; i < css_urls.length; i++) {\n",
       "      const url = css_urls[i];\n",
       "      const element = document.createElement(\"link\");\n",
       "      element.onload = on_load;\n",
       "      element.onerror = on_error.bind(null, url);\n",
       "      element.rel = \"stylesheet\";\n",
       "      element.type = \"text/css\";\n",
       "      element.href = url;\n",
       "      console.debug(\"Bokeh: injecting link tag for BokehJS stylesheet: \", url);\n",
       "      document.body.appendChild(element);\n",
       "    }\n",
       "\n",
       "    for (let i = 0; i < js_urls.length; i++) {\n",
       "      const url = js_urls[i];\n",
       "      const element = document.createElement('script');\n",
       "      element.onload = on_load;\n",
       "      element.onerror = on_error.bind(null, url);\n",
       "      element.async = false;\n",
       "      element.src = url;\n",
       "      console.debug(\"Bokeh: injecting script tag for BokehJS library: \", url);\n",
       "      document.head.appendChild(element);\n",
       "    }\n",
       "  };\n",
       "\n",
       "  function inject_raw_css(css) {\n",
       "    const element = document.createElement(\"style\");\n",
       "    element.appendChild(document.createTextNode(css));\n",
       "    document.body.appendChild(element);\n",
       "  }\n",
       "\n",
       "  \n",
       "  const js_urls = [\"https://cdn.bokeh.org/bokeh/release/bokeh-2.4.2.min.js\", \"https://cdn.bokeh.org/bokeh/release/bokeh-gl-2.4.2.min.js\", \"https://cdn.bokeh.org/bokeh/release/bokeh-widgets-2.4.2.min.js\", \"https://cdn.bokeh.org/bokeh/release/bokeh-tables-2.4.2.min.js\", \"https://cdn.bokeh.org/bokeh/release/bokeh-mathjax-2.4.2.min.js\"];\n",
       "  const css_urls = [];\n",
       "  \n",
       "\n",
       "  const inline_js = [\n",
       "    function(Bokeh) {\n",
       "      Bokeh.set_log_level(\"info\");\n",
       "    },\n",
       "    function(Bokeh) {\n",
       "    \n",
       "    \n",
       "    }\n",
       "  ];\n",
       "\n",
       "  function run_inline_js() {\n",
       "    \n",
       "    if (root.Bokeh !== undefined || force === true) {\n",
       "      \n",
       "    for (let i = 0; i < inline_js.length; i++) {\n",
       "      inline_js[i].call(root, root.Bokeh);\n",
       "    }\n",
       "    if (force === true) {\n",
       "        display_loaded();\n",
       "      }} else if (Date.now() < root._bokeh_timeout) {\n",
       "      setTimeout(run_inline_js, 100);\n",
       "    } else if (!root._bokeh_failed_load) {\n",
       "      console.log(\"Bokeh: BokehJS failed to load within specified timeout.\");\n",
       "      root._bokeh_failed_load = true;\n",
       "    } else if (force !== true) {\n",
       "      const cell = $(document.getElementById(\"1002\")).parents('.cell').data().cell;\n",
       "      cell.output_area.append_execute_result(NB_LOAD_WARNING)\n",
       "    }\n",
       "\n",
       "  }\n",
       "\n",
       "  if (root._bokeh_is_loading === 0) {\n",
       "    console.debug(\"Bokeh: BokehJS loaded, going straight to plotting\");\n",
       "    run_inline_js();\n",
       "  } else {\n",
       "    load_libs(css_urls, js_urls, function() {\n",
       "      console.debug(\"Bokeh: BokehJS plotting callback run at\", now());\n",
       "      run_inline_js();\n",
       "    });\n",
       "  }\n",
       "}(window));"
      ],
      "application/vnd.bokehjs_load.v0+json": "\n(function(root) {\n  function now() {\n    return new Date();\n  }\n\n  const force = true;\n\n  if (typeof root._bokeh_onload_callbacks === \"undefined\" || force === true) {\n    root._bokeh_onload_callbacks = [];\n    root._bokeh_is_loading = undefined;\n  }\n\n  \n\n  \n  if (typeof (root._bokeh_timeout) === \"undefined\" || force === true) {\n    root._bokeh_timeout = Date.now() + 5000;\n    root._bokeh_failed_load = false;\n  }\n\n  const NB_LOAD_WARNING = {'data': {'text/html':\n     \"<div style='background-color: #fdd'>\\n\"+\n     \"<p>\\n\"+\n     \"BokehJS does not appear to have successfully loaded. If loading BokehJS from CDN, this \\n\"+\n     \"may be due to a slow or bad network connection. Possible fixes:\\n\"+\n     \"</p>\\n\"+\n     \"<ul>\\n\"+\n     \"<li>re-rerun `output_notebook()` to attempt to load from CDN again, or</li>\\n\"+\n     \"<li>use INLINE resources instead, as so:</li>\\n\"+\n     \"</ul>\\n\"+\n     \"<code>\\n\"+\n     \"from bokeh.resources import INLINE\\n\"+\n     \"output_notebook(resources=INLINE)\\n\"+\n     \"</code>\\n\"+\n     \"</div>\"}};\n\n  function display_loaded() {\n    const el = document.getElementById(\"1002\");\n    if (el != null) {\n      el.textContent = \"BokehJS is loading...\";\n    }\n    if (root.Bokeh !== undefined) {\n      if (el != null) {\n        el.textContent = \"BokehJS \" + root.Bokeh.version + \" successfully loaded.\";\n      }\n    } else if (Date.now() < root._bokeh_timeout) {\n      setTimeout(display_loaded, 100)\n    }\n  }\n\n\n  function run_callbacks() {\n    try {\n      root._bokeh_onload_callbacks.forEach(function(callback) {\n        if (callback != null)\n          callback();\n      });\n    } finally {\n      delete root._bokeh_onload_callbacks\n    }\n    console.debug(\"Bokeh: all callbacks have finished\");\n  }\n\n  function load_libs(css_urls, js_urls, callback) {\n    if (css_urls == null) css_urls = [];\n    if (js_urls == null) js_urls = [];\n\n    root._bokeh_onload_callbacks.push(callback);\n    if (root._bokeh_is_loading > 0) {\n      console.debug(\"Bokeh: BokehJS is being loaded, scheduling callback at\", now());\n      return null;\n    }\n    if (js_urls == null || js_urls.length === 0) {\n      run_callbacks();\n      return null;\n    }\n    console.debug(\"Bokeh: BokehJS not loaded, scheduling load and callback at\", now());\n    root._bokeh_is_loading = css_urls.length + js_urls.length;\n\n    function on_load() {\n      root._bokeh_is_loading--;\n      if (root._bokeh_is_loading === 0) {\n        console.debug(\"Bokeh: all BokehJS libraries/stylesheets loaded\");\n        run_callbacks()\n      }\n    }\n\n    function on_error(url) {\n      console.error(\"failed to load \" + url);\n    }\n\n    for (let i = 0; i < css_urls.length; i++) {\n      const url = css_urls[i];\n      const element = document.createElement(\"link\");\n      element.onload = on_load;\n      element.onerror = on_error.bind(null, url);\n      element.rel = \"stylesheet\";\n      element.type = \"text/css\";\n      element.href = url;\n      console.debug(\"Bokeh: injecting link tag for BokehJS stylesheet: \", url);\n      document.body.appendChild(element);\n    }\n\n    for (let i = 0; i < js_urls.length; i++) {\n      const url = js_urls[i];\n      const element = document.createElement('script');\n      element.onload = on_load;\n      element.onerror = on_error.bind(null, url);\n      element.async = false;\n      element.src = url;\n      console.debug(\"Bokeh: injecting script tag for BokehJS library: \", url);\n      document.head.appendChild(element);\n    }\n  };\n\n  function inject_raw_css(css) {\n    const element = document.createElement(\"style\");\n    element.appendChild(document.createTextNode(css));\n    document.body.appendChild(element);\n  }\n\n  \n  const js_urls = [\"https://cdn.bokeh.org/bokeh/release/bokeh-2.4.2.min.js\", \"https://cdn.bokeh.org/bokeh/release/bokeh-gl-2.4.2.min.js\", \"https://cdn.bokeh.org/bokeh/release/bokeh-widgets-2.4.2.min.js\", \"https://cdn.bokeh.org/bokeh/release/bokeh-tables-2.4.2.min.js\", \"https://cdn.bokeh.org/bokeh/release/bokeh-mathjax-2.4.2.min.js\"];\n  const css_urls = [];\n  \n\n  const inline_js = [\n    function(Bokeh) {\n      Bokeh.set_log_level(\"info\");\n    },\n    function(Bokeh) {\n    \n    \n    }\n  ];\n\n  function run_inline_js() {\n    \n    if (root.Bokeh !== undefined || force === true) {\n      \n    for (let i = 0; i < inline_js.length; i++) {\n      inline_js[i].call(root, root.Bokeh);\n    }\n    if (force === true) {\n        display_loaded();\n      }} else if (Date.now() < root._bokeh_timeout) {\n      setTimeout(run_inline_js, 100);\n    } else if (!root._bokeh_failed_load) {\n      console.log(\"Bokeh: BokehJS failed to load within specified timeout.\");\n      root._bokeh_failed_load = true;\n    } else if (force !== true) {\n      const cell = $(document.getElementById(\"1002\")).parents('.cell').data().cell;\n      cell.output_area.append_execute_result(NB_LOAD_WARNING)\n    }\n\n  }\n\n  if (root._bokeh_is_loading === 0) {\n    console.debug(\"Bokeh: BokehJS loaded, going straight to plotting\");\n    run_inline_js();\n  } else {\n    load_libs(css_urls, js_urls, function() {\n      console.debug(\"Bokeh: BokehJS plotting callback run at\", now());\n      run_inline_js();\n    });\n  }\n}(window));"
     },
     "metadata": {},
     "output_type": "display_data"
    }
   ],
   "source": [
    "import matplotlib.pyplot as plt \n",
    "%matplotlib inline\n",
    "import pandas as pd\n",
    "import numpy as np\n",
    "from skimage import io\n",
    "from IPython import display\n",
    "from bokeh.io import output_notebook, show\n",
    "from bokeh.plotting import figure\n",
    "output_notebook()\n",
    "import seaborn as sns\n",
    "sns.set(color_codes=True)"
   ]
  },
  {
   "cell_type": "code",
   "execution_count": 2,
   "id": "dea02d31",
   "metadata": {},
   "outputs": [
    {
     "name": "stderr",
     "output_type": "stream",
     "text": [
      "[nltk_data] Downloading package stopwords to /Users/chloe/nltk_data...\n",
      "[nltk_data]   Package stopwords is already up-to-date!\n"
     ]
    }
   ],
   "source": [
    "from sklearn.base import BaseEstimator, TransformerMixin\n",
    "from nltk.tokenize import sent_tokenize, word_tokenize\n",
    "from nltk.stem import PorterStemmer\n",
    "from nltk import word_tokenize\n",
    "from nltk.corpus import stopwords\n",
    "from nltk import pos_tag\n",
    "from collections import Counter \n",
    "from sklearn.pipeline import Pipeline, FeatureUnion\n",
    "from sklearn.feature_extraction.text import CountVectorizer, TfidfVectorizer, TfidfTransformer\n",
    "from sklearn.naive_bayes import MultinomialNB\n",
    "from sklearn.linear_model import LogisticRegression\n",
    "from sklearn.model_selection import cross_val_score, KFold\n",
    "from sklearn.metrics import classification_report\n",
    "from sklearn.feature_extraction import DictVectorizer\n",
    "from sklearn.preprocessing import FunctionTransformer\n",
    "from sklearn.decomposition import NMF, LatentDirichletAllocation\n",
    "import re\n",
    "import nltk\n",
    "from sklearn.datasets import load_files\n",
    "nltk.download('stopwords')\n",
    "import pickle\n",
    "from nltk.stem import WordNetLemmatizer\n",
    "from sklearn.feature_extraction.text import CountVectorizer\n",
    "from sklearn.feature_extraction.text import TfidfTransformer\n",
    "from sklearn.model_selection import train_test_split\n",
    "from sklearn.ensemble import RandomForestClassifier\n",
    "from sklearn.metrics import classification_report, confusion_matrix, accuracy_score\n",
    "from sklearn.compose import ColumnTransformer\n",
    "from sklearn.tree import DecisionTreeClassifier\n",
    "from sklearn.neighbors import KNeighborsClassifier\n",
    "from sklearn.svm import SVC\n",
    "from evolutionary_search import EvolutionaryAlgorithmSearchCV\n",
    "from sklearn.model_selection import StratifiedKFold\n",
    "from sklearn.ensemble import VotingClassifier\n",
    "from sklearn.model_selection import train_test_split\n",
    "from sklearn import preprocessing\n",
    "from sklearn.preprocessing import StandardScaler\n",
    "import string"
   ]
  },
  {
   "cell_type": "markdown",
   "id": "fdd8e154",
   "metadata": {},
   "source": [
    "<span style='color:mediumpurple'><font size=\"6\">__Data Loading__</font></span><br>"
   ]
  },
  {
   "cell_type": "code",
   "execution_count": 3,
   "id": "34777443",
   "metadata": {},
   "outputs": [],
   "source": [
    "sample_submission_url = 'https://raw.githubusercontent.com/esarlin/Challenge-2-CDAW/main/sitc-challenge2-2022/sample_submission.csv'\n",
    "test_nolabel_url= 'https://raw.githubusercontent.com/esarlin/Challenge-2-CDAW/main/sitc-challenge2-2022/test_nolabel.csv'\n",
    "train_url = 'https://raw.githubusercontent.com/esarlin/Challenge-2-CDAW/main/sitc-challenge2-2022/train.csv'\n",
    "\n",
    "sample_submission = pd.read_csv(sample_submission_url)\n",
    "test_nolabel = pd.read_csv(test_nolabel_url)\n",
    "df = pd.read_csv(train_url)"
   ]
  },
  {
   "cell_type": "markdown",
   "id": "bb454c33",
   "metadata": {},
   "source": [
    "<span style='color:mediumpurple'><font size=\"6\">__Feature Selection and Cleaning__</font></span><br>"
   ]
  },
  {
   "cell_type": "code",
   "execution_count": 4,
   "id": "91ba2430",
   "metadata": {},
   "outputs": [],
   "source": [
    "data_features = df.copy()[[\"statement\", \"subject\", \"speaker\",\"speaker_job\",\"state_info\", \"party_affiliation\"]]\n",
    "test_features = test_nolabel.copy()[[\"statement\", \"subject\", \"speaker\",\"speaker_job\",\"state_info\",\"party_affiliation\"]]\n",
    "target = df.label.values"
   ]
  },
  {
   "cell_type": "markdown",
   "id": "303f901e",
   "metadata": {},
   "source": [
    "<span style='color:steelblue'><font size=\"4\">__Removing Nan values in Speaker job and state features :__</font></span><br>"
   ]
  },
  {
   "cell_type": "code",
   "execution_count": 5,
   "id": "0001075e",
   "metadata": {},
   "outputs": [],
   "source": [
    "data_features['speaker_job']= data_features['speaker_job'].fillna('u.s. senator')\n",
    "test_features['speaker_job']= test_features['speaker_job'].fillna('u.s. senator')\n",
    "\n",
    "data_features['state_info']= data_features['state_info'].fillna('unknown')\n",
    "test_features['state_info']= test_features['state_info'].fillna('unknown')"
   ]
  },
  {
   "cell_type": "markdown",
   "id": "4067052f",
   "metadata": {},
   "source": [
    "<span style='color:steelblue'><font size=\"4\">__Adding a new feature party_group :__</font></span><br>"
   ]
  },
  {
   "cell_type": "markdown",
   "id": "9fc94173",
   "metadata": {},
   "source": [
    "We have chosen to add a new feature called \"party_group\" in which we have separated the feature \"party_affiliation\" into three groups : 0 which corresponds to republican, 1 to democrats and 2 to others."
   ]
  },
  {
   "cell_type": "code",
   "execution_count": 6,
   "id": "12c4032e",
   "metadata": {},
   "outputs": [],
   "source": [
    "data_features['party_group'] = data_features['party_affiliation']\n",
    "test_features['party_group'] = test_features['party_affiliation']"
   ]
  },
  {
   "cell_type": "code",
   "execution_count": 7,
   "id": "32bc5c50",
   "metadata": {},
   "outputs": [
    {
     "name": "stdout",
     "output_type": "stream",
     "text": [
      "Names of the party_affiliations of the speakers, and how many of them are affiliated: \n",
      "party_affiliation\n",
      "Moderate                           1\n",
      "activist                          30\n",
      "business-leader                    8\n",
      "columnist                         32\n",
      "constitution-party                 2\n",
      "county-commissioner                1\n",
      "democrat                        2898\n",
      "democratic-farmer-labor            1\n",
      "education-official                 2\n",
      "government-body                    1\n",
      "green                              3\n",
      "independent                      130\n",
      "journalist                        37\n",
      "labor-leader                       7\n",
      "liberal-party-canada               1\n",
      "libertarian                       34\n",
      "newsmaker                         41\n",
      "none                            1531\n",
      "ocean-state-tea-party-action       1\n",
      "organization                     197\n",
      "republican                      3947\n",
      "state-official                    14\n",
      "talk-show-host                    23\n",
      "tea-party-member                   8\n",
      "dtype: int64\n",
      "Names of the party_affiliations of the speakers, and how many of them are affiliated: \n",
      "party_affiliation\n",
      "activist                 15\n",
      "business-leader           3\n",
      "columnist                12\n",
      "constitution-party        1\n",
      "county-commissioner       1\n",
      "democrat               1238\n",
      "education-official        1\n",
      "government-body           1\n",
      "independent              50\n",
      "journalist               12\n",
      "labor-leader              8\n",
      "libertarian              17\n",
      "newsmaker                23\n",
      "none                    650\n",
      "organization             67\n",
      "republican             1716\n",
      "state-official           10\n",
      "talk-show-host            9\n",
      "tea-party-member          2\n",
      "dtype: int64\n"
     ]
    }
   ],
   "source": [
    "party = data_features.groupby('party_affiliation').size()\n",
    "print(f'Names of the party_affiliations of the speakers, and how many of them are affiliated: \\n{party}')\n",
    "\n",
    "party_test = test_features.groupby('party_affiliation').size()\n",
    "print(f'Names of the party_affiliations of the speakers, and how many of them are affiliated: \\n{party_test}')"
   ]
  },
  {
   "cell_type": "code",
   "execution_count": 8,
   "id": "e1c73505",
   "metadata": {},
   "outputs": [],
   "source": [
    "#Encode new feature \n",
    "data_features.loc[data_features[\"party_group\"] == \"republican\", \"party_group\"] = 0\n",
    "data_features.loc[data_features[\"party_group\"] == \"democrat\", \"party_group\"] = 1\n",
    "data_features.loc[data_features[\"party_group\"] == \"none\", \"party_group\"] = 2\n",
    "data_features.loc[data_features[\"party_group\"] == \"independent\", \"party_group\"] = 2\n",
    "data_features.loc[data_features[\"party_group\"] == \"journalist\", \"party_group\"] = 2\n",
    "data_features.loc[data_features[\"party_group\"] == \"organization\", \"party_group\"] = 2\n",
    "data_features.loc[data_features[\"party_group\"] == \"talk-show-host\", \"party_group\"] = 2\n",
    "data_features.loc[data_features[\"party_group\"] == \"tea-party-member\", \"party_group\"] = 0\n",
    "data_features.loc[data_features[\"party_group\"] == \"activist\", \"party_group\"] = 2\n",
    "data_features.loc[data_features[\"party_group\"] == \"constitution-party\", \"party_group\"] = 0\n",
    "data_features.loc[data_features[\"party_group\"] == \"libertarian\", \"party_group\"] = 0\n",
    "data_features.loc[data_features[\"party_group\"] == \"state-official\", \"party_group\"] = 2\n",
    "data_features.loc[data_features[\"party_group\"] == \"columnist\", \"party_group\"] = 2\n",
    "data_features.loc[data_features[\"party_group\"] == \"newsmaker\", \"party_group\"] = 2\n",
    "data_features.loc[data_features[\"party_group\"] == \"Moderate\", \"party_group\"] = 2\n",
    "data_features.loc[data_features[\"party_group\"] == \"county-commissioner\", \"party_group\"] = 2\n",
    "data_features.loc[data_features[\"party_group\"] == \"green\", \"party_group\"] = 1\n",
    "data_features.loc[data_features[\"party_group\"] == \"liberal-party-canada\", \"party_group\"] = 0\n",
    "data_features.loc[data_features[\"party_group\"] == \"ocean-state-tea-party-action\", \"party_group\"] = 1\n",
    "data_features.loc[data_features[\"party_group\"] == \"government-body\", \"party_group\"] = 2\n",
    "data_features.loc[data_features[\"party_group\"] == \"democratic-farmer-labor\", \"party_group\"] = 1\n",
    "data_features.loc[data_features[\"party_group\"] == \"business-leader\", \"party_group\"] = 0\n",
    "data_features.loc[data_features[\"party_group\"] == \"education-official\", \"party_group\"] = 0\n",
    "data_features.loc[data_features[\"party_group\"] == \"labor-leader\", \"party_group\"] = 1\n",
    "\n",
    "test_features.loc[test_features[\"party_group\"] == \"republican\", \"party_group\"] = 0\n",
    "test_features.loc[test_features[\"party_group\"] == \"democrat\", \"party_group\"] = 1\n",
    "test_features.loc[test_features[\"party_group\"] == \"none\", \"party_group\"] = 2\n",
    "test_features.loc[test_features[\"party_group\"] == \"independent\", \"party_group\"] = 2\n",
    "test_features.loc[test_features[\"party_group\"] == \"journalist\", \"party_group\"] = 2\n",
    "test_features.loc[test_features[\"party_group\"] == \"organization\", \"party_group\"] = 2\n",
    "test_features.loc[test_features[\"party_group\"] == \"talk-show-host\", \"party_group\"] = 2\n",
    "test_features.loc[test_features[\"party_group\"] == \"tea-party-member\", \"party_group\"] = 0\n",
    "test_features.loc[test_features[\"party_group\"] == \"activist\", \"party_group\"] = 2\n",
    "test_features.loc[test_features[\"party_group\"] == \"constitution-party\", \"party_group\"] = 0\n",
    "test_features.loc[test_features[\"party_group\"] == \"libertarian\", \"party_group\"] = 0\n",
    "test_features.loc[test_features[\"party_group\"] == \"state-official\", \"party_group\"] = 2\n",
    "test_features.loc[test_features[\"party_group\"] == \"columnist\", \"party_group\"] = 2\n",
    "test_features.loc[test_features[\"party_group\"] == \"newsmaker\", \"party_group\"] = 2\n",
    "test_features.loc[test_features[\"party_group\"] == \"Moderate\", \"party_group\"] = 2\n",
    "test_features.loc[test_features[\"party_group\"] == \"county-commissioner\", \"party_group\"] = 2\n",
    "test_features.loc[test_features[\"party_group\"] == \"green\", \"party_group\"] = 1\n",
    "test_features.loc[test_features[\"party_group\"] == \"liberal-party-canada\", \"party_group\"] = 0\n",
    "test_features.loc[test_features[\"party_group\"] == \"ocean-state-tea-party-action\", \"party_group\"] = 1\n",
    "test_features.loc[test_features[\"party_group\"] == \"government-body\", \"party_group\"] = 2\n",
    "test_features.loc[test_features[\"party_group\"] == \"democratic-farmer-labor\", \"party_group\"] = 1\n",
    "test_features.loc[test_features[\"party_group\"] == \"business-leader\", \"party_group\"] = 0\n",
    "test_features.loc[test_features[\"party_group\"] == \"education-official\", \"party_group\"] = 0\n",
    "test_features.loc[test_features[\"party_group\"] == \"labor-leader\", \"party_group\"] = 1"
   ]
  },
  {
   "cell_type": "code",
   "execution_count": 9,
   "id": "15c6988f",
   "metadata": {},
   "outputs": [
    {
     "data": {
      "text/html": [
       "<div>\n",
       "<style scoped>\n",
       "    .dataframe tbody tr th:only-of-type {\n",
       "        vertical-align: middle;\n",
       "    }\n",
       "\n",
       "    .dataframe tbody tr th {\n",
       "        vertical-align: top;\n",
       "    }\n",
       "\n",
       "    .dataframe thead th {\n",
       "        text-align: right;\n",
       "    }\n",
       "</style>\n",
       "<table border=\"1\" class=\"dataframe\">\n",
       "  <thead>\n",
       "    <tr style=\"text-align: right;\">\n",
       "      <th></th>\n",
       "      <th>statement</th>\n",
       "      <th>subject</th>\n",
       "      <th>speaker</th>\n",
       "      <th>speaker_job</th>\n",
       "      <th>state_info</th>\n",
       "      <th>party_affiliation</th>\n",
       "      <th>party_group</th>\n",
       "    </tr>\n",
       "  </thead>\n",
       "  <tbody>\n",
       "    <tr>\n",
       "      <th>0</th>\n",
       "      <td>China is in the South China Sea and (building)...</td>\n",
       "      <td>china,foreign-policy,military</td>\n",
       "      <td>donald-trump</td>\n",
       "      <td>President-Elect</td>\n",
       "      <td>New York</td>\n",
       "      <td>republican</td>\n",
       "      <td>0</td>\n",
       "    </tr>\n",
       "    <tr>\n",
       "      <th>1</th>\n",
       "      <td>With the resources it takes to execute just ov...</td>\n",
       "      <td>health-care</td>\n",
       "      <td>chris-dodd</td>\n",
       "      <td>U.S. senator</td>\n",
       "      <td>Connecticut</td>\n",
       "      <td>democrat</td>\n",
       "      <td>1</td>\n",
       "    </tr>\n",
       "    <tr>\n",
       "      <th>2</th>\n",
       "      <td>The (Wisconsin) governor has proposed tax give...</td>\n",
       "      <td>corporations,pundits,taxes,abc-news-week</td>\n",
       "      <td>donna-brazile</td>\n",
       "      <td>Political commentator</td>\n",
       "      <td>Washington, D.C.</td>\n",
       "      <td>democrat</td>\n",
       "      <td>1</td>\n",
       "    </tr>\n",
       "    <tr>\n",
       "      <th>3</th>\n",
       "      <td>Says her representation of an ex-boyfriend who...</td>\n",
       "      <td>candidates-biography,children,ethics,families,...</td>\n",
       "      <td>rebecca-bradley</td>\n",
       "      <td>u.s. senator</td>\n",
       "      <td>unknown</td>\n",
       "      <td>none</td>\n",
       "      <td>2</td>\n",
       "    </tr>\n",
       "    <tr>\n",
       "      <th>4</th>\n",
       "      <td>At protests in Wisconsin against proposed coll...</td>\n",
       "      <td>health-care,labor,state-budget</td>\n",
       "      <td>republican-party-wisconsin</td>\n",
       "      <td>u.s. senator</td>\n",
       "      <td>Wisconsin</td>\n",
       "      <td>republican</td>\n",
       "      <td>0</td>\n",
       "    </tr>\n",
       "  </tbody>\n",
       "</table>\n",
       "</div>"
      ],
      "text/plain": [
       "                                           statement  \\\n",
       "0  China is in the South China Sea and (building)...   \n",
       "1  With the resources it takes to execute just ov...   \n",
       "2  The (Wisconsin) governor has proposed tax give...   \n",
       "3  Says her representation of an ex-boyfriend who...   \n",
       "4  At protests in Wisconsin against proposed coll...   \n",
       "\n",
       "                                             subject  \\\n",
       "0                      china,foreign-policy,military   \n",
       "1                                        health-care   \n",
       "2           corporations,pundits,taxes,abc-news-week   \n",
       "3  candidates-biography,children,ethics,families,...   \n",
       "4                     health-care,labor,state-budget   \n",
       "\n",
       "                      speaker            speaker_job        state_info  \\\n",
       "0                donald-trump        President-Elect          New York   \n",
       "1                  chris-dodd           U.S. senator       Connecticut   \n",
       "2               donna-brazile  Political commentator  Washington, D.C.   \n",
       "3             rebecca-bradley           u.s. senator           unknown   \n",
       "4  republican-party-wisconsin           u.s. senator         Wisconsin   \n",
       "\n",
       "  party_affiliation party_group  \n",
       "0        republican           0  \n",
       "1          democrat           1  \n",
       "2          democrat           1  \n",
       "3              none           2  \n",
       "4        republican           0  "
      ]
     },
     "execution_count": 9,
     "metadata": {},
     "output_type": "execute_result"
    }
   ],
   "source": [
    "data_features.head()"
   ]
  },
  {
   "cell_type": "code",
   "execution_count": 34,
   "id": "491afb6d",
   "metadata": {},
   "outputs": [
    {
     "data": {
      "text/plain": [
       "statement            0\n",
       "subject              0\n",
       "speaker              0\n",
       "speaker_job          0\n",
       "state_info           0\n",
       "party_affiliation    0\n",
       "party_group          0\n",
       "subjectivityRange    0\n",
       "dtype: int64"
      ]
     },
     "execution_count": 34,
     "metadata": {},
     "output_type": "execute_result"
    }
   ],
   "source": [
    "data_features.isnull().sum()"
   ]
  },
  {
   "cell_type": "code",
   "execution_count": 10,
   "id": "fb3baa58",
   "metadata": {},
   "outputs": [
    {
     "data": {
      "text/html": [
       "<div>\n",
       "<style scoped>\n",
       "    .dataframe tbody tr th:only-of-type {\n",
       "        vertical-align: middle;\n",
       "    }\n",
       "\n",
       "    .dataframe tbody tr th {\n",
       "        vertical-align: top;\n",
       "    }\n",
       "\n",
       "    .dataframe thead th {\n",
       "        text-align: right;\n",
       "    }\n",
       "</style>\n",
       "<table border=\"1\" class=\"dataframe\">\n",
       "  <thead>\n",
       "    <tr style=\"text-align: right;\">\n",
       "      <th></th>\n",
       "      <th>statement</th>\n",
       "      <th>subject</th>\n",
       "      <th>speaker</th>\n",
       "      <th>speaker_job</th>\n",
       "      <th>state_info</th>\n",
       "      <th>party_affiliation</th>\n",
       "      <th>party_group</th>\n",
       "      <th>subjectivity</th>\n",
       "    </tr>\n",
       "  </thead>\n",
       "  <tbody>\n",
       "    <tr>\n",
       "      <th>0</th>\n",
       "      <td>China is in the South China Sea and (building)...</td>\n",
       "      <td>china,foreign-policy,military</td>\n",
       "      <td>donald-trump</td>\n",
       "      <td>President-Elect</td>\n",
       "      <td>New York</td>\n",
       "      <td>republican</td>\n",
       "      <td>0</td>\n",
       "      <td>0.100000</td>\n",
       "    </tr>\n",
       "    <tr>\n",
       "      <th>1</th>\n",
       "      <td>With the resources it takes to execute just ov...</td>\n",
       "      <td>health-care</td>\n",
       "      <td>chris-dodd</td>\n",
       "      <td>U.S. senator</td>\n",
       "      <td>Connecticut</td>\n",
       "      <td>democrat</td>\n",
       "      <td>1</td>\n",
       "      <td>0.000000</td>\n",
       "    </tr>\n",
       "    <tr>\n",
       "      <th>2</th>\n",
       "      <td>The (Wisconsin) governor has proposed tax give...</td>\n",
       "      <td>corporations,pundits,taxes,abc-news-week</td>\n",
       "      <td>donna-brazile</td>\n",
       "      <td>Political commentator</td>\n",
       "      <td>Washington, D.C.</td>\n",
       "      <td>democrat</td>\n",
       "      <td>1</td>\n",
       "      <td>0.000000</td>\n",
       "    </tr>\n",
       "    <tr>\n",
       "      <th>3</th>\n",
       "      <td>Says her representation of an ex-boyfriend who...</td>\n",
       "      <td>candidates-biography,children,ethics,families,...</td>\n",
       "      <td>rebecca-bradley</td>\n",
       "      <td>u.s. senator</td>\n",
       "      <td>unknown</td>\n",
       "      <td>none</td>\n",
       "      <td>2</td>\n",
       "      <td>0.076923</td>\n",
       "    </tr>\n",
       "    <tr>\n",
       "      <th>4</th>\n",
       "      <td>At protests in Wisconsin against proposed coll...</td>\n",
       "      <td>health-care,labor,state-budget</td>\n",
       "      <td>republican-party-wisconsin</td>\n",
       "      <td>u.s. senator</td>\n",
       "      <td>Wisconsin</td>\n",
       "      <td>republican</td>\n",
       "      <td>0</td>\n",
       "      <td>0.635714</td>\n",
       "    </tr>\n",
       "  </tbody>\n",
       "</table>\n",
       "</div>"
      ],
      "text/plain": [
       "                                           statement  \\\n",
       "0  China is in the South China Sea and (building)...   \n",
       "1  With the resources it takes to execute just ov...   \n",
       "2  The (Wisconsin) governor has proposed tax give...   \n",
       "3  Says her representation of an ex-boyfriend who...   \n",
       "4  At protests in Wisconsin against proposed coll...   \n",
       "\n",
       "                                             subject  \\\n",
       "0                      china,foreign-policy,military   \n",
       "1                                        health-care   \n",
       "2           corporations,pundits,taxes,abc-news-week   \n",
       "3  candidates-biography,children,ethics,families,...   \n",
       "4                     health-care,labor,state-budget   \n",
       "\n",
       "                      speaker            speaker_job        state_info  \\\n",
       "0                donald-trump        President-Elect          New York   \n",
       "1                  chris-dodd           U.S. senator       Connecticut   \n",
       "2               donna-brazile  Political commentator  Washington, D.C.   \n",
       "3             rebecca-bradley           u.s. senator           unknown   \n",
       "4  republican-party-wisconsin           u.s. senator         Wisconsin   \n",
       "\n",
       "  party_affiliation party_group  subjectivity  \n",
       "0        republican           0      0.100000  \n",
       "1          democrat           1      0.000000  \n",
       "2          democrat           1      0.000000  \n",
       "3              none           2      0.076923  \n",
       "4        republican           0      0.635714  "
      ]
     },
     "execution_count": 10,
     "metadata": {},
     "output_type": "execute_result"
    }
   ],
   "source": [
    "from textblob import TextBlob\n",
    "\n",
    "data_features[\"subjectivity\"] = data_features[\"statement\"].apply(lambda x: \n",
    "                   TextBlob(x).sentiment.subjectivity)\n",
    "test_features[\"subjectivity\"] = test_features[\"statement\"].apply(lambda x: \n",
    "                   TextBlob(x).sentiment.subjectivity)\n",
    "data_features.head()"
   ]
  },
  {
   "cell_type": "code",
   "execution_count": 11,
   "id": "758f9395",
   "metadata": {},
   "outputs": [
    {
     "data": {
      "text/html": [
       "<div>\n",
       "<style scoped>\n",
       "    .dataframe tbody tr th:only-of-type {\n",
       "        vertical-align: middle;\n",
       "    }\n",
       "\n",
       "    .dataframe tbody tr th {\n",
       "        vertical-align: top;\n",
       "    }\n",
       "\n",
       "    .dataframe thead th {\n",
       "        text-align: right;\n",
       "    }\n",
       "</style>\n",
       "<table border=\"1\" class=\"dataframe\">\n",
       "  <thead>\n",
       "    <tr style=\"text-align: right;\">\n",
       "      <th></th>\n",
       "      <th>statement</th>\n",
       "      <th>subject</th>\n",
       "      <th>speaker</th>\n",
       "      <th>speaker_job</th>\n",
       "      <th>state_info</th>\n",
       "      <th>party_affiliation</th>\n",
       "      <th>party_group</th>\n",
       "      <th>subjectivityRange</th>\n",
       "    </tr>\n",
       "  </thead>\n",
       "  <tbody>\n",
       "    <tr>\n",
       "      <th>0</th>\n",
       "      <td>China is in the South China Sea and (building)...</td>\n",
       "      <td>china,foreign-policy,military</td>\n",
       "      <td>donald-trump</td>\n",
       "      <td>President-Elect</td>\n",
       "      <td>New York</td>\n",
       "      <td>republican</td>\n",
       "      <td>0</td>\n",
       "      <td>4.0</td>\n",
       "    </tr>\n",
       "    <tr>\n",
       "      <th>1</th>\n",
       "      <td>With the resources it takes to execute just ov...</td>\n",
       "      <td>health-care</td>\n",
       "      <td>chris-dodd</td>\n",
       "      <td>U.S. senator</td>\n",
       "      <td>Connecticut</td>\n",
       "      <td>democrat</td>\n",
       "      <td>1</td>\n",
       "      <td>4.0</td>\n",
       "    </tr>\n",
       "    <tr>\n",
       "      <th>2</th>\n",
       "      <td>The (Wisconsin) governor has proposed tax give...</td>\n",
       "      <td>corporations,pundits,taxes,abc-news-week</td>\n",
       "      <td>donna-brazile</td>\n",
       "      <td>Political commentator</td>\n",
       "      <td>Washington, D.C.</td>\n",
       "      <td>democrat</td>\n",
       "      <td>1</td>\n",
       "      <td>4.0</td>\n",
       "    </tr>\n",
       "    <tr>\n",
       "      <th>3</th>\n",
       "      <td>Says her representation of an ex-boyfriend who...</td>\n",
       "      <td>candidates-biography,children,ethics,families,...</td>\n",
       "      <td>rebecca-bradley</td>\n",
       "      <td>u.s. senator</td>\n",
       "      <td>unknown</td>\n",
       "      <td>none</td>\n",
       "      <td>2</td>\n",
       "      <td>4.0</td>\n",
       "    </tr>\n",
       "    <tr>\n",
       "      <th>4</th>\n",
       "      <td>At protests in Wisconsin against proposed coll...</td>\n",
       "      <td>health-care,labor,state-budget</td>\n",
       "      <td>republican-party-wisconsin</td>\n",
       "      <td>u.s. senator</td>\n",
       "      <td>Wisconsin</td>\n",
       "      <td>republican</td>\n",
       "      <td>0</td>\n",
       "      <td>1.0</td>\n",
       "    </tr>\n",
       "  </tbody>\n",
       "</table>\n",
       "</div>"
      ],
      "text/plain": [
       "                                           statement  \\\n",
       "0  China is in the South China Sea and (building)...   \n",
       "1  With the resources it takes to execute just ov...   \n",
       "2  The (Wisconsin) governor has proposed tax give...   \n",
       "3  Says her representation of an ex-boyfriend who...   \n",
       "4  At protests in Wisconsin against proposed coll...   \n",
       "\n",
       "                                             subject  \\\n",
       "0                      china,foreign-policy,military   \n",
       "1                                        health-care   \n",
       "2           corporations,pundits,taxes,abc-news-week   \n",
       "3  candidates-biography,children,ethics,families,...   \n",
       "4                     health-care,labor,state-budget   \n",
       "\n",
       "                      speaker            speaker_job        state_info  \\\n",
       "0                donald-trump        President-Elect          New York   \n",
       "1                  chris-dodd           U.S. senator       Connecticut   \n",
       "2               donna-brazile  Political commentator  Washington, D.C.   \n",
       "3             rebecca-bradley           u.s. senator           unknown   \n",
       "4  republican-party-wisconsin           u.s. senator         Wisconsin   \n",
       "\n",
       "  party_affiliation party_group  subjectivityRange  \n",
       "0        republican           0                4.0  \n",
       "1          democrat           1                4.0  \n",
       "2          democrat           1                4.0  \n",
       "3              none           2                4.0  \n",
       "4        republican           0                1.0  "
      ]
     },
     "execution_count": 11,
     "metadata": {},
     "output_type": "execute_result"
    }
   ],
   "source": [
    "data_features.loc[data_features['subjectivity'] >= 0.8, 'subjectivityRange'] = int(0)\n",
    "data_features.loc[(data_features['subjectivity'] < 0.8) & (data_features['subjectivity'] >= 0.6), 'subjectivityRange'] = int(1)\n",
    "data_features.loc[(data_features['subjectivity'] < 0.6) & (data_features['subjectivity'] >= 0.4), 'subjectivityRange'] = int(2)\n",
    "data_features.loc[(data_features['subjectivity'] < 0.4) & (data_features['subjectivity'] >= 0.2), 'subjectivityRange'] = int(3)\n",
    "data_features.loc[data_features['subjectivity'] < 0.2, 'subjectivityRange'] = int(4)\n",
    "\n",
    "data_features.drop('subjectivity', axis=1, inplace=True)\n",
    "data_features.head()"
   ]
  },
  {
   "cell_type": "code",
   "execution_count": 12,
   "id": "bbaece42",
   "metadata": {},
   "outputs": [
    {
     "data": {
      "text/html": [
       "<div>\n",
       "<style scoped>\n",
       "    .dataframe tbody tr th:only-of-type {\n",
       "        vertical-align: middle;\n",
       "    }\n",
       "\n",
       "    .dataframe tbody tr th {\n",
       "        vertical-align: top;\n",
       "    }\n",
       "\n",
       "    .dataframe thead th {\n",
       "        text-align: right;\n",
       "    }\n",
       "</style>\n",
       "<table border=\"1\" class=\"dataframe\">\n",
       "  <thead>\n",
       "    <tr style=\"text-align: right;\">\n",
       "      <th></th>\n",
       "      <th>statement</th>\n",
       "      <th>subject</th>\n",
       "      <th>speaker</th>\n",
       "      <th>speaker_job</th>\n",
       "      <th>state_info</th>\n",
       "      <th>party_affiliation</th>\n",
       "      <th>party_group</th>\n",
       "      <th>subjectivityRange</th>\n",
       "    </tr>\n",
       "  </thead>\n",
       "  <tbody>\n",
       "    <tr>\n",
       "      <th>0</th>\n",
       "      <td>Five members of [the Common Cause Georgia] boa...</td>\n",
       "      <td>campaign-finance,ethics,government-regulation</td>\n",
       "      <td>kasim-reed</td>\n",
       "      <td>u.s. senator</td>\n",
       "      <td>unknown</td>\n",
       "      <td>democrat</td>\n",
       "      <td>1</td>\n",
       "      <td>2.0</td>\n",
       "    </tr>\n",
       "    <tr>\n",
       "      <th>1</th>\n",
       "      <td>Theres no negative advertising in my campaign ...</td>\n",
       "      <td>elections</td>\n",
       "      <td>bill-mccollum</td>\n",
       "      <td>u.s. senator</td>\n",
       "      <td>Florida</td>\n",
       "      <td>republican</td>\n",
       "      <td>0</td>\n",
       "      <td>2.0</td>\n",
       "    </tr>\n",
       "    <tr>\n",
       "      <th>2</th>\n",
       "      <td>Leticia Van de Putte voted to give illegal imm...</td>\n",
       "      <td>health-care,immigration,public-health</td>\n",
       "      <td>dan-patrick</td>\n",
       "      <td>Lieutenant governor-elect</td>\n",
       "      <td>Texas</td>\n",
       "      <td>republican</td>\n",
       "      <td>0</td>\n",
       "      <td>1.0</td>\n",
       "    </tr>\n",
       "    <tr>\n",
       "      <th>3</th>\n",
       "      <td>Fiorinas plan would mean slashing Social Secur...</td>\n",
       "      <td>federal-budget,medicare,social-security</td>\n",
       "      <td>barbara-boxer</td>\n",
       "      <td>U.S. Senator</td>\n",
       "      <td>California</td>\n",
       "      <td>democrat</td>\n",
       "      <td>1</td>\n",
       "      <td>3.0</td>\n",
       "    </tr>\n",
       "    <tr>\n",
       "      <th>4</th>\n",
       "      <td>By the end of his first term, President Obama ...</td>\n",
       "      <td>federal-budget,new-hampshire-2012</td>\n",
       "      <td>mitt-romney</td>\n",
       "      <td>Former governor</td>\n",
       "      <td>Massachusetts</td>\n",
       "      <td>republican</td>\n",
       "      <td>0</td>\n",
       "      <td>4.0</td>\n",
       "    </tr>\n",
       "  </tbody>\n",
       "</table>\n",
       "</div>"
      ],
      "text/plain": [
       "                                           statement  \\\n",
       "0  Five members of [the Common Cause Georgia] boa...   \n",
       "1  Theres no negative advertising in my campaign ...   \n",
       "2  Leticia Van de Putte voted to give illegal imm...   \n",
       "3  Fiorinas plan would mean slashing Social Secur...   \n",
       "4  By the end of his first term, President Obama ...   \n",
       "\n",
       "                                         subject        speaker  \\\n",
       "0  campaign-finance,ethics,government-regulation     kasim-reed   \n",
       "1                                      elections  bill-mccollum   \n",
       "2          health-care,immigration,public-health    dan-patrick   \n",
       "3        federal-budget,medicare,social-security  barbara-boxer   \n",
       "4              federal-budget,new-hampshire-2012    mitt-romney   \n",
       "\n",
       "                 speaker_job     state_info party_affiliation party_group  \\\n",
       "0               u.s. senator        unknown          democrat           1   \n",
       "1               u.s. senator        Florida        republican           0   \n",
       "2  Lieutenant governor-elect          Texas        republican           0   \n",
       "3               U.S. Senator     California          democrat           1   \n",
       "4            Former governor  Massachusetts        republican           0   \n",
       "\n",
       "   subjectivityRange  \n",
       "0                2.0  \n",
       "1                2.0  \n",
       "2                1.0  \n",
       "3                3.0  \n",
       "4                4.0  "
      ]
     },
     "execution_count": 12,
     "metadata": {},
     "output_type": "execute_result"
    }
   ],
   "source": [
    "test_features.loc[test_features['subjectivity'] >= 0.8, 'subjectivityRange'] = int(0)\n",
    "test_features.loc[(test_features['subjectivity'] < 0.8) & (test_features['subjectivity'] >= 0.6), 'subjectivityRange'] = int(1)\n",
    "test_features.loc[(test_features['subjectivity'] < 0.6) & (test_features['subjectivity'] >= 0.4), 'subjectivityRange'] = int(2)\n",
    "test_features.loc[(test_features['subjectivity'] < 0.4) & (test_features['subjectivity'] >= 0.2), 'subjectivityRange'] = int(3)\n",
    "test_features.loc[test_features['subjectivity'] < 0.2, 'subjectivityRange'] = int(4)\n",
    "\n",
    "test_features.drop('subjectivity', axis=1, inplace=True)\n",
    "test_features.head()"
   ]
  },
  {
   "cell_type": "markdown",
   "id": "44615301",
   "metadata": {},
   "source": [
    "<span style='color:mediumpurple'><font size=\"6\">__Natural Language Processing__</font></span><br>\n",
    "\n",
    "\n",
    "<span style='color:steelblue'><font size=\"4\">__Defining functions for string processing__</font></span><br>\n",
    "\n",
    "In our transformers will perform the following tasks:\n",
    "- split the sentences \n",
    "- split the words\n",
    "- remove stop words \n",
    "- remove the punctuation\n",
    "- modify capital letters in lowercases\n",
    "- remove morphological affixes with stemmers, leaving only the word stem \n",
    "- we also perform POS tagging which assigns a grammatical category to a word\n",
    "- transform the text into numerical feature vectors using vectorizer "
   ]
  },
  {
   "cell_type": "code",
   "execution_count": 13,
   "id": "dd287f8f",
   "metadata": {},
   "outputs": [],
   "source": [
    "# Generic Transformer \n",
    "class GenericTransformer(BaseEstimator, TransformerMixin):\n",
    "\n",
    "    def transform(self, X, y=None):\n",
    "        return do_something_to(X, self.vars)  # where the actual feature extraction happens\n",
    "\n",
    "    def fit(self, X, y=None):\n",
    "        return self  # used if the feature requires training, for example, clustering\n",
    "    \n",
    "    \n",
    "    \n",
    "class LexicalStats (BaseEstimator, TransformerMixin):\n",
    "    \"\"\"Extract lexical features from each document\"\"\"\n",
    "    \n",
    "    def number_sentences(self, doc):\n",
    "        sentences = sent_tokenize(doc, language='english')\n",
    "        return len(sentences)\n",
    "\n",
    "    def fit(self, x, y=None):\n",
    "        return self\n",
    "\n",
    "    def transform(self, docs):\n",
    "        return [{'length': len(doc),\n",
    "                 'num_sentences': self.number_sentences(doc)}\n",
    "                for doc in docs]\n",
    "    \n",
    "def custom_tokenizer(words):\n",
    "    \"\"\"Preprocessing tokens as seen in the lexical notebook\"\"\"\n",
    "    tokens = word_tokenize(words.lower())\n",
    "    porter = PorterStemmer()\n",
    "    lemmas = [porter.stem(t) for t in tokens]\n",
    "    stoplist = stopwords.words('english')\n",
    "    lemmas_clean = [w for w in lemmas if w not in stoplist]\n",
    "    punctuation = set(string.punctuation)\n",
    "    lemmas_punct = [w for w in lemmas_clean if  w not in punctuation]\n",
    "    return lemmas_punct\n",
    "\n",
    "class PosStats(BaseEstimator, TransformerMixin):\n",
    "    \"\"\"Obtain number of tokens with POS categories\"\"\"\n",
    "\n",
    "    def stats(self, doc):\n",
    "        tokens = custom_tokenizer(doc)\n",
    "        tagged = pos_tag(tokens, tagset='universal')\n",
    "        counts = Counter(tag for word,tag in tagged)\n",
    "        total = sum(counts.values())\n",
    "        #copy tags so that we return always the same number of features\n",
    "        pos_features = {'NOUN': 0, 'ADJ': 0, 'VERB': 0, 'ADV': 0, 'CONJ': 0, \n",
    "                        'ADP': 0, 'PRON':0, 'NUM': 0}\n",
    "        \n",
    "        pos_dic = dict((tag, float(count)/total) for tag,count in counts.items())\n",
    "        for k in pos_dic:\n",
    "            if k in pos_features:\n",
    "                pos_features[k] = pos_dic[k]\n",
    "        return pos_features\n",
    "    \n",
    "    def transform(self, docs, y=None):\n",
    "        return [self.stats(doc) for doc in docs]\n",
    "    \n",
    "    def fit(self, docs, y=None):\n",
    "        \"\"\"Returns `self` unless something different happens in train and test\"\"\"\n",
    "        return self\n",
    "    \n",
    "ngrams_featurizer = Pipeline([\n",
    "  ('count_vectorizer',  CountVectorizer(ngram_range = (1, 3), encoding = 'ISO-8859-1', \n",
    "                                        tokenizer=custom_tokenizer)),\n",
    "  ('tfidf_transformer', TfidfTransformer())\n",
    "])"
   ]
  },
  {
   "cell_type": "code",
   "execution_count": 14,
   "id": "d2de476e",
   "metadata": {},
   "outputs": [],
   "source": [
    "transformer = FeatureUnion([\n",
    "                    ('lexical_stats', Pipeline([\n",
    "                                ('stats', LexicalStats()),\n",
    "                                ('vectors', DictVectorizer())\n",
    "                            ])),\n",
    "                    ('words', TfidfVectorizer(tokenizer=custom_tokenizer)),\n",
    "                    ('ngrams', ngrams_featurizer),\n",
    "                    ('pos_stats', Pipeline([\n",
    "                                ('pos_stats', PosStats()),\n",
    "                                ('vectors', DictVectorizer())\n",
    "                            ])),\n",
    "                    ('lda', Pipeline([ \n",
    "                                ('count', CountVectorizer(tokenizer=custom_tokenizer)),\n",
    "                                ('lda',  LatentDirichletAllocation(n_components=4, max_iter=5,\n",
    "                                                       learning_method='online', \n",
    "                                                       learning_offset=50.,\n",
    "                                                       random_state=0))\n",
    "                            ])),\n",
    "                ])"
   ]
  },
  {
   "cell_type": "code",
   "execution_count": 74,
   "id": "bc32f9a7",
   "metadata": {},
   "outputs": [],
   "source": [
    "class IdentityTransformer(BaseEstimator, TransformerMixin):\n",
    "    def __init__(self):\n",
    "        pass \n",
    "    \n",
    "    def fit(self, input_array, y=None):\n",
    "        return self\n",
    "    \n",
    "    def transform(self, input_array, y=None):\n",
    "        return input_array.reshape(-1, 1)"
   ]
  },
  {
   "cell_type": "code",
   "execution_count": 75,
   "id": "65d41892",
   "metadata": {},
   "outputs": [],
   "source": [
    "from sklearn.preprocessing import OneHotEncoder\n",
    "\n",
    "identityTransformer = FeatureUnion([\n",
    "                           ('identity', Pipeline([\n",
    "                               ('id', IdentityTransformer()),  \n",
    "                               ('scaler', StandardScaler())\n",
    "                        ]))\n",
    "                ])"
   ]
  },
  {
   "cell_type": "markdown",
   "id": "2f323a15",
   "metadata": {},
   "source": [
    "<span style='color:steelblue'><font size=\"4\">__Applying the processing techniques on all the features using ColumnTransformer :__</font></span><br>\n",
    "\n",
    "\n",
    "__ColumnTransformer__ applies transformers to the columns of our dataset. This will allow to transform each acolumn separytely and then to concatenate them to form a single feature space. "
   ]
  },
  {
   "cell_type": "code",
   "execution_count": 92,
   "id": "caa9e878",
   "metadata": {},
   "outputs": [],
   "source": [
    "from sklearn.preprocessing import OrdinalEncoder\n",
    "col_preprocessor = ColumnTransformer(\n",
    "        [\n",
    "            ('title_glove', transformer, 'statement'),\n",
    "            ('description_glove', transformer, 'subject'),\n",
    "            ('speaker_glove', transformer, 'speaker'),\n",
    "            ('speakerjob_glove', transformer, 'speaker_job'),\n",
    "            ('stateinfo_glove', transformer, 'state_info'),\n",
    "            ('party_glove', transformer, 'party_affiliation')\n",
    "            \n",
    "],\n",
    "        remainder='passthrough',\n",
    "        n_jobs=1\n",
    "        )"
   ]
  },
  {
   "cell_type": "markdown",
   "id": "50b4d36a",
   "metadata": {},
   "source": [
    "<span style='color:mediumpurple'><font size=\"6\">__Machine Learning algorithm__</font></span><br>\n",
    "\n",
    "In this section we are going to use pipelines to extract our features. \n",
    "Moreover we are going to implement different __pipelines__ that use different classifier in order to deduct which one is the best. In order to achieve this, we will create 2 matrix with the output of the pipelines. One will have the labels predicted with the test features. We will use this first one for the precitions. The second matrix will be composed of the lables predicted with the train features. This matrix will be used as a training set to perform a second classification by the 3 algorithm into the __Voting classifier__. "
   ]
  },
  {
   "cell_type": "markdown",
   "id": "fd6e3a5c",
   "metadata": {},
   "source": [
    "<span style='color:steelblue'><font size=\"4\">__Classifier insertion into the pipeline:__</font></span><br>"
   ]
  },
  {
   "cell_type": "code",
   "execution_count": 93,
   "id": "a9a62fa4",
   "metadata": {},
   "outputs": [],
   "source": [
    "pipeline1 = Pipeline([\n",
    "    ('col_preprocessor', col_preprocessor), \n",
    "    ('classifier', MultinomialNB(alpha=.01))\n",
    "])"
   ]
  },
  {
   "cell_type": "markdown",
   "id": "0d4ef6d3",
   "metadata": {},
   "source": [
    "<span style='color:steelblue'><font size=\"4\">__Training :__</font></span><br>"
   ]
  },
  {
   "cell_type": "code",
   "execution_count": 94,
   "id": "fc0825f8",
   "metadata": {},
   "outputs": [],
   "source": [
    "pipeline1.fit(data_features, target)\n",
    "y_p1 = pipeline1.predict(test_features)\n",
    "y_1 = pipeline1.predict(data_features)"
   ]
  },
  {
   "cell_type": "markdown",
   "id": "5c8dd7c3",
   "metadata": {},
   "source": [
    "Now we will create 3 other pipelines but using 3 different classifiers: Decision tree and kNN."
   ]
  },
  {
   "cell_type": "code",
   "execution_count": 95,
   "id": "fa7d7f3f",
   "metadata": {},
   "outputs": [],
   "source": [
    "pipeline2 = Pipeline([\n",
    "    ('col_preprocessor', col_preprocessor), \n",
    "    ('classifier', DecisionTreeClassifier(random_state= 22, max_leaf_nodes = 10, max_depth =3))\n",
    "     ])\n",
    "\n",
    "pipeline2.fit(data_features, target)\n",
    "y_p2 = pipeline2.predict(test_features)\n",
    "y_2 = pipeline2.predict(data_features)"
   ]
  },
  {
   "cell_type": "code",
   "execution_count": 96,
   "id": "5f39aa99",
   "metadata": {},
   "outputs": [],
   "source": [
    "pipeline3 = Pipeline([\n",
    "    ('col_preprocessor', col_preprocessor), \n",
    "    ('classifier', KNeighborsClassifier(algorithm='auto', leaf_size=30, metric='minkowski',\n",
    "                                        metric_params=None, n_jobs=None, n_neighbors=5, \n",
    "                                        p=2, weights='uniform'))\n",
    "    ])\n",
    "\n",
    "pipeline3.fit(data_features, target)\n",
    "y_p3 = pipeline3.predict(test_features)\n",
    "y_3 = pipeline3.predict(data_features)"
   ]
  },
  {
   "cell_type": "markdown",
   "id": "a74755f0",
   "metadata": {},
   "source": [
    "Here we are going to create the matrix with the outputs of the 3 pipelines. "
   ]
  },
  {
   "cell_type": "code",
   "execution_count": 97,
   "id": "2138a80b",
   "metadata": {},
   "outputs": [
    {
     "name": "stdout",
     "output_type": "stream",
     "text": [
      "[[1 0 1]\n",
      " [1 1 1]\n",
      " [1 1 0]\n",
      " ...\n",
      " [0 1 1]\n",
      " [0 1 0]\n",
      " [1 1 1]]\n"
     ]
    },
    {
     "data": {
      "text/plain": [
       "(3836, 3)"
      ]
     },
     "execution_count": 97,
     "metadata": {},
     "output_type": "execute_result"
    }
   ],
   "source": [
    "y_pt = np.array([y_p1,y_p2,y_p3])\n",
    "y_p = np.transpose(y_pt)\n",
    "print(y_p)\n",
    "y_p.shape"
   ]
  },
  {
   "cell_type": "markdown",
   "id": "0ed5cc69",
   "metadata": {},
   "source": [
    "y_p will be used for the predictions later. "
   ]
  },
  {
   "cell_type": "code",
   "execution_count": 98,
   "id": "0f86e5b9",
   "metadata": {},
   "outputs": [
    {
     "name": "stdout",
     "output_type": "stream",
     "text": [
      "[[1 1 1]\n",
      " [0 0 0]\n",
      " [0 0 1]\n",
      " ...\n",
      " [0 1 1]\n",
      " [1 1 1]\n",
      " [0 1 0]]\n"
     ]
    },
    {
     "data": {
      "text/plain": [
       "(8950, 3)"
      ]
     },
     "execution_count": 98,
     "metadata": {},
     "output_type": "execute_result"
    }
   ],
   "source": [
    "y_tt = np.array([y_1,y_2,y_3])\n",
    "y_t = np.transpose(y_tt)\n",
    "print(y_t)\n",
    "y_t.shape"
   ]
  },
  {
   "cell_type": "markdown",
   "id": "c559b6f4",
   "metadata": {},
   "source": [
    "y_t will be used as a training set later. "
   ]
  },
  {
   "cell_type": "markdown",
   "id": "39c197c7",
   "metadata": {},
   "source": [
    "<span style='color:mediumpurple'><font size=\"6\">__Ensemble Algorithms__</font></span><br>"
   ]
  },
  {
   "cell_type": "markdown",
   "id": "11a60f8c",
   "metadata": {},
   "source": [
    "<span style='color:steelblue'><font size=\"4\">MultinomialNB</font></span><br>"
   ]
  },
  {
   "cell_type": "code",
   "execution_count": 121,
   "id": "11ee8c54",
   "metadata": {},
   "outputs": [],
   "source": [
    "MNB_clf = MultinomialNB(alpha=0.0001)\n",
    "MNB_clf.fit(y_t, target)\n",
    "y_predicted = MNB_clf.predict(y_p)"
   ]
  },
  {
   "cell_type": "markdown",
   "id": "ea704c16",
   "metadata": {},
   "source": [
    "<span style='color:steelblue'><font size=\"4\">Decision Tree</font></span><br>"
   ]
  },
  {
   "cell_type": "code",
   "execution_count": 122,
   "id": "d67fb793",
   "metadata": {},
   "outputs": [],
   "source": [
    "DT_clf = DecisionTreeClassifier(random_state=7, criterion='entropy', min_samples_split=5, max_depth=1)\n",
    "DT_clf.fit(y_t,target)\n",
    "y_predicted = DT_clf.predict(y_p)"
   ]
  },
  {
   "cell_type": "markdown",
   "id": "b2a97751",
   "metadata": {},
   "source": [
    "<span style='color:steelblue'><font size=\"4\">kNN</font></span><br>"
   ]
  },
  {
   "cell_type": "code",
   "execution_count": 123,
   "id": "389dc4c8",
   "metadata": {},
   "outputs": [],
   "source": [
    "kNN_clf = KNeighborsClassifier(n_neighbors= 7, weights='uniform', algorithm='brute')\n",
    "kNN_clf.fit(y_t,target)\n",
    "y_predicted = kNN_clf.predict(y_p)"
   ]
  },
  {
   "cell_type": "markdown",
   "id": "2436dea3",
   "metadata": {},
   "source": [
    "<span style='color:steelblue'><font size=\"4\">__Voting classifier__</font></span><br>"
   ]
  },
  {
   "cell_type": "code",
   "execution_count": 124,
   "id": "c4642a4b",
   "metadata": {},
   "outputs": [
    {
     "data": {
      "text/plain": [
       "VotingClassifier(estimators=[('MultinomialNB', MultinomialNB(alpha=0.0001)),\n",
       "                             ('DecisionTree',\n",
       "                              DecisionTreeClassifier(criterion='entropy',\n",
       "                                                     max_depth=1,\n",
       "                                                     min_samples_split=5,\n",
       "                                                     random_state=7)),\n",
       "                             ('kNN',\n",
       "                              KNeighborsClassifier(algorithm='brute',\n",
       "                                                   n_neighbors=7))])"
      ]
     },
     "execution_count": 124,
     "metadata": {},
     "output_type": "execute_result"
    }
   ],
   "source": [
    "VotingModel = VotingClassifier(estimators=[('MultinomialNB', MNB_clf),('DecisionTree', DT_clf), ('kNN', kNN_clf)])\n",
    "VotingModel.fit(y_t, target)"
   ]
  },
  {
   "cell_type": "markdown",
   "id": "cf45fd27",
   "metadata": {},
   "source": [
    "<span style='color:mediumpurple'><font size=\"6\">__Hyperparameter tuning using Genetic Algorithm__</font></span><br>"
   ]
  },
  {
   "cell_type": "markdown",
   "id": "3170ef06",
   "metadata": {},
   "source": [
    "<span style='color:steelblue'><font size=\"4\">MultinomialNB</font></span><br>"
   ]
  },
  {
   "cell_type": "code",
   "execution_count": 114,
   "id": "872a009e",
   "metadata": {},
   "outputs": [],
   "source": [
    "param_grid_MNB = [{'alpha': np.arange(0.0, 0.8),    \n",
    "                    }]"
   ]
  },
  {
   "cell_type": "code",
   "execution_count": 115,
   "id": "5570603a",
   "metadata": {},
   "outputs": [
    {
     "name": "stdout",
     "output_type": "stream",
     "text": [
      "Types [2] and maxint [0] detected\n",
      "--- Evolve in 1 possible combinations ---\n",
      "gen\tnevals\tavg     \tmin     \tmax     \tstd        \n",
      "0  \t50    \t0.781788\t0.781788\t0.781788\t1.11022e-16\n",
      "1  \t32    \t0.781788\t0.781788\t0.781788\t1.11022e-16\n",
      "2  \t35    \t0.781788\t0.781788\t0.781788\t1.11022e-16\n",
      "3  \t31    \t0.781788\t0.781788\t0.781788\t1.11022e-16\n",
      "4  \t23    \t0.781788\t0.781788\t0.781788\t1.11022e-16\n",
      "5  \t33    \t0.781788\t0.781788\t0.781788\t1.11022e-16\n",
      "6  \t29    \t0.781788\t0.781788\t0.781788\t1.11022e-16\n",
      "7  \t36    \t0.781788\t0.781788\t0.781788\t1.11022e-16\n",
      "8  \t27    \t0.781788\t0.781788\t0.781788\t1.11022e-16\n",
      "9  \t25    \t0.781788\t0.781788\t0.781788\t1.11022e-16\n",
      "10 \t30    \t0.781788\t0.781788\t0.781788\t1.11022e-16\n",
      "Best individual is: {'alpha': 0.0}\n",
      "with fitness: 0.7817877094972067\n",
      "CPU times: user 56.9 ms, sys: 5.25 ms, total: 62.2 ms\n",
      "Wall time: 60.1 ms\n"
     ]
    },
    {
     "name": "stderr",
     "output_type": "stream",
     "text": [
      "/Users/chloe/opt/anaconda3/lib/python3.9/site-packages/deap/creator.py:138: RuntimeWarning: A class named 'FitnessMax' has already been created and it will be overwritten. Consider deleting previous creation of that class or rename it.\n",
      "  warnings.warn(\"A class named '{0}' has already been created and it \"\n",
      "/Users/chloe/opt/anaconda3/lib/python3.9/site-packages/deap/creator.py:138: RuntimeWarning: A class named 'Individual' has already been created and it will be overwritten. Consider deleting previous creation of that class or rename it.\n",
      "  warnings.warn(\"A class named '{0}' has already been created and it \"\n",
      "/Users/chloe/opt/anaconda3/lib/python3.9/site-packages/sklearn/naive_bayes.py:555: UserWarning: alpha too small will result in numeric errors, setting alpha = 1.0e-10\n",
      "  warnings.warn(\n",
      "/Users/chloe/opt/anaconda3/lib/python3.9/site-packages/sklearn/naive_bayes.py:555: UserWarning: alpha too small will result in numeric errors, setting alpha = 1.0e-10\n",
      "  warnings.warn(\n",
      "/Users/chloe/opt/anaconda3/lib/python3.9/site-packages/sklearn/naive_bayes.py:555: UserWarning: alpha too small will result in numeric errors, setting alpha = 1.0e-10\n",
      "  warnings.warn(\n"
     ]
    }
   ],
   "source": [
    "MNB_GA = EvolutionaryAlgorithmSearchCV(estimator=MultinomialNB(),\n",
    "                                       params=param_grid_MNB,\n",
    "                                       scoring=\"accuracy\",\n",
    "                                       cv=StratifiedKFold(n_splits=2),\n",
    "                                       verbose=True,\n",
    "                                       population_size=50,\n",
    "                                       gene_mutation_prob=0.10,\n",
    "                                       tournament_size=20,\n",
    "                                       generations_number=10)\n",
    "%time MNB_GA.fit(y_t, target)"
   ]
  },
  {
   "cell_type": "markdown",
   "id": "26a6ae42",
   "metadata": {},
   "source": [
    "<span style='color:steelblue'><font size=\"4\">Decision Tree</font></span><br>"
   ]
  },
  {
   "cell_type": "code",
   "execution_count": 116,
   "id": "a408ac84",
   "metadata": {},
   "outputs": [],
   "source": [
    "param_grid_DT = [{'random_state' : np.arange(0,10),\n",
    "                  'criterion' : ['gini', 'entropy'],\n",
    "                  'min_samples_split' : np.arange(2,6), \n",
    "                  'max_depth' : np.arange(1,3)       \n",
    "                    }]"
   ]
  },
  {
   "cell_type": "code",
   "execution_count": 117,
   "id": "2845edba",
   "metadata": {},
   "outputs": [
    {
     "name": "stderr",
     "output_type": "stream",
     "text": [
      "/Users/chloe/opt/anaconda3/lib/python3.9/site-packages/deap/creator.py:138: RuntimeWarning: A class named 'FitnessMax' has already been created and it will be overwritten. Consider deleting previous creation of that class or rename it.\n",
      "  warnings.warn(\"A class named '{0}' has already been created and it \"\n",
      "/Users/chloe/opt/anaconda3/lib/python3.9/site-packages/deap/creator.py:138: RuntimeWarning: A class named 'Individual' has already been created and it will be overwritten. Consider deleting previous creation of that class or rename it.\n",
      "  warnings.warn(\"A class named '{0}' has already been created and it \"\n"
     ]
    },
    {
     "name": "stdout",
     "output_type": "stream",
     "text": [
      "Types [1, 1, 1, 1] and maxint [9, 1, 3, 1] detected\n",
      "--- Evolve in 160 possible combinations ---\n",
      "gen\tnevals\tavg     \tmin     \tmax     \tstd\n",
      "0  \t50    \t0.994078\t0.994078\t0.994078\t0  \n",
      "1  \t33    \t0.994078\t0.994078\t0.994078\t0  \n",
      "2  \t29    \t0.994078\t0.994078\t0.994078\t0  \n",
      "3  \t23    \t0.994078\t0.994078\t0.994078\t0  \n",
      "4  \t36    \t0.994078\t0.994078\t0.994078\t0  \n",
      "5  \t29    \t0.994078\t0.994078\t0.994078\t0  \n",
      "6  \t24    \t0.994078\t0.994078\t0.994078\t0  \n",
      "7  \t32    \t0.994078\t0.994078\t0.994078\t0  \n",
      "8  \t31    \t0.994078\t0.994078\t0.994078\t0  \n",
      "9  \t24    \t0.994078\t0.994078\t0.994078\t0  \n",
      "10 \t32    \t0.994078\t0.994078\t0.994078\t0  \n",
      "Best individual is: {'random_state': 7, 'criterion': 'entropy', 'min_samples_split': 5, 'max_depth': 1}\n",
      "with fitness: 0.9940782122905027\n",
      "CPU times: user 753 ms, sys: 29.2 ms, total: 782 ms\n",
      "Wall time: 785 ms\n"
     ]
    }
   ],
   "source": [
    "DT_GA = EvolutionaryAlgorithmSearchCV(estimator=DecisionTreeClassifier(),\n",
    "                                       params=param_grid_DT,\n",
    "                                       scoring=\"accuracy\",\n",
    "                                       cv=StratifiedKFold(n_splits=2),\n",
    "                                       verbose=True,\n",
    "                                       population_size=50,\n",
    "                                       gene_mutation_prob=0.10,\n",
    "                                       tournament_size=20,\n",
    "                                       generations_number=10)\n",
    "%time DT_GA.fit(y_t, target)"
   ]
  },
  {
   "cell_type": "markdown",
   "id": "beca8809",
   "metadata": {},
   "source": [
    "<span style='color:steelblue'><font size=\"4\">kNN</font></span><br>"
   ]
  },
  {
   "cell_type": "code",
   "execution_count": 118,
   "id": "e3aa76bf",
   "metadata": {},
   "outputs": [],
   "source": [
    "param_grid_kNN = [{'n_neighbors': np.arange(4, 8),\n",
    "                     'weights': ['uniform', 'distance'],\n",
    "                    'algorithm':['auto', 'ball_tree', 'kd_tree', 'brute']           \n",
    "                    }]"
   ]
  },
  {
   "cell_type": "code",
   "execution_count": 119,
   "id": "66fb5e53",
   "metadata": {},
   "outputs": [
    {
     "name": "stdout",
     "output_type": "stream",
     "text": [
      "Types [1, 1, 1] and maxint [3, 1, 3] detected\n",
      "--- Evolve in 32 possible combinations ---\n"
     ]
    },
    {
     "name": "stderr",
     "output_type": "stream",
     "text": [
      "/Users/chloe/opt/anaconda3/lib/python3.9/site-packages/deap/creator.py:138: RuntimeWarning: A class named 'FitnessMax' has already been created and it will be overwritten. Consider deleting previous creation of that class or rename it.\n",
      "  warnings.warn(\"A class named '{0}' has already been created and it \"\n",
      "/Users/chloe/opt/anaconda3/lib/python3.9/site-packages/deap/creator.py:138: RuntimeWarning: A class named 'Individual' has already been created and it will be overwritten. Consider deleting previous creation of that class or rename it.\n",
      "  warnings.warn(\"A class named '{0}' has already been created and it \"\n"
     ]
    },
    {
     "name": "stdout",
     "output_type": "stream",
     "text": [
      "gen\tnevals\tavg     \tmin     \tmax     \tstd\n",
      "0  \t50    \t0.994078\t0.994078\t0.994078\t0  \n",
      "1  \t25    \t0.994078\t0.994078\t0.994078\t0  \n",
      "2  \t40    \t0.994078\t0.994078\t0.994078\t0  \n",
      "3  \t26    \t0.994078\t0.994078\t0.994078\t0  \n",
      "4  \t31    \t0.994078\t0.994078\t0.994078\t0  \n",
      "5  \t35    \t0.994078\t0.994078\t0.994078\t0  \n",
      "6  \t27    \t0.994078\t0.994078\t0.994078\t0  \n",
      "7  \t27    \t0.994078\t0.994078\t0.994078\t0  \n",
      "8  \t32    \t0.994078\t0.994078\t0.994078\t0  \n",
      "9  \t34    \t0.994078\t0.994078\t0.994078\t0  \n",
      "10 \t28    \t0.994078\t0.994078\t0.994078\t0  \n",
      "Best individual is: {'n_neighbors': 7, 'weights': 'uniform', 'algorithm': 'brute'}\n",
      "with fitness: 0.9940782122905027\n",
      "CPU times: user 21.2 s, sys: 2.63 s, total: 23.8 s\n",
      "Wall time: 13.7 s\n"
     ]
    }
   ],
   "source": [
    "kNN_GA = EvolutionaryAlgorithmSearchCV(estimator=KNeighborsClassifier(),\n",
    "                                       params=param_grid_kNN,\n",
    "                                       scoring=\"accuracy\",\n",
    "                                       cv=StratifiedKFold(n_splits=2),\n",
    "                                       verbose=True,\n",
    "                                       population_size=50,\n",
    "                                       gene_mutation_prob=0.10,\n",
    "                                       tournament_size=20,\n",
    "                                       generations_number=10)\n",
    "%time kNN_GA.fit(y_t, target)"
   ]
  },
  {
   "cell_type": "markdown",
   "id": "05454e72",
   "metadata": {},
   "source": [
    "<span style='color:mediumpurple'><font size=\"6\">__Prediction__</font></span><br>"
   ]
  },
  {
   "cell_type": "code",
   "execution_count": 125,
   "id": "c3830631",
   "metadata": {},
   "outputs": [],
   "source": [
    "y_predicted_voting = VotingModel.predict(y_p)"
   ]
  },
  {
   "cell_type": "markdown",
   "id": "0ab564c5",
   "metadata": {},
   "source": [
    "<div class=\"alert alert-block alert-info\">\n",
    "    <span style='color:darkblue'><font size=\"4\"><b>CONCLUSION ALGORITHMS</b></font></span><br><br> <span style='color:black'> After several machine algorithms, we can conclude that the multinomial gives us the best accuracy on Kaggle which is 58%.\n",
    "    Once we added the VotingClassifier with kNN, Decision Tree and MultinomialNB the accuracy on kaggle didn't change meaning that the multinomial algorithm is the best one. </span>\n",
    "</div>"
   ]
  },
  {
   "cell_type": "markdown",
   "id": "5099630b",
   "metadata": {},
   "source": [
    "<span style='color:mediumpurple'><font size=\"6\">__Submission__</font></span><br>"
   ]
  },
  {
   "cell_type": "code",
   "execution_count": 126,
   "id": "e4adb788",
   "metadata": {},
   "outputs": [],
   "source": [
    "id = test_nolabel['id']\n",
    "dfsubmission = pd.DataFrame({'id': id, 'label': y_predicted_voting}, columns=[\"id\", \"label\"])\n",
    "dfsubmission.to_csv('submission0.csv', index=False, header=True)"
   ]
  },
  {
   "cell_type": "markdown",
   "id": "52c43ac7",
   "metadata": {},
   "source": [
    "<div class=\"alert alert-block alert-info\">\n",
    "    <span style='color:purple'><font size=\"4\"><b>CONCLUSION GENERALE</b></font></span><br><br> <span style='color:black'> This methods, by applying complete natural language processing to each features in parallel using a pipeline gives us the best accuracy of 58.2%, using a multinomial classification algorithm. </span>\n",
    "</div>"
   ]
  },
  {
   "cell_type": "code",
   "execution_count": null,
   "id": "b7826551",
   "metadata": {},
   "outputs": [],
   "source": []
  }
 ],
 "metadata": {
  "kernelspec": {
   "display_name": "Python 3 (ipykernel)",
   "language": "python",
   "name": "python3"
  },
  "language_info": {
   "codemirror_mode": {
    "name": "ipython",
    "version": 3
   },
   "file_extension": ".py",
   "mimetype": "text/x-python",
   "name": "python",
   "nbconvert_exporter": "python",
   "pygments_lexer": "ipython3",
   "version": "3.9.7"
  }
 },
 "nbformat": 4,
 "nbformat_minor": 5
}
