{
 "cells": [
  {
   "cell_type": "markdown",
   "id": "2c13b57f",
   "metadata": {},
   "source": [
    "<span style='color:darkcyan'><font size=\"3\">_Juan Sebastian Deslarzes_</font></span><br>\n",
    "<span style='color:darkcyan'><font size=\"3\">_Chloé De Ancos_</font></span><br>\n",
    "<span style='color:darkcyan'><font size=\"3\">_Anaïs Burrus_</font></span><br>\n",
    "<span style='color:darkcyan'><font size=\"3\">_Margot Chapot_</font></span><br>\n",
    "<span style='color:darkcyan'><font size=\"3\">_Eva Sarlin_</font></span><br>"
   ]
  },
  {
   "cell_type": "markdown",
   "id": "9a4e3cf3",
   "metadata": {},
   "source": [
    "<span style='color:steelblue'><font size=\"6\">__Notebook 1 : use of one pipeline for each feature seperately__</font></span><br>"
   ]
  },
  {
   "cell_type": "markdown",
   "id": "e7231230",
   "metadata": {},
   "source": [
    "<span style='color:mediumpurple'><font size=\"6\">__Importing packages__</font></span><br>"
   ]
  },
  {
   "cell_type": "code",
   "execution_count": 140,
   "id": "6dd6b54a",
   "metadata": {},
   "outputs": [
    {
     "data": {
      "text/html": [
       "\n",
       "    <div class=\"bk-root\">\n",
       "        <a href=\"https://bokeh.org\" target=\"_blank\" class=\"bk-logo bk-logo-small bk-logo-notebook\"></a>\n",
       "        <span id=\"1004\">Loading BokehJS ...</span>\n",
       "    </div>"
      ]
     },
     "metadata": {},
     "output_type": "display_data"
    },
    {
     "data": {
      "application/javascript": [
       "\n",
       "(function(root) {\n",
       "  function now() {\n",
       "    return new Date();\n",
       "  }\n",
       "\n",
       "  const force = true;\n",
       "\n",
       "  if (typeof root._bokeh_onload_callbacks === \"undefined\" || force === true) {\n",
       "    root._bokeh_onload_callbacks = [];\n",
       "    root._bokeh_is_loading = undefined;\n",
       "  }\n",
       "\n",
       "  const JS_MIME_TYPE = 'application/javascript';\n",
       "  const HTML_MIME_TYPE = 'text/html';\n",
       "  const EXEC_MIME_TYPE = 'application/vnd.bokehjs_exec.v0+json';\n",
       "  const CLASS_NAME = 'output_bokeh rendered_html';\n",
       "\n",
       "  /**\n",
       "   * Render data to the DOM node\n",
       "   */\n",
       "  function render(props, node) {\n",
       "    const script = document.createElement(\"script\");\n",
       "    node.appendChild(script);\n",
       "  }\n",
       "\n",
       "  /**\n",
       "   * Handle when an output is cleared or removed\n",
       "   */\n",
       "  function handleClearOutput(event, handle) {\n",
       "    const cell = handle.cell;\n",
       "\n",
       "    const id = cell.output_area._bokeh_element_id;\n",
       "    const server_id = cell.output_area._bokeh_server_id;\n",
       "    // Clean up Bokeh references\n",
       "    if (id != null && id in Bokeh.index) {\n",
       "      Bokeh.index[id].model.document.clear();\n",
       "      delete Bokeh.index[id];\n",
       "    }\n",
       "\n",
       "    if (server_id !== undefined) {\n",
       "      // Clean up Bokeh references\n",
       "      const cmd_clean = \"from bokeh.io.state import curstate; print(curstate().uuid_to_server['\" + server_id + \"'].get_sessions()[0].document.roots[0]._id)\";\n",
       "      cell.notebook.kernel.execute(cmd_clean, {\n",
       "        iopub: {\n",
       "          output: function(msg) {\n",
       "            const id = msg.content.text.trim();\n",
       "            if (id in Bokeh.index) {\n",
       "              Bokeh.index[id].model.document.clear();\n",
       "              delete Bokeh.index[id];\n",
       "            }\n",
       "          }\n",
       "        }\n",
       "      });\n",
       "      // Destroy server and session\n",
       "      const cmd_destroy = \"import bokeh.io.notebook as ion; ion.destroy_server('\" + server_id + \"')\";\n",
       "      cell.notebook.kernel.execute(cmd_destroy);\n",
       "    }\n",
       "  }\n",
       "\n",
       "  /**\n",
       "   * Handle when a new output is added\n",
       "   */\n",
       "  function handleAddOutput(event, handle) {\n",
       "    const output_area = handle.output_area;\n",
       "    const output = handle.output;\n",
       "\n",
       "    // limit handleAddOutput to display_data with EXEC_MIME_TYPE content only\n",
       "    if ((output.output_type != \"display_data\") || (!Object.prototype.hasOwnProperty.call(output.data, EXEC_MIME_TYPE))) {\n",
       "      return\n",
       "    }\n",
       "\n",
       "    const toinsert = output_area.element.find(\".\" + CLASS_NAME.split(' ')[0]);\n",
       "\n",
       "    if (output.metadata[EXEC_MIME_TYPE][\"id\"] !== undefined) {\n",
       "      toinsert[toinsert.length - 1].firstChild.textContent = output.data[JS_MIME_TYPE];\n",
       "      // store reference to embed id on output_area\n",
       "      output_area._bokeh_element_id = output.metadata[EXEC_MIME_TYPE][\"id\"];\n",
       "    }\n",
       "    if (output.metadata[EXEC_MIME_TYPE][\"server_id\"] !== undefined) {\n",
       "      const bk_div = document.createElement(\"div\");\n",
       "      bk_div.innerHTML = output.data[HTML_MIME_TYPE];\n",
       "      const script_attrs = bk_div.children[0].attributes;\n",
       "      for (let i = 0; i < script_attrs.length; i++) {\n",
       "        toinsert[toinsert.length - 1].firstChild.setAttribute(script_attrs[i].name, script_attrs[i].value);\n",
       "        toinsert[toinsert.length - 1].firstChild.textContent = bk_div.children[0].textContent\n",
       "      }\n",
       "      // store reference to server id on output_area\n",
       "      output_area._bokeh_server_id = output.metadata[EXEC_MIME_TYPE][\"server_id\"];\n",
       "    }\n",
       "  }\n",
       "\n",
       "  function register_renderer(events, OutputArea) {\n",
       "\n",
       "    function append_mime(data, metadata, element) {\n",
       "      // create a DOM node to render to\n",
       "      const toinsert = this.create_output_subarea(\n",
       "        metadata,\n",
       "        CLASS_NAME,\n",
       "        EXEC_MIME_TYPE\n",
       "      );\n",
       "      this.keyboard_manager.register_events(toinsert);\n",
       "      // Render to node\n",
       "      const props = {data: data, metadata: metadata[EXEC_MIME_TYPE]};\n",
       "      render(props, toinsert[toinsert.length - 1]);\n",
       "      element.append(toinsert);\n",
       "      return toinsert\n",
       "    }\n",
       "\n",
       "    /* Handle when an output is cleared or removed */\n",
       "    events.on('clear_output.CodeCell', handleClearOutput);\n",
       "    events.on('delete.Cell', handleClearOutput);\n",
       "\n",
       "    /* Handle when a new output is added */\n",
       "    events.on('output_added.OutputArea', handleAddOutput);\n",
       "\n",
       "    /**\n",
       "     * Register the mime type and append_mime function with output_area\n",
       "     */\n",
       "    OutputArea.prototype.register_mime_type(EXEC_MIME_TYPE, append_mime, {\n",
       "      /* Is output safe? */\n",
       "      safe: true,\n",
       "      /* Index of renderer in `output_area.display_order` */\n",
       "      index: 0\n",
       "    });\n",
       "  }\n",
       "\n",
       "  // register the mime type if in Jupyter Notebook environment and previously unregistered\n",
       "  if (root.Jupyter !== undefined) {\n",
       "    const events = require('base/js/events');\n",
       "    const OutputArea = require('notebook/js/outputarea').OutputArea;\n",
       "\n",
       "    if (OutputArea.prototype.mime_types().indexOf(EXEC_MIME_TYPE) == -1) {\n",
       "      register_renderer(events, OutputArea);\n",
       "    }\n",
       "  }\n",
       "\n",
       "  \n",
       "  if (typeof (root._bokeh_timeout) === \"undefined\" || force === true) {\n",
       "    root._bokeh_timeout = Date.now() + 5000;\n",
       "    root._bokeh_failed_load = false;\n",
       "  }\n",
       "\n",
       "  const NB_LOAD_WARNING = {'data': {'text/html':\n",
       "     \"<div style='background-color: #fdd'>\\n\"+\n",
       "     \"<p>\\n\"+\n",
       "     \"BokehJS does not appear to have successfully loaded. If loading BokehJS from CDN, this \\n\"+\n",
       "     \"may be due to a slow or bad network connection. Possible fixes:\\n\"+\n",
       "     \"</p>\\n\"+\n",
       "     \"<ul>\\n\"+\n",
       "     \"<li>re-rerun `output_notebook()` to attempt to load from CDN again, or</li>\\n\"+\n",
       "     \"<li>use INLINE resources instead, as so:</li>\\n\"+\n",
       "     \"</ul>\\n\"+\n",
       "     \"<code>\\n\"+\n",
       "     \"from bokeh.resources import INLINE\\n\"+\n",
       "     \"output_notebook(resources=INLINE)\\n\"+\n",
       "     \"</code>\\n\"+\n",
       "     \"</div>\"}};\n",
       "\n",
       "  function display_loaded() {\n",
       "    const el = document.getElementById(\"1004\");\n",
       "    if (el != null) {\n",
       "      el.textContent = \"BokehJS is loading...\";\n",
       "    }\n",
       "    if (root.Bokeh !== undefined) {\n",
       "      if (el != null) {\n",
       "        el.textContent = \"BokehJS \" + root.Bokeh.version + \" successfully loaded.\";\n",
       "      }\n",
       "    } else if (Date.now() < root._bokeh_timeout) {\n",
       "      setTimeout(display_loaded, 100)\n",
       "    }\n",
       "  }\n",
       "\n",
       "\n",
       "  function run_callbacks() {\n",
       "    try {\n",
       "      root._bokeh_onload_callbacks.forEach(function(callback) {\n",
       "        if (callback != null)\n",
       "          callback();\n",
       "      });\n",
       "    } finally {\n",
       "      delete root._bokeh_onload_callbacks\n",
       "    }\n",
       "    console.debug(\"Bokeh: all callbacks have finished\");\n",
       "  }\n",
       "\n",
       "  function load_libs(css_urls, js_urls, callback) {\n",
       "    if (css_urls == null) css_urls = [];\n",
       "    if (js_urls == null) js_urls = [];\n",
       "\n",
       "    root._bokeh_onload_callbacks.push(callback);\n",
       "    if (root._bokeh_is_loading > 0) {\n",
       "      console.debug(\"Bokeh: BokehJS is being loaded, scheduling callback at\", now());\n",
       "      return null;\n",
       "    }\n",
       "    if (js_urls == null || js_urls.length === 0) {\n",
       "      run_callbacks();\n",
       "      return null;\n",
       "    }\n",
       "    console.debug(\"Bokeh: BokehJS not loaded, scheduling load and callback at\", now());\n",
       "    root._bokeh_is_loading = css_urls.length + js_urls.length;\n",
       "\n",
       "    function on_load() {\n",
       "      root._bokeh_is_loading--;\n",
       "      if (root._bokeh_is_loading === 0) {\n",
       "        console.debug(\"Bokeh: all BokehJS libraries/stylesheets loaded\");\n",
       "        run_callbacks()\n",
       "      }\n",
       "    }\n",
       "\n",
       "    function on_error(url) {\n",
       "      console.error(\"failed to load \" + url);\n",
       "    }\n",
       "\n",
       "    for (let i = 0; i < css_urls.length; i++) {\n",
       "      const url = css_urls[i];\n",
       "      const element = document.createElement(\"link\");\n",
       "      element.onload = on_load;\n",
       "      element.onerror = on_error.bind(null, url);\n",
       "      element.rel = \"stylesheet\";\n",
       "      element.type = \"text/css\";\n",
       "      element.href = url;\n",
       "      console.debug(\"Bokeh: injecting link tag for BokehJS stylesheet: \", url);\n",
       "      document.body.appendChild(element);\n",
       "    }\n",
       "\n",
       "    for (let i = 0; i < js_urls.length; i++) {\n",
       "      const url = js_urls[i];\n",
       "      const element = document.createElement('script');\n",
       "      element.onload = on_load;\n",
       "      element.onerror = on_error.bind(null, url);\n",
       "      element.async = false;\n",
       "      element.src = url;\n",
       "      console.debug(\"Bokeh: injecting script tag for BokehJS library: \", url);\n",
       "      document.head.appendChild(element);\n",
       "    }\n",
       "  };\n",
       "\n",
       "  function inject_raw_css(css) {\n",
       "    const element = document.createElement(\"style\");\n",
       "    element.appendChild(document.createTextNode(css));\n",
       "    document.body.appendChild(element);\n",
       "  }\n",
       "\n",
       "  \n",
       "  const js_urls = [\"https://cdn.bokeh.org/bokeh/release/bokeh-2.4.2.min.js\", \"https://cdn.bokeh.org/bokeh/release/bokeh-gl-2.4.2.min.js\", \"https://cdn.bokeh.org/bokeh/release/bokeh-widgets-2.4.2.min.js\", \"https://cdn.bokeh.org/bokeh/release/bokeh-tables-2.4.2.min.js\", \"https://cdn.bokeh.org/bokeh/release/bokeh-mathjax-2.4.2.min.js\"];\n",
       "  const css_urls = [];\n",
       "  \n",
       "\n",
       "  const inline_js = [\n",
       "    function(Bokeh) {\n",
       "      Bokeh.set_log_level(\"info\");\n",
       "    },\n",
       "    function(Bokeh) {\n",
       "    \n",
       "    \n",
       "    }\n",
       "  ];\n",
       "\n",
       "  function run_inline_js() {\n",
       "    \n",
       "    if (root.Bokeh !== undefined || force === true) {\n",
       "      \n",
       "    for (let i = 0; i < inline_js.length; i++) {\n",
       "      inline_js[i].call(root, root.Bokeh);\n",
       "    }\n",
       "    if (force === true) {\n",
       "        display_loaded();\n",
       "      }} else if (Date.now() < root._bokeh_timeout) {\n",
       "      setTimeout(run_inline_js, 100);\n",
       "    } else if (!root._bokeh_failed_load) {\n",
       "      console.log(\"Bokeh: BokehJS failed to load within specified timeout.\");\n",
       "      root._bokeh_failed_load = true;\n",
       "    } else if (force !== true) {\n",
       "      const cell = $(document.getElementById(\"1004\")).parents('.cell').data().cell;\n",
       "      cell.output_area.append_execute_result(NB_LOAD_WARNING)\n",
       "    }\n",
       "\n",
       "  }\n",
       "\n",
       "  if (root._bokeh_is_loading === 0) {\n",
       "    console.debug(\"Bokeh: BokehJS loaded, going straight to plotting\");\n",
       "    run_inline_js();\n",
       "  } else {\n",
       "    load_libs(css_urls, js_urls, function() {\n",
       "      console.debug(\"Bokeh: BokehJS plotting callback run at\", now());\n",
       "      run_inline_js();\n",
       "    });\n",
       "  }\n",
       "}(window));"
      ],
      "application/vnd.bokehjs_load.v0+json": "\n(function(root) {\n  function now() {\n    return new Date();\n  }\n\n  const force = true;\n\n  if (typeof root._bokeh_onload_callbacks === \"undefined\" || force === true) {\n    root._bokeh_onload_callbacks = [];\n    root._bokeh_is_loading = undefined;\n  }\n\n  \n\n  \n  if (typeof (root._bokeh_timeout) === \"undefined\" || force === true) {\n    root._bokeh_timeout = Date.now() + 5000;\n    root._bokeh_failed_load = false;\n  }\n\n  const NB_LOAD_WARNING = {'data': {'text/html':\n     \"<div style='background-color: #fdd'>\\n\"+\n     \"<p>\\n\"+\n     \"BokehJS does not appear to have successfully loaded. If loading BokehJS from CDN, this \\n\"+\n     \"may be due to a slow or bad network connection. Possible fixes:\\n\"+\n     \"</p>\\n\"+\n     \"<ul>\\n\"+\n     \"<li>re-rerun `output_notebook()` to attempt to load from CDN again, or</li>\\n\"+\n     \"<li>use INLINE resources instead, as so:</li>\\n\"+\n     \"</ul>\\n\"+\n     \"<code>\\n\"+\n     \"from bokeh.resources import INLINE\\n\"+\n     \"output_notebook(resources=INLINE)\\n\"+\n     \"</code>\\n\"+\n     \"</div>\"}};\n\n  function display_loaded() {\n    const el = document.getElementById(\"1004\");\n    if (el != null) {\n      el.textContent = \"BokehJS is loading...\";\n    }\n    if (root.Bokeh !== undefined) {\n      if (el != null) {\n        el.textContent = \"BokehJS \" + root.Bokeh.version + \" successfully loaded.\";\n      }\n    } else if (Date.now() < root._bokeh_timeout) {\n      setTimeout(display_loaded, 100)\n    }\n  }\n\n\n  function run_callbacks() {\n    try {\n      root._bokeh_onload_callbacks.forEach(function(callback) {\n        if (callback != null)\n          callback();\n      });\n    } finally {\n      delete root._bokeh_onload_callbacks\n    }\n    console.debug(\"Bokeh: all callbacks have finished\");\n  }\n\n  function load_libs(css_urls, js_urls, callback) {\n    if (css_urls == null) css_urls = [];\n    if (js_urls == null) js_urls = [];\n\n    root._bokeh_onload_callbacks.push(callback);\n    if (root._bokeh_is_loading > 0) {\n      console.debug(\"Bokeh: BokehJS is being loaded, scheduling callback at\", now());\n      return null;\n    }\n    if (js_urls == null || js_urls.length === 0) {\n      run_callbacks();\n      return null;\n    }\n    console.debug(\"Bokeh: BokehJS not loaded, scheduling load and callback at\", now());\n    root._bokeh_is_loading = css_urls.length + js_urls.length;\n\n    function on_load() {\n      root._bokeh_is_loading--;\n      if (root._bokeh_is_loading === 0) {\n        console.debug(\"Bokeh: all BokehJS libraries/stylesheets loaded\");\n        run_callbacks()\n      }\n    }\n\n    function on_error(url) {\n      console.error(\"failed to load \" + url);\n    }\n\n    for (let i = 0; i < css_urls.length; i++) {\n      const url = css_urls[i];\n      const element = document.createElement(\"link\");\n      element.onload = on_load;\n      element.onerror = on_error.bind(null, url);\n      element.rel = \"stylesheet\";\n      element.type = \"text/css\";\n      element.href = url;\n      console.debug(\"Bokeh: injecting link tag for BokehJS stylesheet: \", url);\n      document.body.appendChild(element);\n    }\n\n    for (let i = 0; i < js_urls.length; i++) {\n      const url = js_urls[i];\n      const element = document.createElement('script');\n      element.onload = on_load;\n      element.onerror = on_error.bind(null, url);\n      element.async = false;\n      element.src = url;\n      console.debug(\"Bokeh: injecting script tag for BokehJS library: \", url);\n      document.head.appendChild(element);\n    }\n  };\n\n  function inject_raw_css(css) {\n    const element = document.createElement(\"style\");\n    element.appendChild(document.createTextNode(css));\n    document.body.appendChild(element);\n  }\n\n  \n  const js_urls = [\"https://cdn.bokeh.org/bokeh/release/bokeh-2.4.2.min.js\", \"https://cdn.bokeh.org/bokeh/release/bokeh-gl-2.4.2.min.js\", \"https://cdn.bokeh.org/bokeh/release/bokeh-widgets-2.4.2.min.js\", \"https://cdn.bokeh.org/bokeh/release/bokeh-tables-2.4.2.min.js\", \"https://cdn.bokeh.org/bokeh/release/bokeh-mathjax-2.4.2.min.js\"];\n  const css_urls = [];\n  \n\n  const inline_js = [\n    function(Bokeh) {\n      Bokeh.set_log_level(\"info\");\n    },\n    function(Bokeh) {\n    \n    \n    }\n  ];\n\n  function run_inline_js() {\n    \n    if (root.Bokeh !== undefined || force === true) {\n      \n    for (let i = 0; i < inline_js.length; i++) {\n      inline_js[i].call(root, root.Bokeh);\n    }\n    if (force === true) {\n        display_loaded();\n      }} else if (Date.now() < root._bokeh_timeout) {\n      setTimeout(run_inline_js, 100);\n    } else if (!root._bokeh_failed_load) {\n      console.log(\"Bokeh: BokehJS failed to load within specified timeout.\");\n      root._bokeh_failed_load = true;\n    } else if (force !== true) {\n      const cell = $(document.getElementById(\"1004\")).parents('.cell').data().cell;\n      cell.output_area.append_execute_result(NB_LOAD_WARNING)\n    }\n\n  }\n\n  if (root._bokeh_is_loading === 0) {\n    console.debug(\"Bokeh: BokehJS loaded, going straight to plotting\");\n    run_inline_js();\n  } else {\n    load_libs(css_urls, js_urls, function() {\n      console.debug(\"Bokeh: BokehJS plotting callback run at\", now());\n      run_inline_js();\n    });\n  }\n}(window));"
     },
     "metadata": {},
     "output_type": "display_data"
    }
   ],
   "source": [
    "import matplotlib.pyplot as plt \n",
    "%matplotlib inline\n",
    "import pandas as pd\n",
    "import numpy as np\n",
    "from skimage import io\n",
    "from IPython import display\n",
    "from bokeh.io import output_notebook, show\n",
    "from bokeh.plotting import figure\n",
    "output_notebook()\n",
    "import seaborn as sns\n",
    "sns.set(color_codes=True)"
   ]
  },
  {
   "cell_type": "code",
   "execution_count": 141,
   "id": "9904799e",
   "metadata": {},
   "outputs": [
    {
     "name": "stderr",
     "output_type": "stream",
     "text": [
      "[nltk_data] Downloading package stopwords to /Users/epfl/nltk_data...\n",
      "[nltk_data]   Package stopwords is already up-to-date!\n"
     ]
    }
   ],
   "source": [
    "from sklearn.base import BaseEstimator, TransformerMixin\n",
    "from nltk.tokenize import sent_tokenize, word_tokenize\n",
    "from nltk.stem import PorterStemmer\n",
    "from nltk import word_tokenize\n",
    "from nltk.corpus import stopwords\n",
    "from nltk import pos_tag\n",
    "from collections import Counter \n",
    "from sklearn.pipeline import Pipeline, FeatureUnion\n",
    "from sklearn.feature_extraction.text import CountVectorizer, TfidfVectorizer, TfidfTransformer\n",
    "from sklearn.naive_bayes import MultinomialNB\n",
    "from sklearn.model_selection import cross_val_score, KFold\n",
    "from sklearn.metrics import classification_report\n",
    "from sklearn.feature_extraction import DictVectorizer\n",
    "from sklearn.preprocessing import FunctionTransformer\n",
    "from sklearn.decomposition import NMF, LatentDirichletAllocation\n",
    "import re\n",
    "import nltk\n",
    "from sklearn.datasets import load_files\n",
    "nltk.download('stopwords')\n",
    "import pickle\n",
    "from nltk.stem import WordNetLemmatizer\n",
    "from sklearn.feature_extraction.text import CountVectorizer\n",
    "from sklearn.feature_extraction.text import TfidfTransformer\n",
    "from sklearn.model_selection import train_test_split\n",
    "from sklearn.ensemble import RandomForestClassifier\n",
    "from sklearn.metrics import classification_report, confusion_matrix, accuracy_score\n",
    "from sklearn.neighbors import KNeighborsClassifier\n",
    "\n",
    "from sklearn.ensemble import StackingClassifier\n",
    "from sklearn.linear_model import LogisticRegression\n",
    "from scipy.sparse import csr_matrix\n",
    "\n",
    "from sklearn.neural_network import MLPClassifier\n",
    "from sklearn.datasets import make_classification\n",
    "from sklearn.ensemble import VotingClassifier\n",
    "\n",
    "from evolutionary_search import EvolutionaryAlgorithmSearchCV\n",
    "from sklearn.model_selection import StratifiedKFold\n",
    "from sklearn.linear_model import Perceptron\n",
    "\n",
    "import string"
   ]
  },
  {
   "cell_type": "markdown",
   "id": "3a86944f",
   "metadata": {},
   "source": [
    "<span style='color:mediumpurple'><font size=\"6\">__Data Loading__</font></span><br>"
   ]
  },
  {
   "cell_type": "code",
   "execution_count": 142,
   "id": "f49122ef",
   "metadata": {},
   "outputs": [],
   "source": [
    "sample_submission_url = 'https://raw.githubusercontent.com/esarlin/Challenge-2-CDAW/main/sitc-challenge2-2022/sample_submission.csv'\n",
    "test_nolabel_url= 'https://raw.githubusercontent.com/esarlin/Challenge-2-CDAW/main/sitc-challenge2-2022/test_nolabel.csv'\n",
    "train_url = 'https://raw.githubusercontent.com/esarlin/Challenge-2-CDAW/main/sitc-challenge2-2022/train.csv'\n",
    "\n",
    "sample_submission = pd.read_csv(sample_submission_url)\n",
    "test_nolabel = pd.read_csv(test_nolabel_url)\n",
    "train = pd.read_csv(train_url)"
   ]
  },
  {
   "cell_type": "markdown",
   "id": "eda82077",
   "metadata": {},
   "source": [
    "<span style='color:mediumpurple'><font size=\"6\">__Data Visualization__</font></span><br>"
   ]
  },
  {
   "cell_type": "code",
   "execution_count": 143,
   "id": "5c14c5ed",
   "metadata": {},
   "outputs": [
    {
     "data": {
      "text/html": [
       "<div>\n",
       "<style scoped>\n",
       "    .dataframe tbody tr th:only-of-type {\n",
       "        vertical-align: middle;\n",
       "    }\n",
       "\n",
       "    .dataframe tbody tr th {\n",
       "        vertical-align: top;\n",
       "    }\n",
       "\n",
       "    .dataframe thead th {\n",
       "        text-align: right;\n",
       "    }\n",
       "</style>\n",
       "<table border=\"1\" class=\"dataframe\">\n",
       "  <thead>\n",
       "    <tr style=\"text-align: right;\">\n",
       "      <th></th>\n",
       "      <th>id</th>\n",
       "      <th>label</th>\n",
       "      <th>statement</th>\n",
       "      <th>subject</th>\n",
       "      <th>speaker</th>\n",
       "      <th>speaker_job</th>\n",
       "      <th>state_info</th>\n",
       "      <th>party_affiliation</th>\n",
       "    </tr>\n",
       "  </thead>\n",
       "  <tbody>\n",
       "    <tr>\n",
       "      <th>0</th>\n",
       "      <td>81f884c64a7</td>\n",
       "      <td>1</td>\n",
       "      <td>China is in the South China Sea and (building)...</td>\n",
       "      <td>china,foreign-policy,military</td>\n",
       "      <td>donald-trump</td>\n",
       "      <td>President-Elect</td>\n",
       "      <td>New York</td>\n",
       "      <td>republican</td>\n",
       "    </tr>\n",
       "    <tr>\n",
       "      <th>1</th>\n",
       "      <td>30c2723a188</td>\n",
       "      <td>0</td>\n",
       "      <td>With the resources it takes to execute just ov...</td>\n",
       "      <td>health-care</td>\n",
       "      <td>chris-dodd</td>\n",
       "      <td>U.S. senator</td>\n",
       "      <td>Connecticut</td>\n",
       "      <td>democrat</td>\n",
       "    </tr>\n",
       "    <tr>\n",
       "      <th>2</th>\n",
       "      <td>6936b216e5d</td>\n",
       "      <td>0</td>\n",
       "      <td>The (Wisconsin) governor has proposed tax give...</td>\n",
       "      <td>corporations,pundits,taxes,abc-news-week</td>\n",
       "      <td>donna-brazile</td>\n",
       "      <td>Political commentator</td>\n",
       "      <td>Washington, D.C.</td>\n",
       "      <td>democrat</td>\n",
       "    </tr>\n",
       "    <tr>\n",
       "      <th>3</th>\n",
       "      <td>b5cd9195738</td>\n",
       "      <td>1</td>\n",
       "      <td>Says her representation of an ex-boyfriend who...</td>\n",
       "      <td>candidates-biography,children,ethics,families,...</td>\n",
       "      <td>rebecca-bradley</td>\n",
       "      <td>NaN</td>\n",
       "      <td>NaN</td>\n",
       "      <td>none</td>\n",
       "    </tr>\n",
       "    <tr>\n",
       "      <th>4</th>\n",
       "      <td>84f8dac7737</td>\n",
       "      <td>0</td>\n",
       "      <td>At protests in Wisconsin against proposed coll...</td>\n",
       "      <td>health-care,labor,state-budget</td>\n",
       "      <td>republican-party-wisconsin</td>\n",
       "      <td>NaN</td>\n",
       "      <td>Wisconsin</td>\n",
       "      <td>republican</td>\n",
       "    </tr>\n",
       "  </tbody>\n",
       "</table>\n",
       "</div>"
      ],
      "text/plain": [
       "            id  label                                          statement  \\\n",
       "0  81f884c64a7      1  China is in the South China Sea and (building)...   \n",
       "1  30c2723a188      0  With the resources it takes to execute just ov...   \n",
       "2  6936b216e5d      0  The (Wisconsin) governor has proposed tax give...   \n",
       "3  b5cd9195738      1  Says her representation of an ex-boyfriend who...   \n",
       "4  84f8dac7737      0  At protests in Wisconsin against proposed coll...   \n",
       "\n",
       "                                             subject  \\\n",
       "0                      china,foreign-policy,military   \n",
       "1                                        health-care   \n",
       "2           corporations,pundits,taxes,abc-news-week   \n",
       "3  candidates-biography,children,ethics,families,...   \n",
       "4                     health-care,labor,state-budget   \n",
       "\n",
       "                      speaker            speaker_job        state_info  \\\n",
       "0                donald-trump        President-Elect          New York   \n",
       "1                  chris-dodd           U.S. senator       Connecticut   \n",
       "2               donna-brazile  Political commentator  Washington, D.C.   \n",
       "3             rebecca-bradley                    NaN               NaN   \n",
       "4  republican-party-wisconsin                    NaN         Wisconsin   \n",
       "\n",
       "  party_affiliation  \n",
       "0        republican  \n",
       "1          democrat  \n",
       "2          democrat  \n",
       "3              none  \n",
       "4        republican  "
      ]
     },
     "execution_count": 143,
     "metadata": {},
     "output_type": "execute_result"
    }
   ],
   "source": [
    "train.head()"
   ]
  },
  {
   "cell_type": "code",
   "execution_count": 144,
   "id": "fafb7aa9",
   "metadata": {},
   "outputs": [
    {
     "name": "stdout",
     "output_type": "stream",
     "text": [
      "Data train dimensions :  (8950, 8)\n",
      "Unique values for label :  [1 0]\n",
      "Number of unique values for statement:  8939\n",
      "Number of unique values for subject:  3409\n",
      "Number of unique values for speaker:  2634\n",
      "Number of unique values for speaker job:  1092\n",
      "Number of unique values for state information:  80\n",
      "Number of unique values for party affiliation:  24\n"
     ]
    }
   ],
   "source": [
    "print('Data train dimensions : ', train.shape)\n",
    "print('Unique values for label : ', train['label'].unique())\n",
    "print(\"Number of unique values for statement: \", train['statement'].unique().size)\n",
    "print(\"Number of unique values for subject: \", (train['subject'].unique()).size)\n",
    "print(\"Number of unique values for speaker: \", (train['speaker'].unique()).size)\n",
    "print(\"Number of unique values for speaker job: \", (train['speaker_job'].unique()).size)\n",
    "print(\"Number of unique values for state information: \", (train['state_info'].unique()).size)\n",
    "print(\"Number of unique values for party affiliation: \", (train['party_affiliation'].unique()).size)"
   ]
  },
  {
   "cell_type": "code",
   "execution_count": 145,
   "id": "2a96c68b",
   "metadata": {},
   "outputs": [
    {
     "data": {
      "text/plain": [
       "<AxesSubplot:xlabel='label', ylabel='party_affiliation'>"
      ]
     },
     "execution_count": 145,
     "metadata": {},
     "output_type": "execute_result"
    },
    {
     "data": {
      "image/png": "[encoded data removed]",
      "text/plain": [
       "<Figure size 432x288 with 1 Axes>"
      ]
     },
     "metadata": {},
     "output_type": "display_data"
    }
   ],
   "source": [
    "sns.barplot(x='label', y='party_affiliation', data=train)"
   ]
  },
  {
   "cell_type": "markdown",
   "id": "a3d744b8",
   "metadata": {},
   "source": [
    "This graph represents the mean value of the label for each party affiliation."
   ]
  },
  {
   "cell_type": "code",
   "execution_count": 146,
   "id": "819b0af5",
   "metadata": {},
   "outputs": [
    {
     "data": {
      "image/png": "[encoded data removed]",
      "text/plain": [
       "<Figure size 432x288 with 1 Axes>"
      ]
     },
     "metadata": {},
     "output_type": "display_data"
    }
   ],
   "source": [
    "import matplotlib.pyplot as plt\n",
    "x = \"label\"\n",
    "fig, ax = plt.subplots()\n",
    "fig.suptitle(x, fontsize=12)\n",
    "train[x].reset_index().groupby(x).count().sort_values(by= \n",
    "       \"index\").plot(kind=\"barh\", legend=False, \n",
    "        ax=ax).grid(axis='x')\n",
    "plt.show()"
   ]
  },
  {
   "cell_type": "markdown",
   "id": "20f9c345",
   "metadata": {},
   "source": [
    "The data is unbalanced, there are a lot more false claims than true ones."
   ]
  },
  {
   "cell_type": "code",
   "execution_count": 147,
   "id": "745ac0bf",
   "metadata": {},
   "outputs": [
    {
     "data": {
      "text/html": [
       "<div>\n",
       "<style scoped>\n",
       "    .dataframe tbody tr th:only-of-type {\n",
       "        vertical-align: middle;\n",
       "    }\n",
       "\n",
       "    .dataframe tbody tr th {\n",
       "        vertical-align: top;\n",
       "    }\n",
       "\n",
       "    .dataframe thead th {\n",
       "        text-align: right;\n",
       "    }\n",
       "</style>\n",
       "<table border=\"1\" class=\"dataframe\">\n",
       "  <thead>\n",
       "    <tr style=\"text-align: right;\">\n",
       "      <th></th>\n",
       "      <th>id</th>\n",
       "      <th>label</th>\n",
       "      <th>statement</th>\n",
       "      <th>subject</th>\n",
       "      <th>speaker</th>\n",
       "      <th>speaker_job</th>\n",
       "      <th>state_info</th>\n",
       "      <th>party_affiliation</th>\n",
       "      <th>word_count</th>\n",
       "      <th>char_count</th>\n",
       "      <th>sentence_count</th>\n",
       "      <th>avg_word_length</th>\n",
       "      <th>avg_sentence_lenght</th>\n",
       "    </tr>\n",
       "  </thead>\n",
       "  <tbody>\n",
       "    <tr>\n",
       "      <th>0</th>\n",
       "      <td>81f884c64a7</td>\n",
       "      <td>1</td>\n",
       "      <td>China is in the South China Sea and (building)...</td>\n",
       "      <td>china,foreign-policy,military</td>\n",
       "      <td>donald-trump</td>\n",
       "      <td>President-Elect</td>\n",
       "      <td>New York</td>\n",
       "      <td>republican</td>\n",
       "      <td>21</td>\n",
       "      <td>96</td>\n",
       "      <td>2</td>\n",
       "      <td>4.571429</td>\n",
       "      <td>10.5</td>\n",
       "    </tr>\n",
       "    <tr>\n",
       "      <th>1</th>\n",
       "      <td>30c2723a188</td>\n",
       "      <td>0</td>\n",
       "      <td>With the resources it takes to execute just ov...</td>\n",
       "      <td>health-care</td>\n",
       "      <td>chris-dodd</td>\n",
       "      <td>U.S. senator</td>\n",
       "      <td>Connecticut</td>\n",
       "      <td>democrat</td>\n",
       "      <td>30</td>\n",
       "      <td>135</td>\n",
       "      <td>2</td>\n",
       "      <td>4.500000</td>\n",
       "      <td>15.0</td>\n",
       "    </tr>\n",
       "    <tr>\n",
       "      <th>2</th>\n",
       "      <td>6936b216e5d</td>\n",
       "      <td>0</td>\n",
       "      <td>The (Wisconsin) governor has proposed tax give...</td>\n",
       "      <td>corporations,pundits,taxes,abc-news-week</td>\n",
       "      <td>donna-brazile</td>\n",
       "      <td>Political commentator</td>\n",
       "      <td>Washington, D.C.</td>\n",
       "      <td>democrat</td>\n",
       "      <td>9</td>\n",
       "      <td>60</td>\n",
       "      <td>2</td>\n",
       "      <td>6.666667</td>\n",
       "      <td>4.5</td>\n",
       "    </tr>\n",
       "    <tr>\n",
       "      <th>3</th>\n",
       "      <td>b5cd9195738</td>\n",
       "      <td>1</td>\n",
       "      <td>Says her representation of an ex-boyfriend who...</td>\n",
       "      <td>candidates-biography,children,ethics,families,...</td>\n",
       "      <td>rebecca-bradley</td>\n",
       "      <td>NaN</td>\n",
       "      <td>NaN</td>\n",
       "      <td>none</td>\n",
       "      <td>25</td>\n",
       "      <td>111</td>\n",
       "      <td>2</td>\n",
       "      <td>4.440000</td>\n",
       "      <td>12.5</td>\n",
       "    </tr>\n",
       "    <tr>\n",
       "      <th>4</th>\n",
       "      <td>84f8dac7737</td>\n",
       "      <td>0</td>\n",
       "      <td>At protests in Wisconsin against proposed coll...</td>\n",
       "      <td>health-care,labor,state-budget</td>\n",
       "      <td>republican-party-wisconsin</td>\n",
       "      <td>NaN</td>\n",
       "      <td>Wisconsin</td>\n",
       "      <td>republican</td>\n",
       "      <td>20</td>\n",
       "      <td>122</td>\n",
       "      <td>2</td>\n",
       "      <td>6.100000</td>\n",
       "      <td>10.0</td>\n",
       "    </tr>\n",
       "  </tbody>\n",
       "</table>\n",
       "</div>"
      ],
      "text/plain": [
       "            id  label                                          statement  \\\n",
       "0  81f884c64a7      1  China is in the South China Sea and (building)...   \n",
       "1  30c2723a188      0  With the resources it takes to execute just ov...   \n",
       "2  6936b216e5d      0  The (Wisconsin) governor has proposed tax give...   \n",
       "3  b5cd9195738      1  Says her representation of an ex-boyfriend who...   \n",
       "4  84f8dac7737      0  At protests in Wisconsin against proposed coll...   \n",
       "\n",
       "                                             subject  \\\n",
       "0                      china,foreign-policy,military   \n",
       "1                                        health-care   \n",
       "2           corporations,pundits,taxes,abc-news-week   \n",
       "3  candidates-biography,children,ethics,families,...   \n",
       "4                     health-care,labor,state-budget   \n",
       "\n",
       "                      speaker            speaker_job        state_info  \\\n",
       "0                donald-trump        President-Elect          New York   \n",
       "1                  chris-dodd           U.S. senator       Connecticut   \n",
       "2               donna-brazile  Political commentator  Washington, D.C.   \n",
       "3             rebecca-bradley                    NaN               NaN   \n",
       "4  republican-party-wisconsin                    NaN         Wisconsin   \n",
       "\n",
       "  party_affiliation  word_count  char_count  sentence_count  avg_word_length  \\\n",
       "0        republican          21          96               2         4.571429   \n",
       "1          democrat          30         135               2         4.500000   \n",
       "2          democrat           9          60               2         6.666667   \n",
       "3              none          25         111               2         4.440000   \n",
       "4        republican          20         122               2         6.100000   \n",
       "\n",
       "   avg_sentence_lenght  \n",
       "0                 10.5  \n",
       "1                 15.0  \n",
       "2                  4.5  \n",
       "3                 12.5  \n",
       "4                 10.0  "
      ]
     },
     "execution_count": 147,
     "metadata": {},
     "output_type": "execute_result"
    }
   ],
   "source": [
    "train['word_count'] = train[\"statement\"].apply(lambda x: len(str(x).split(\" \")))\n",
    "train['char_count'] = train[\"statement\"].apply(lambda x: sum(len(word) for word in str(x).split(\" \")))\n",
    "train['sentence_count'] = train[\"statement\"].apply(lambda x: len(str(x).split(\".\")))\n",
    "train['avg_word_length'] = train['char_count'] / train['word_count']\n",
    "train['avg_sentence_lenght'] = train['word_count'] / train['sentence_count']\n",
    "train.head()"
   ]
  },
  {
   "cell_type": "markdown",
   "id": "411399f7",
   "metadata": {},
   "source": [
    "Now the dataframe has additional features such as word_count, char_count, sentence_count, avg_word_length and avg_sentence_length. "
   ]
  },
  {
   "cell_type": "code",
   "execution_count": 148,
   "id": "9eaa0c3f",
   "metadata": {},
   "outputs": [
    {
     "name": "stderr",
     "output_type": "stream",
     "text": [
      "/Users/epfl/opt/anaconda3/lib/python3.8/site-packages/seaborn/distributions.py:2619: FutureWarning: `distplot` is a deprecated function and will be removed in a future version. Please adapt your code to use either `displot` (a figure-level function with similar flexibility) or `histplot` (an axes-level function for histograms).\n",
      "  warnings.warn(msg, FutureWarning)\n",
      "/Users/epfl/opt/anaconda3/lib/python3.8/site-packages/seaborn/distributions.py:2619: FutureWarning: `distplot` is a deprecated function and will be removed in a future version. Please adapt your code to use either `displot` (a figure-level function with similar flexibility) or `kdeplot` (an axes-level function for kernel density plots).\n",
      "  warnings.warn(msg, FutureWarning)\n",
      "/Users/epfl/opt/anaconda3/lib/python3.8/site-packages/seaborn/distributions.py:2619: FutureWarning: `distplot` is a deprecated function and will be removed in a future version. Please adapt your code to use either `displot` (a figure-level function with similar flexibility) or `histplot` (an axes-level function for histograms).\n",
      "  warnings.warn(msg, FutureWarning)\n",
      "/Users/epfl/opt/anaconda3/lib/python3.8/site-packages/seaborn/distributions.py:2619: FutureWarning: `distplot` is a deprecated function and will be removed in a future version. Please adapt your code to use either `displot` (a figure-level function with similar flexibility) or `kdeplot` (an axes-level function for kernel density plots).\n",
      "  warnings.warn(msg, FutureWarning)\n"
     ]
    },
    {
     "data": {
      "image/png": "[encoded data removed]",
      "text/plain": [
       "<Figure size 432x288 with 2 Axes>"
      ]
     },
     "metadata": {},
     "output_type": "display_data"
    }
   ],
   "source": [
    "x, y = \"char_count\", \"label\"\n",
    "fig, ax = plt.subplots(nrows=1, ncols=2)\n",
    "fig.suptitle(x, fontsize=18)\n",
    "for i in train[y].unique():\n",
    "    sns.distplot(train[train[y]==i][x], hist=True, kde=False, \n",
    "                 bins=10, hist_kws={\"alpha\":0.8}, \n",
    "                 axlabel=\"histogram\", ax=ax[0])\n",
    "    sns.distplot(train[train[y]==i][x], hist=False, kde=True, \n",
    "                 kde_kws={\"shade\":True}, axlabel=\"density\",   \n",
    "                 ax=ax[1])\n",
    "ax[0].grid(True)\n",
    "ax[0].legend(train[y].unique())\n",
    "ax[1].grid(True)\n",
    "plt.show()"
   ]
  },
  {
   "cell_type": "markdown",
   "id": "c8c5b650",
   "metadata": {},
   "source": [
    "The 2 categories (false or true statement) have a similar density distribution (density graph). Since there is no shift between the true and false histogram bars it seems this feature would not be very useful to help predict the labels (histogram graph).\n"
   ]
  },
  {
   "cell_type": "markdown",
   "id": "24d0ede0",
   "metadata": {},
   "source": [
    "<span style='color:steelblue'><font size=\"5\">__Sentiment analysis__</font></span><br>"
   ]
  },
  {
   "cell_type": "markdown",
   "id": "b2aaf1ae",
   "metadata": {},
   "source": [
    "The sentiment property returns a namedtuple of the form Sentiment (polarity, subjectivity). The polarity score is a float within the range [-1.0, 1.0] where 1 means a positive statement and -1 a negative statement. The subjectivity is a float within the range [0.0, 1.0] where 0.0 is very objective and 1.0 is very subjective."
   ]
  },
  {
   "cell_type": "code",
   "execution_count": 149,
   "id": "89adfc39",
   "metadata": {},
   "outputs": [
    {
     "data": {
      "text/html": [
       "<div>\n",
       "<style scoped>\n",
       "    .dataframe tbody tr th:only-of-type {\n",
       "        vertical-align: middle;\n",
       "    }\n",
       "\n",
       "    .dataframe tbody tr th {\n",
       "        vertical-align: top;\n",
       "    }\n",
       "\n",
       "    .dataframe thead th {\n",
       "        text-align: right;\n",
       "    }\n",
       "</style>\n",
       "<table border=\"1\" class=\"dataframe\">\n",
       "  <thead>\n",
       "    <tr style=\"text-align: right;\">\n",
       "      <th></th>\n",
       "      <th>id</th>\n",
       "      <th>label</th>\n",
       "      <th>statement</th>\n",
       "      <th>subject</th>\n",
       "      <th>speaker</th>\n",
       "      <th>speaker_job</th>\n",
       "      <th>state_info</th>\n",
       "      <th>party_affiliation</th>\n",
       "      <th>word_count</th>\n",
       "      <th>char_count</th>\n",
       "      <th>sentence_count</th>\n",
       "      <th>avg_word_length</th>\n",
       "      <th>avg_sentence_lenght</th>\n",
       "      <th>polarity</th>\n",
       "      <th>subjectivity</th>\n",
       "    </tr>\n",
       "  </thead>\n",
       "  <tbody>\n",
       "    <tr>\n",
       "      <th>0</th>\n",
       "      <td>81f884c64a7</td>\n",
       "      <td>1</td>\n",
       "      <td>China is in the South China Sea and (building)...</td>\n",
       "      <td>china,foreign-policy,military</td>\n",
       "      <td>donald-trump</td>\n",
       "      <td>President-Elect</td>\n",
       "      <td>New York</td>\n",
       "      <td>republican</td>\n",
       "      <td>21</td>\n",
       "      <td>96</td>\n",
       "      <td>2</td>\n",
       "      <td>4.571429</td>\n",
       "      <td>10.5</td>\n",
       "      <td>-0.100000</td>\n",
       "      <td>0.100000</td>\n",
       "    </tr>\n",
       "    <tr>\n",
       "      <th>1</th>\n",
       "      <td>30c2723a188</td>\n",
       "      <td>0</td>\n",
       "      <td>With the resources it takes to execute just ov...</td>\n",
       "      <td>health-care</td>\n",
       "      <td>chris-dodd</td>\n",
       "      <td>U.S. senator</td>\n",
       "      <td>Connecticut</td>\n",
       "      <td>democrat</td>\n",
       "      <td>30</td>\n",
       "      <td>135</td>\n",
       "      <td>2</td>\n",
       "      <td>4.500000</td>\n",
       "      <td>15.0</td>\n",
       "      <td>0.000000</td>\n",
       "      <td>0.000000</td>\n",
       "    </tr>\n",
       "    <tr>\n",
       "      <th>2</th>\n",
       "      <td>6936b216e5d</td>\n",
       "      <td>0</td>\n",
       "      <td>The (Wisconsin) governor has proposed tax give...</td>\n",
       "      <td>corporations,pundits,taxes,abc-news-week</td>\n",
       "      <td>donna-brazile</td>\n",
       "      <td>Political commentator</td>\n",
       "      <td>Washington, D.C.</td>\n",
       "      <td>democrat</td>\n",
       "      <td>9</td>\n",
       "      <td>60</td>\n",
       "      <td>2</td>\n",
       "      <td>6.666667</td>\n",
       "      <td>4.5</td>\n",
       "      <td>0.000000</td>\n",
       "      <td>0.000000</td>\n",
       "    </tr>\n",
       "    <tr>\n",
       "      <th>3</th>\n",
       "      <td>b5cd9195738</td>\n",
       "      <td>1</td>\n",
       "      <td>Says her representation of an ex-boyfriend who...</td>\n",
       "      <td>candidates-biography,children,ethics,families,...</td>\n",
       "      <td>rebecca-bradley</td>\n",
       "      <td>NaN</td>\n",
       "      <td>NaN</td>\n",
       "      <td>none</td>\n",
       "      <td>25</td>\n",
       "      <td>111</td>\n",
       "      <td>2</td>\n",
       "      <td>4.440000</td>\n",
       "      <td>12.5</td>\n",
       "      <td>0.000000</td>\n",
       "      <td>0.076923</td>\n",
       "    </tr>\n",
       "    <tr>\n",
       "      <th>4</th>\n",
       "      <td>84f8dac7737</td>\n",
       "      <td>0</td>\n",
       "      <td>At protests in Wisconsin against proposed coll...</td>\n",
       "      <td>health-care,labor,state-budget</td>\n",
       "      <td>republican-party-wisconsin</td>\n",
       "      <td>NaN</td>\n",
       "      <td>Wisconsin</td>\n",
       "      <td>republican</td>\n",
       "      <td>20</td>\n",
       "      <td>122</td>\n",
       "      <td>2</td>\n",
       "      <td>6.100000</td>\n",
       "      <td>10.0</td>\n",
       "      <td>-0.088095</td>\n",
       "      <td>0.635714</td>\n",
       "    </tr>\n",
       "  </tbody>\n",
       "</table>\n",
       "</div>"
      ],
      "text/plain": [
       "            id  label                                          statement  \\\n",
       "0  81f884c64a7      1  China is in the South China Sea and (building)...   \n",
       "1  30c2723a188      0  With the resources it takes to execute just ov...   \n",
       "2  6936b216e5d      0  The (Wisconsin) governor has proposed tax give...   \n",
       "3  b5cd9195738      1  Says her representation of an ex-boyfriend who...   \n",
       "4  84f8dac7737      0  At protests in Wisconsin against proposed coll...   \n",
       "\n",
       "                                             subject  \\\n",
       "0                      china,foreign-policy,military   \n",
       "1                                        health-care   \n",
       "2           corporations,pundits,taxes,abc-news-week   \n",
       "3  candidates-biography,children,ethics,families,...   \n",
       "4                     health-care,labor,state-budget   \n",
       "\n",
       "                      speaker            speaker_job        state_info  \\\n",
       "0                donald-trump        President-Elect          New York   \n",
       "1                  chris-dodd           U.S. senator       Connecticut   \n",
       "2               donna-brazile  Political commentator  Washington, D.C.   \n",
       "3             rebecca-bradley                    NaN               NaN   \n",
       "4  republican-party-wisconsin                    NaN         Wisconsin   \n",
       "\n",
       "  party_affiliation  word_count  char_count  sentence_count  avg_word_length  \\\n",
       "0        republican          21          96               2         4.571429   \n",
       "1          democrat          30         135               2         4.500000   \n",
       "2          democrat           9          60               2         6.666667   \n",
       "3              none          25         111               2         4.440000   \n",
       "4        republican          20         122               2         6.100000   \n",
       "\n",
       "   avg_sentence_lenght  polarity  subjectivity  \n",
       "0                 10.5 -0.100000      0.100000  \n",
       "1                 15.0  0.000000      0.000000  \n",
       "2                  4.5  0.000000      0.000000  \n",
       "3                 12.5  0.000000      0.076923  \n",
       "4                 10.0 -0.088095      0.635714  "
      ]
     },
     "execution_count": 149,
     "metadata": {},
     "output_type": "execute_result"
    }
   ],
   "source": [
    "## for sentiment\n",
    "from textblob import TextBlob\n",
    "\n",
    "train[\"polarity\"] = train[\"statement\"].apply(lambda x: \n",
    "                   TextBlob(x).sentiment.polarity)\n",
    "train[\"subjectivity\"] = train[\"statement\"].apply(lambda x: \n",
    "                   TextBlob(x).sentiment.subjectivity)\n",
    "train.head()"
   ]
  },
  {
   "cell_type": "code",
   "execution_count": 150,
   "id": "356235d4",
   "metadata": {},
   "outputs": [
    {
     "name": "stderr",
     "output_type": "stream",
     "text": [
      "/Users/epfl/opt/anaconda3/lib/python3.8/site-packages/seaborn/distributions.py:2619: FutureWarning: `distplot` is a deprecated function and will be removed in a future version. Please adapt your code to use either `displot` (a figure-level function with similar flexibility) or `histplot` (an axes-level function for histograms).\n",
      "  warnings.warn(msg, FutureWarning)\n",
      "/Users/epfl/opt/anaconda3/lib/python3.8/site-packages/seaborn/distributions.py:2619: FutureWarning: `distplot` is a deprecated function and will be removed in a future version. Please adapt your code to use either `displot` (a figure-level function with similar flexibility) or `kdeplot` (an axes-level function for kernel density plots).\n",
      "  warnings.warn(msg, FutureWarning)\n",
      "/Users/epfl/opt/anaconda3/lib/python3.8/site-packages/seaborn/distributions.py:2619: FutureWarning: `distplot` is a deprecated function and will be removed in a future version. Please adapt your code to use either `displot` (a figure-level function with similar flexibility) or `histplot` (an axes-level function for histograms).\n",
      "  warnings.warn(msg, FutureWarning)\n",
      "/Users/epfl/opt/anaconda3/lib/python3.8/site-packages/seaborn/distributions.py:2619: FutureWarning: `distplot` is a deprecated function and will be removed in a future version. Please adapt your code to use either `displot` (a figure-level function with similar flexibility) or `kdeplot` (an axes-level function for kernel density plots).\n",
      "  warnings.warn(msg, FutureWarning)\n"
     ]
    },
    {
     "data": {
      "image/png": "[encoded data removed]",
      "text/plain": [
       "<Figure size 432x288 with 2 Axes>"
      ]
     },
     "metadata": {},
     "output_type": "display_data"
    }
   ],
   "source": [
    "x, y = \"subjectivity\", \"label\"\n",
    "fig, ax = plt.subplots(nrows=1, ncols=2)\n",
    "fig.suptitle(x, fontsize=18)\n",
    "for i in train[y].unique():\n",
    "    sns.distplot(train[train[y]==i][x], hist=True, kde=False, \n",
    "                 bins=10, hist_kws={\"alpha\":0.8}, \n",
    "                 axlabel=\"histogram\", ax=ax[0])\n",
    "    sns.distplot(train[train[y]==i][x], hist=False, kde=True, \n",
    "                 kde_kws={\"shade\":True}, axlabel=\"density\",   \n",
    "                 ax=ax[1])\n",
    "ax[0].grid(True)\n",
    "ax[0].legend(train[y].unique())\n",
    "ax[1].grid(True)\n",
    "plt.show()"
   ]
  },
  {
   "cell_type": "markdown",
   "id": "37192f8e",
   "metadata": {},
   "source": [
    "<span style='color:mediumpurple'><font size=\"6\">__Feature engineering__</font></span><br>"
   ]
  },
  {
   "cell_type": "code",
   "execution_count": 151,
   "id": "298db668",
   "metadata": {},
   "outputs": [],
   "source": [
    "data_features = train.copy()[[\"statement\", \"subject\", \"speaker\",\"speaker_job\",\"state_info\", \"party_affiliation\"]]\n",
    "test_features = test_nolabel.copy()[[\"statement\", \"subject\", \"speaker\",\"speaker_job\",\"state_info\",\"party_affiliation\"]]\n",
    "target = train.label.values"
   ]
  },
  {
   "cell_type": "markdown",
   "id": "836f9958",
   "metadata": {},
   "source": [
    "<span style='color:steelblue'><font size=\"5\">__Speaker_job and state_info processing__</font></span><br>"
   ]
  },
  {
   "cell_type": "code",
   "execution_count": 152,
   "id": "a25edf43",
   "metadata": {},
   "outputs": [],
   "source": [
    "data_features['speaker_job']= data_features['speaker_job'].fillna('u.s. senator')\n",
    "test_features['speaker_job']= test_features['speaker_job'].fillna('u.s. senator')\n",
    "data_features['state_info']= data_features['state_info'].fillna('unknown')\n",
    "test_features['state_info']= test_features['state_info'].fillna('unknown')"
   ]
  },
  {
   "cell_type": "markdown",
   "id": "5f8d71dd",
   "metadata": {},
   "source": [
    "<span style='color:steelblue'><font size=\"5\">__New feature: party group__</font></span><br>"
   ]
  },
  {
   "cell_type": "markdown",
   "id": "ee185ec1",
   "metadata": {},
   "source": [
    "We have chosen to add a new feature called \"party_group\" in which we have separated the feature \"party_affiliation\" into three groups : 0 which corresponds to republican, 1 to democrats and 2 to others."
   ]
  },
  {
   "cell_type": "code",
   "execution_count": 153,
   "id": "63b7fc53",
   "metadata": {},
   "outputs": [],
   "source": [
    "data_features['party_group'] = data_features['party_affiliation']\n",
    "test_features['party_group'] = test_features['party_affiliation']"
   ]
  },
  {
   "cell_type": "code",
   "execution_count": 154,
   "id": "a350deb8",
   "metadata": {},
   "outputs": [
    {
     "name": "stdout",
     "output_type": "stream",
     "text": [
      "Names of the party_affiliations of the speakers, and how many of them are affiliated: \n",
      "party_affiliation\n",
      "Moderate                           1\n",
      "activist                          30\n",
      "business-leader                    8\n",
      "columnist                         32\n",
      "constitution-party                 2\n",
      "county-commissioner                1\n",
      "democrat                        2898\n",
      "democratic-farmer-labor            1\n",
      "education-official                 2\n",
      "government-body                    1\n",
      "green                              3\n",
      "independent                      130\n",
      "journalist                        37\n",
      "labor-leader                       7\n",
      "liberal-party-canada               1\n",
      "libertarian                       34\n",
      "newsmaker                         41\n",
      "none                            1531\n",
      "ocean-state-tea-party-action       1\n",
      "organization                     197\n",
      "republican                      3947\n",
      "state-official                    14\n",
      "talk-show-host                    23\n",
      "tea-party-member                   8\n",
      "dtype: int64\n",
      "Names of the party_affiliations of the speakers, and how many of them are affiliated: \n",
      "party_affiliation\n",
      "activist                 15\n",
      "business-leader           3\n",
      "columnist                12\n",
      "constitution-party        1\n",
      "county-commissioner       1\n",
      "democrat               1238\n",
      "education-official        1\n",
      "government-body           1\n",
      "independent              50\n",
      "journalist               12\n",
      "labor-leader              8\n",
      "libertarian              17\n",
      "newsmaker                23\n",
      "none                    650\n",
      "organization             67\n",
      "republican             1716\n",
      "state-official           10\n",
      "talk-show-host            9\n",
      "tea-party-member          2\n",
      "dtype: int64\n"
     ]
    }
   ],
   "source": [
    "party = data_features.groupby('party_affiliation').size()\n",
    "print(f'Names of the party_affiliations of the speakers, and how many of them are affiliated: \\n{party}')\n",
    "party_test = test_features.groupby('party_affiliation').size()\n",
    "print(f'Names of the party_affiliations of the speakers, and how many of them are affiliated: \\n{party_test}')"
   ]
  },
  {
   "cell_type": "code",
   "execution_count": 155,
   "id": "f3cc17e3",
   "metadata": {},
   "outputs": [],
   "source": [
    "#Encode new feature \n",
    "data_features.loc[data_features[\"party_group\"] == \"republican\", \"party_group\"] = 0\n",
    "data_features.loc[data_features[\"party_group\"] == \"democrat\", \"party_group\"] = 1\n",
    "data_features.loc[data_features[\"party_group\"] == \"none\", \"party_group\"] = 2\n",
    "data_features.loc[data_features[\"party_group\"] == \"independent\", \"party_group\"] = 2\n",
    "data_features.loc[data_features[\"party_group\"] == \"journalist\", \"party_group\"] = 2\n",
    "data_features.loc[data_features[\"party_group\"] == \"organization\", \"party_group\"] = 2\n",
    "data_features.loc[data_features[\"party_group\"] == \"talk-show-host\", \"party_group\"] = 2\n",
    "data_features.loc[data_features[\"party_group\"] == \"tea-party-member\", \"party_group\"] = 0\n",
    "data_features.loc[data_features[\"party_group\"] == \"activist\", \"party_group\"] = 2\n",
    "data_features.loc[data_features[\"party_group\"] == \"constitution-party\", \"party_group\"] = 0\n",
    "data_features.loc[data_features[\"party_group\"] == \"libertarian\", \"party_group\"] = 0\n",
    "data_features.loc[data_features[\"party_group\"] == \"state-official\", \"party_group\"] = 2\n",
    "data_features.loc[data_features[\"party_group\"] == \"columnist\", \"party_group\"] = 2\n",
    "data_features.loc[data_features[\"party_group\"] == \"newsmaker\", \"party_group\"] = 2\n",
    "data_features.loc[data_features[\"party_group\"] == \"Moderate\", \"party_group\"] = 2\n",
    "data_features.loc[data_features[\"party_group\"] == \"county-commissioner\", \"party_group\"] = 2\n",
    "data_features.loc[data_features[\"party_group\"] == \"green\", \"party_group\"] = 1\n",
    "data_features.loc[data_features[\"party_group\"] == \"liberal-party-canada\", \"party_group\"] = 0\n",
    "data_features.loc[data_features[\"party_group\"] == \"ocean-state-tea-party-action\", \"party_group\"] = 1\n",
    "data_features.loc[data_features[\"party_group\"] == \"government-body\", \"party_group\"] = 2\n",
    "data_features.loc[data_features[\"party_group\"] == \"democratic-farmer-labor\", \"party_group\"] = 1\n",
    "data_features.loc[data_features[\"party_group\"] == \"business-leader\", \"party_group\"] = 0\n",
    "data_features.loc[data_features[\"party_group\"] == \"education-official\", \"party_group\"] = 0\n",
    "data_features.loc[data_features[\"party_group\"] == \"labor-leader\", \"party_group\"] = 1\n",
    "\n",
    "test_features.loc[test_features[\"party_group\"] == \"republican\", \"party_group\"] = 0\n",
    "test_features.loc[test_features[\"party_group\"] == \"democrat\", \"party_group\"] = 1\n",
    "test_features.loc[test_features[\"party_group\"] == \"none\", \"party_group\"] = 2\n",
    "test_features.loc[test_features[\"party_group\"] == \"independent\", \"party_group\"] = 2\n",
    "test_features.loc[test_features[\"party_group\"] == \"journalist\", \"party_group\"] = 2\n",
    "test_features.loc[test_features[\"party_group\"] == \"organization\", \"party_group\"] = 2\n",
    "test_features.loc[test_features[\"party_group\"] == \"talk-show-host\", \"party_group\"] = 2\n",
    "test_features.loc[test_features[\"party_group\"] == \"tea-party-member\", \"party_group\"] = 0\n",
    "test_features.loc[test_features[\"party_group\"] == \"activist\", \"party_group\"] = 2\n",
    "test_features.loc[test_features[\"party_group\"] == \"constitution-party\", \"party_group\"] = 0\n",
    "test_features.loc[test_features[\"party_group\"] == \"libertarian\", \"party_group\"] = 0\n",
    "test_features.loc[test_features[\"party_group\"] == \"state-official\", \"party_group\"] = 2\n",
    "test_features.loc[test_features[\"party_group\"] == \"columnist\", \"party_group\"] = 2\n",
    "test_features.loc[test_features[\"party_group\"] == \"newsmaker\", \"party_group\"] = 2\n",
    "test_features.loc[test_features[\"party_group\"] == \"Moderate\", \"party_group\"] = 2\n",
    "test_features.loc[test_features[\"party_group\"] == \"county-commissioner\", \"party_group\"] = 2\n",
    "test_features.loc[test_features[\"party_group\"] == \"green\", \"party_group\"] = 1\n",
    "test_features.loc[test_features[\"party_group\"] == \"liberal-party-canada\", \"party_group\"] = 0\n",
    "test_features.loc[test_features[\"party_group\"] == \"ocean-state-tea-party-action\", \"party_group\"] = 1\n",
    "test_features.loc[test_features[\"party_group\"] == \"government-body\", \"party_group\"] = 2\n",
    "test_features.loc[test_features[\"party_group\"] == \"democratic-farmer-labor\", \"party_group\"] = 1\n",
    "test_features.loc[test_features[\"party_group\"] == \"business-leader\", \"party_group\"] = 0\n",
    "test_features.loc[test_features[\"party_group\"] == \"education-official\", \"party_group\"] = 0\n",
    "test_features.loc[test_features[\"party_group\"] == \"labor-leader\", \"party_group\"] = 1"
   ]
  },
  {
   "cell_type": "code",
   "execution_count": 156,
   "id": "cf141614",
   "metadata": {},
   "outputs": [
    {
     "data": {
      "text/html": [
       "<div>\n",
       "<style scoped>\n",
       "    .dataframe tbody tr th:only-of-type {\n",
       "        vertical-align: middle;\n",
       "    }\n",
       "\n",
       "    .dataframe tbody tr th {\n",
       "        vertical-align: top;\n",
       "    }\n",
       "\n",
       "    .dataframe thead th {\n",
       "        text-align: right;\n",
       "    }\n",
       "</style>\n",
       "<table border=\"1\" class=\"dataframe\">\n",
       "  <thead>\n",
       "    <tr style=\"text-align: right;\">\n",
       "      <th></th>\n",
       "      <th>statement</th>\n",
       "      <th>subject</th>\n",
       "      <th>speaker</th>\n",
       "      <th>speaker_job</th>\n",
       "      <th>state_info</th>\n",
       "      <th>party_affiliation</th>\n",
       "      <th>party_group</th>\n",
       "    </tr>\n",
       "  </thead>\n",
       "  <tbody>\n",
       "    <tr>\n",
       "      <th>0</th>\n",
       "      <td>China is in the South China Sea and (building)...</td>\n",
       "      <td>china,foreign-policy,military</td>\n",
       "      <td>donald-trump</td>\n",
       "      <td>President-Elect</td>\n",
       "      <td>New York</td>\n",
       "      <td>republican</td>\n",
       "      <td>0</td>\n",
       "    </tr>\n",
       "    <tr>\n",
       "      <th>1</th>\n",
       "      <td>With the resources it takes to execute just ov...</td>\n",
       "      <td>health-care</td>\n",
       "      <td>chris-dodd</td>\n",
       "      <td>U.S. senator</td>\n",
       "      <td>Connecticut</td>\n",
       "      <td>democrat</td>\n",
       "      <td>1</td>\n",
       "    </tr>\n",
       "    <tr>\n",
       "      <th>2</th>\n",
       "      <td>The (Wisconsin) governor has proposed tax give...</td>\n",
       "      <td>corporations,pundits,taxes,abc-news-week</td>\n",
       "      <td>donna-brazile</td>\n",
       "      <td>Political commentator</td>\n",
       "      <td>Washington, D.C.</td>\n",
       "      <td>democrat</td>\n",
       "      <td>1</td>\n",
       "    </tr>\n",
       "    <tr>\n",
       "      <th>3</th>\n",
       "      <td>Says her representation of an ex-boyfriend who...</td>\n",
       "      <td>candidates-biography,children,ethics,families,...</td>\n",
       "      <td>rebecca-bradley</td>\n",
       "      <td>u.s. senator</td>\n",
       "      <td>unknown</td>\n",
       "      <td>none</td>\n",
       "      <td>2</td>\n",
       "    </tr>\n",
       "    <tr>\n",
       "      <th>4</th>\n",
       "      <td>At protests in Wisconsin against proposed coll...</td>\n",
       "      <td>health-care,labor,state-budget</td>\n",
       "      <td>republican-party-wisconsin</td>\n",
       "      <td>u.s. senator</td>\n",
       "      <td>Wisconsin</td>\n",
       "      <td>republican</td>\n",
       "      <td>0</td>\n",
       "    </tr>\n",
       "  </tbody>\n",
       "</table>\n",
       "</div>"
      ],
      "text/plain": [
       "                                           statement  \\\n",
       "0  China is in the South China Sea and (building)...   \n",
       "1  With the resources it takes to execute just ov...   \n",
       "2  The (Wisconsin) governor has proposed tax give...   \n",
       "3  Says her representation of an ex-boyfriend who...   \n",
       "4  At protests in Wisconsin against proposed coll...   \n",
       "\n",
       "                                             subject  \\\n",
       "0                      china,foreign-policy,military   \n",
       "1                                        health-care   \n",
       "2           corporations,pundits,taxes,abc-news-week   \n",
       "3  candidates-biography,children,ethics,families,...   \n",
       "4                     health-care,labor,state-budget   \n",
       "\n",
       "                      speaker            speaker_job        state_info  \\\n",
       "0                donald-trump        President-Elect          New York   \n",
       "1                  chris-dodd           U.S. senator       Connecticut   \n",
       "2               donna-brazile  Political commentator  Washington, D.C.   \n",
       "3             rebecca-bradley           u.s. senator           unknown   \n",
       "4  republican-party-wisconsin           u.s. senator         Wisconsin   \n",
       "\n",
       "  party_affiliation party_group  \n",
       "0        republican           0  \n",
       "1          democrat           1  \n",
       "2          democrat           1  \n",
       "3              none           2  \n",
       "4        republican           0  "
      ]
     },
     "execution_count": 156,
     "metadata": {},
     "output_type": "execute_result"
    }
   ],
   "source": [
    "data_features.head()"
   ]
  },
  {
   "cell_type": "markdown",
   "id": "77611f61",
   "metadata": {},
   "source": [
    "We created an array (y_7) with the values of party_group which we will further use in the creation of a sparse matrix"
   ]
  },
  {
   "cell_type": "code",
   "execution_count": 157,
   "id": "dd2dff49",
   "metadata": {},
   "outputs": [],
   "source": [
    "y_7 = np.array(data_features[\"party_group\"])\n",
    "y_p7 = np.array(test_features[\"party_group\"])"
   ]
  },
  {
   "cell_type": "markdown",
   "id": "61bd537a",
   "metadata": {},
   "source": [
    "<span style='color:steelblue'><font size=\"5\">__New feature: sentence length__</font></span><br>"
   ]
  },
  {
   "cell_type": "code",
   "execution_count": 158,
   "id": "e95e8372",
   "metadata": {},
   "outputs": [
    {
     "name": "stderr",
     "output_type": "stream",
     "text": [
      "/Users/epfl/opt/anaconda3/lib/python3.8/site-packages/seaborn/distributions.py:2619: FutureWarning: `distplot` is a deprecated function and will be removed in a future version. Please adapt your code to use either `displot` (a figure-level function with similar flexibility) or `histplot` (an axes-level function for histograms).\n",
      "  warnings.warn(msg, FutureWarning)\n",
      "/Users/epfl/opt/anaconda3/lib/python3.8/site-packages/seaborn/distributions.py:2619: FutureWarning: `distplot` is a deprecated function and will be removed in a future version. Please adapt your code to use either `displot` (a figure-level function with similar flexibility) or `kdeplot` (an axes-level function for kernel density plots).\n",
      "  warnings.warn(msg, FutureWarning)\n",
      "/Users/epfl/opt/anaconda3/lib/python3.8/site-packages/seaborn/distributions.py:2619: FutureWarning: `distplot` is a deprecated function and will be removed in a future version. Please adapt your code to use either `displot` (a figure-level function with similar flexibility) or `histplot` (an axes-level function for histograms).\n",
      "  warnings.warn(msg, FutureWarning)\n",
      "/Users/epfl/opt/anaconda3/lib/python3.8/site-packages/seaborn/distributions.py:2619: FutureWarning: `distplot` is a deprecated function and will be removed in a future version. Please adapt your code to use either `displot` (a figure-level function with similar flexibility) or `kdeplot` (an axes-level function for kernel density plots).\n",
      "  warnings.warn(msg, FutureWarning)\n"
     ]
    },
    {
     "data": {
      "image/png": "[encoded data removed]",
      "text/plain": [
       "<Figure size 432x288 with 2 Axes>"
      ]
     },
     "metadata": {},
     "output_type": "display_data"
    }
   ],
   "source": [
    "x, y = \"sentence_count\", \"label\"\n",
    "fig, ax = plt.subplots(nrows=1, ncols=2)\n",
    "fig.suptitle(x, fontsize=18)\n",
    "for i in train[y].unique():\n",
    "    sns.distplot(train[train[y]==i][x], hist=True, kde=False, \n",
    "                 bins=10, hist_kws={\"alpha\":0.8}, \n",
    "                 axlabel=\"histogram\", ax=ax[0])\n",
    "    sns.distplot(train[train[y]==i][x], hist=False, kde=True, \n",
    "                 kde_kws={\"shade\":True}, axlabel=\"density\",   \n",
    "                 ax=ax[1])\n",
    "ax[0].grid(True)\n",
    "ax[0].legend(train[y].unique())\n",
    "ax[1].grid(True)\n",
    "plt.show()"
   ]
  },
  {
   "cell_type": "markdown",
   "id": "a3db1c70",
   "metadata": {},
   "source": [
    "From these graphics there is no shift on the histogram between the truth and the lies this features will not be of big help to predict the labels thus we did not implement it."
   ]
  },
  {
   "cell_type": "markdown",
   "id": "881e2ac4",
   "metadata": {},
   "source": [
    "<span style='color:steelblue'><font size=\"5\">__New feature: subjectivity__</font></span><br>"
   ]
  },
  {
   "cell_type": "code",
   "execution_count": 159,
   "id": "6a6bdf15",
   "metadata": {},
   "outputs": [
    {
     "data": {
      "text/html": [
       "<div>\n",
       "<style scoped>\n",
       "    .dataframe tbody tr th:only-of-type {\n",
       "        vertical-align: middle;\n",
       "    }\n",
       "\n",
       "    .dataframe tbody tr th {\n",
       "        vertical-align: top;\n",
       "    }\n",
       "\n",
       "    .dataframe thead th {\n",
       "        text-align: right;\n",
       "    }\n",
       "</style>\n",
       "<table border=\"1\" class=\"dataframe\">\n",
       "  <thead>\n",
       "    <tr style=\"text-align: right;\">\n",
       "      <th></th>\n",
       "      <th>statement</th>\n",
       "      <th>subject</th>\n",
       "      <th>speaker</th>\n",
       "      <th>speaker_job</th>\n",
       "      <th>state_info</th>\n",
       "      <th>party_affiliation</th>\n",
       "      <th>party_group</th>\n",
       "      <th>subjectivity</th>\n",
       "    </tr>\n",
       "  </thead>\n",
       "  <tbody>\n",
       "    <tr>\n",
       "      <th>0</th>\n",
       "      <td>China is in the South China Sea and (building)...</td>\n",
       "      <td>china,foreign-policy,military</td>\n",
       "      <td>donald-trump</td>\n",
       "      <td>President-Elect</td>\n",
       "      <td>New York</td>\n",
       "      <td>republican</td>\n",
       "      <td>0</td>\n",
       "      <td>0.100000</td>\n",
       "    </tr>\n",
       "    <tr>\n",
       "      <th>1</th>\n",
       "      <td>With the resources it takes to execute just ov...</td>\n",
       "      <td>health-care</td>\n",
       "      <td>chris-dodd</td>\n",
       "      <td>U.S. senator</td>\n",
       "      <td>Connecticut</td>\n",
       "      <td>democrat</td>\n",
       "      <td>1</td>\n",
       "      <td>0.000000</td>\n",
       "    </tr>\n",
       "    <tr>\n",
       "      <th>2</th>\n",
       "      <td>The (Wisconsin) governor has proposed tax give...</td>\n",
       "      <td>corporations,pundits,taxes,abc-news-week</td>\n",
       "      <td>donna-brazile</td>\n",
       "      <td>Political commentator</td>\n",
       "      <td>Washington, D.C.</td>\n",
       "      <td>democrat</td>\n",
       "      <td>1</td>\n",
       "      <td>0.000000</td>\n",
       "    </tr>\n",
       "    <tr>\n",
       "      <th>3</th>\n",
       "      <td>Says her representation of an ex-boyfriend who...</td>\n",
       "      <td>candidates-biography,children,ethics,families,...</td>\n",
       "      <td>rebecca-bradley</td>\n",
       "      <td>u.s. senator</td>\n",
       "      <td>unknown</td>\n",
       "      <td>none</td>\n",
       "      <td>2</td>\n",
       "      <td>0.076923</td>\n",
       "    </tr>\n",
       "    <tr>\n",
       "      <th>4</th>\n",
       "      <td>At protests in Wisconsin against proposed coll...</td>\n",
       "      <td>health-care,labor,state-budget</td>\n",
       "      <td>republican-party-wisconsin</td>\n",
       "      <td>u.s. senator</td>\n",
       "      <td>Wisconsin</td>\n",
       "      <td>republican</td>\n",
       "      <td>0</td>\n",
       "      <td>0.635714</td>\n",
       "    </tr>\n",
       "  </tbody>\n",
       "</table>\n",
       "</div>"
      ],
      "text/plain": [
       "                                           statement  \\\n",
       "0  China is in the South China Sea and (building)...   \n",
       "1  With the resources it takes to execute just ov...   \n",
       "2  The (Wisconsin) governor has proposed tax give...   \n",
       "3  Says her representation of an ex-boyfriend who...   \n",
       "4  At protests in Wisconsin against proposed coll...   \n",
       "\n",
       "                                             subject  \\\n",
       "0                      china,foreign-policy,military   \n",
       "1                                        health-care   \n",
       "2           corporations,pundits,taxes,abc-news-week   \n",
       "3  candidates-biography,children,ethics,families,...   \n",
       "4                     health-care,labor,state-budget   \n",
       "\n",
       "                      speaker            speaker_job        state_info  \\\n",
       "0                donald-trump        President-Elect          New York   \n",
       "1                  chris-dodd           U.S. senator       Connecticut   \n",
       "2               donna-brazile  Political commentator  Washington, D.C.   \n",
       "3             rebecca-bradley           u.s. senator           unknown   \n",
       "4  republican-party-wisconsin           u.s. senator         Wisconsin   \n",
       "\n",
       "  party_affiliation party_group  subjectivity  \n",
       "0        republican           0      0.100000  \n",
       "1          democrat           1      0.000000  \n",
       "2          democrat           1      0.000000  \n",
       "3              none           2      0.076923  \n",
       "4        republican           0      0.635714  "
      ]
     },
     "execution_count": 159,
     "metadata": {},
     "output_type": "execute_result"
    }
   ],
   "source": [
    "from textblob import TextBlob\n",
    "\n",
    "data_features[\"subjectivity\"] = data_features[\"statement\"].apply(lambda x: \n",
    "                   TextBlob(x).sentiment.subjectivity)\n",
    "test_features[\"subjectivity\"] = test_features[\"statement\"].apply(lambda x: \n",
    "                   TextBlob(x).sentiment.subjectivity)\n",
    "data_features.head()"
   ]
  },
  {
   "cell_type": "code",
   "execution_count": 160,
   "id": "6a378d2f",
   "metadata": {},
   "outputs": [
    {
     "data": {
      "text/html": [
       "<div>\n",
       "<style scoped>\n",
       "    .dataframe tbody tr th:only-of-type {\n",
       "        vertical-align: middle;\n",
       "    }\n",
       "\n",
       "    .dataframe tbody tr th {\n",
       "        vertical-align: top;\n",
       "    }\n",
       "\n",
       "    .dataframe thead th {\n",
       "        text-align: right;\n",
       "    }\n",
       "</style>\n",
       "<table border=\"1\" class=\"dataframe\">\n",
       "  <thead>\n",
       "    <tr style=\"text-align: right;\">\n",
       "      <th></th>\n",
       "      <th>statement</th>\n",
       "      <th>subject</th>\n",
       "      <th>speaker</th>\n",
       "      <th>speaker_job</th>\n",
       "      <th>state_info</th>\n",
       "      <th>party_affiliation</th>\n",
       "      <th>party_group</th>\n",
       "      <th>subjectivity</th>\n",
       "      <th>subjectivityRange</th>\n",
       "    </tr>\n",
       "  </thead>\n",
       "  <tbody>\n",
       "    <tr>\n",
       "      <th>0</th>\n",
       "      <td>China is in the South China Sea and (building)...</td>\n",
       "      <td>china,foreign-policy,military</td>\n",
       "      <td>donald-trump</td>\n",
       "      <td>President-Elect</td>\n",
       "      <td>New York</td>\n",
       "      <td>republican</td>\n",
       "      <td>0</td>\n",
       "      <td>0.100000</td>\n",
       "      <td>4.0</td>\n",
       "    </tr>\n",
       "    <tr>\n",
       "      <th>1</th>\n",
       "      <td>With the resources it takes to execute just ov...</td>\n",
       "      <td>health-care</td>\n",
       "      <td>chris-dodd</td>\n",
       "      <td>U.S. senator</td>\n",
       "      <td>Connecticut</td>\n",
       "      <td>democrat</td>\n",
       "      <td>1</td>\n",
       "      <td>0.000000</td>\n",
       "      <td>4.0</td>\n",
       "    </tr>\n",
       "    <tr>\n",
       "      <th>2</th>\n",
       "      <td>The (Wisconsin) governor has proposed tax give...</td>\n",
       "      <td>corporations,pundits,taxes,abc-news-week</td>\n",
       "      <td>donna-brazile</td>\n",
       "      <td>Political commentator</td>\n",
       "      <td>Washington, D.C.</td>\n",
       "      <td>democrat</td>\n",
       "      <td>1</td>\n",
       "      <td>0.000000</td>\n",
       "      <td>4.0</td>\n",
       "    </tr>\n",
       "    <tr>\n",
       "      <th>3</th>\n",
       "      <td>Says her representation of an ex-boyfriend who...</td>\n",
       "      <td>candidates-biography,children,ethics,families,...</td>\n",
       "      <td>rebecca-bradley</td>\n",
       "      <td>u.s. senator</td>\n",
       "      <td>unknown</td>\n",
       "      <td>none</td>\n",
       "      <td>2</td>\n",
       "      <td>0.076923</td>\n",
       "      <td>4.0</td>\n",
       "    </tr>\n",
       "    <tr>\n",
       "      <th>4</th>\n",
       "      <td>At protests in Wisconsin against proposed coll...</td>\n",
       "      <td>health-care,labor,state-budget</td>\n",
       "      <td>republican-party-wisconsin</td>\n",
       "      <td>u.s. senator</td>\n",
       "      <td>Wisconsin</td>\n",
       "      <td>republican</td>\n",
       "      <td>0</td>\n",
       "      <td>0.635714</td>\n",
       "      <td>1.0</td>\n",
       "    </tr>\n",
       "  </tbody>\n",
       "</table>\n",
       "</div>"
      ],
      "text/plain": [
       "                                           statement  \\\n",
       "0  China is in the South China Sea and (building)...   \n",
       "1  With the resources it takes to execute just ov...   \n",
       "2  The (Wisconsin) governor has proposed tax give...   \n",
       "3  Says her representation of an ex-boyfriend who...   \n",
       "4  At protests in Wisconsin against proposed coll...   \n",
       "\n",
       "                                             subject  \\\n",
       "0                      china,foreign-policy,military   \n",
       "1                                        health-care   \n",
       "2           corporations,pundits,taxes,abc-news-week   \n",
       "3  candidates-biography,children,ethics,families,...   \n",
       "4                     health-care,labor,state-budget   \n",
       "\n",
       "                      speaker            speaker_job        state_info  \\\n",
       "0                donald-trump        President-Elect          New York   \n",
       "1                  chris-dodd           U.S. senator       Connecticut   \n",
       "2               donna-brazile  Political commentator  Washington, D.C.   \n",
       "3             rebecca-bradley           u.s. senator           unknown   \n",
       "4  republican-party-wisconsin           u.s. senator         Wisconsin   \n",
       "\n",
       "  party_affiliation party_group  subjectivity  subjectivityRange  \n",
       "0        republican           0      0.100000                4.0  \n",
       "1          democrat           1      0.000000                4.0  \n",
       "2          democrat           1      0.000000                4.0  \n",
       "3              none           2      0.076923                4.0  \n",
       "4        republican           0      0.635714                1.0  "
      ]
     },
     "execution_count": 160,
     "metadata": {},
     "output_type": "execute_result"
    }
   ],
   "source": [
    "data_features.loc[data_features['subjectivity'] >= 0.8, 'subjectivityRange'] = int(0)\n",
    "data_features.loc[(data_features['subjectivity'] < 0.8) & (data_features['subjectivity'] >= 0.6), 'subjectivityRange'] = int(1)\n",
    "data_features.loc[(data_features['subjectivity'] < 0.6) & (data_features['subjectivity'] >= 0.4), 'subjectivityRange'] = int(2)\n",
    "data_features.loc[(data_features['subjectivity'] < 0.4) & (data_features['subjectivity'] >= 0.2), 'subjectivityRange'] = int(3)\n",
    "data_features.loc[data_features['subjectivity'] < 0.2, 'subjectivityRange'] = int(4)\n",
    "data_features.head()\n"
   ]
  },
  {
   "cell_type": "code",
   "execution_count": 161,
   "id": "14b1b55d",
   "metadata": {},
   "outputs": [
    {
     "data": {
      "text/html": [
       "<div>\n",
       "<style scoped>\n",
       "    .dataframe tbody tr th:only-of-type {\n",
       "        vertical-align: middle;\n",
       "    }\n",
       "\n",
       "    .dataframe tbody tr th {\n",
       "        vertical-align: top;\n",
       "    }\n",
       "\n",
       "    .dataframe thead th {\n",
       "        text-align: right;\n",
       "    }\n",
       "</style>\n",
       "<table border=\"1\" class=\"dataframe\">\n",
       "  <thead>\n",
       "    <tr style=\"text-align: right;\">\n",
       "      <th></th>\n",
       "      <th>statement</th>\n",
       "      <th>subject</th>\n",
       "      <th>speaker</th>\n",
       "      <th>speaker_job</th>\n",
       "      <th>state_info</th>\n",
       "      <th>party_affiliation</th>\n",
       "      <th>party_group</th>\n",
       "      <th>subjectivity</th>\n",
       "      <th>subjectivityRange</th>\n",
       "    </tr>\n",
       "  </thead>\n",
       "  <tbody>\n",
       "    <tr>\n",
       "      <th>0</th>\n",
       "      <td>Five members of [the Common Cause Georgia] boa...</td>\n",
       "      <td>campaign-finance,ethics,government-regulation</td>\n",
       "      <td>kasim-reed</td>\n",
       "      <td>u.s. senator</td>\n",
       "      <td>unknown</td>\n",
       "      <td>democrat</td>\n",
       "      <td>1</td>\n",
       "      <td>0.500000</td>\n",
       "      <td>2.0</td>\n",
       "    </tr>\n",
       "    <tr>\n",
       "      <th>1</th>\n",
       "      <td>Theres no negative advertising in my campaign ...</td>\n",
       "      <td>elections</td>\n",
       "      <td>bill-mccollum</td>\n",
       "      <td>u.s. senator</td>\n",
       "      <td>Florida</td>\n",
       "      <td>republican</td>\n",
       "      <td>0</td>\n",
       "      <td>0.400000</td>\n",
       "      <td>2.0</td>\n",
       "    </tr>\n",
       "    <tr>\n",
       "      <th>2</th>\n",
       "      <td>Leticia Van de Putte voted to give illegal imm...</td>\n",
       "      <td>health-care,immigration,public-health</td>\n",
       "      <td>dan-patrick</td>\n",
       "      <td>Lieutenant governor-elect</td>\n",
       "      <td>Texas</td>\n",
       "      <td>republican</td>\n",
       "      <td>0</td>\n",
       "      <td>0.712500</td>\n",
       "      <td>1.0</td>\n",
       "    </tr>\n",
       "    <tr>\n",
       "      <th>3</th>\n",
       "      <td>Fiorinas plan would mean slashing Social Secur...</td>\n",
       "      <td>federal-budget,medicare,social-security</td>\n",
       "      <td>barbara-boxer</td>\n",
       "      <td>U.S. Senator</td>\n",
       "      <td>California</td>\n",
       "      <td>democrat</td>\n",
       "      <td>1</td>\n",
       "      <td>0.377083</td>\n",
       "      <td>3.0</td>\n",
       "    </tr>\n",
       "    <tr>\n",
       "      <th>4</th>\n",
       "      <td>By the end of his first term, President Obama ...</td>\n",
       "      <td>federal-budget,new-hampshire-2012</td>\n",
       "      <td>mitt-romney</td>\n",
       "      <td>Former governor</td>\n",
       "      <td>Massachusetts</td>\n",
       "      <td>republican</td>\n",
       "      <td>0</td>\n",
       "      <td>0.177778</td>\n",
       "      <td>4.0</td>\n",
       "    </tr>\n",
       "  </tbody>\n",
       "</table>\n",
       "</div>"
      ],
      "text/plain": [
       "                                           statement  \\\n",
       "0  Five members of [the Common Cause Georgia] boa...   \n",
       "1  Theres no negative advertising in my campaign ...   \n",
       "2  Leticia Van de Putte voted to give illegal imm...   \n",
       "3  Fiorinas plan would mean slashing Social Secur...   \n",
       "4  By the end of his first term, President Obama ...   \n",
       "\n",
       "                                         subject        speaker  \\\n",
       "0  campaign-finance,ethics,government-regulation     kasim-reed   \n",
       "1                                      elections  bill-mccollum   \n",
       "2          health-care,immigration,public-health    dan-patrick   \n",
       "3        federal-budget,medicare,social-security  barbara-boxer   \n",
       "4              federal-budget,new-hampshire-2012    mitt-romney   \n",
       "\n",
       "                 speaker_job     state_info party_affiliation party_group  \\\n",
       "0               u.s. senator        unknown          democrat           1   \n",
       "1               u.s. senator        Florida        republican           0   \n",
       "2  Lieutenant governor-elect          Texas        republican           0   \n",
       "3               U.S. Senator     California          democrat           1   \n",
       "4            Former governor  Massachusetts        republican           0   \n",
       "\n",
       "   subjectivity  subjectivityRange  \n",
       "0      0.500000                2.0  \n",
       "1      0.400000                2.0  \n",
       "2      0.712500                1.0  \n",
       "3      0.377083                3.0  \n",
       "4      0.177778                4.0  "
      ]
     },
     "execution_count": 161,
     "metadata": {},
     "output_type": "execute_result"
    }
   ],
   "source": [
    "test_features.loc[test_features['subjectivity'] >= 0.8, 'subjectivityRange'] = int(0)\n",
    "test_features.loc[(test_features['subjectivity'] < 0.8) & (test_features['subjectivity'] >= 0.6), 'subjectivityRange'] = int(1)\n",
    "test_features.loc[(test_features['subjectivity'] < 0.6) & (test_features['subjectivity'] >= 0.4), 'subjectivityRange'] = int(2)\n",
    "test_features.loc[(test_features['subjectivity'] < 0.4) & (test_features['subjectivity'] >= 0.2), 'subjectivityRange'] = int(3)\n",
    "test_features.loc[test_features['subjectivity'] < 0.2, 'subjectivityRange'] = int(4)\n",
    "test_features.head()\n",
    "\n"
   ]
  },
  {
   "cell_type": "code",
   "execution_count": 162,
   "id": "6e5641ec",
   "metadata": {},
   "outputs": [],
   "source": [
    "y_8 = np.array(data_features[\"subjectivityRange\"])\n",
    "y_p8 = np.array(test_features[\"subjectivityRange\"])"
   ]
  },
  {
   "cell_type": "markdown",
   "id": "3cd94de7",
   "metadata": {},
   "source": [
    "We created an array (y_8) with the values of subjectivityRange which we will further use in the creation of a sparse matrix."
   ]
  },
  {
   "cell_type": "markdown",
   "id": "126f50ae",
   "metadata": {},
   "source": [
    "<div class=\"alert alert-block alert-info\">\n",
    "    <span style='color:darkblue'><font size=\"4\"><b>CONCLUSION DATA VISUALIZATION</b></font></span><br><br> <span style='color:black'> In conclusion we have a training dataset with 8950 instances and 8 features and a test dataset with 3836 instances. We have added 2 features, one feature called \"party_group\" and one called \"subjectivity\". The column \"label\" is the label to be predicted which we will now do using nlp processing and various ML algorithms.\n",
    "     </span>\n",
    "</div>"
   ]
  },
  {
   "cell_type": "markdown",
   "id": "3d36412f",
   "metadata": {},
   "source": [
    "<span style='color:mediumpurple'><font size=\"6\">__NLP algorithms__</font></span><br>"
   ]
  },
  {
   "cell_type": "code",
   "execution_count": 163,
   "id": "8d7938dc",
   "metadata": {},
   "outputs": [],
   "source": [
    "X1 = data_features['statement'].values\n",
    "X2 = data_features['subject'].values\n",
    "X3 = data_features['speaker'].values\n",
    "X4 = data_features['speaker_job'].values\n",
    "X5 = data_features['state_info'].values\n",
    "X6 = data_features['party_affiliation'].values\n",
    "y = train['label'].values\n",
    "\n",
    "\n",
    "X_test1 = test_features['statement'].values\n",
    "X_test2 = test_features['subject'].values\n",
    "X_test3 = test_features['speaker'].values\n",
    "X_test4 = test_features['speaker_job'].values\n",
    "X_test5 = test_features['state_info'].values\n",
    "X_test6 = test_features['party_affiliation'].values"
   ]
  },
  {
   "cell_type": "markdown",
   "id": "aabd71be",
   "metadata": {},
   "source": [
    "In our transformers will perform the following tasks:\n",
    "- split the sentences \n",
    "- split the words\n",
    "- remove stop words \n",
    "- remove the punctuation\n",
    "- modify capital letters in lowercases\n",
    "- remove morphological affixes with stemmers, leaving only the word stem \n",
    "- we also perform POS tagging which assigns a grammatical category to a word\n",
    "- transform the text into numerical feature vectors using vectorizer"
   ]
  },
  {
   "cell_type": "code",
   "execution_count": 164,
   "id": "ddefdee8",
   "metadata": {},
   "outputs": [],
   "source": [
    "# Generic Transformer \n",
    "class GenericTransformer(BaseEstimator, TransformerMixin):\n",
    "\n",
    "    def transform(self, X, y=None):\n",
    "        return do_something_to(X, self.vars)  # where the actual feature extraction happens\n",
    "\n",
    "    def fit(self, X, y=None):\n",
    "        return self  # used if the feature requires training, for example, clustering"
   ]
  },
  {
   "cell_type": "code",
   "execution_count": 165,
   "id": "e0b20335",
   "metadata": {},
   "outputs": [],
   "source": [
    "class LexicalStats (BaseEstimator, TransformerMixin):\n",
    "    \"\"\"Extract lexical features from each document\"\"\"\n",
    "    \n",
    "    def number_sentences(self, doc):\n",
    "        sentences = sent_tokenize(doc, language='english')\n",
    "        return len(sentences)\n",
    "\n",
    "    def fit(self, x, y=None):\n",
    "        return self\n",
    "\n",
    "    def transform(self, docs):\n",
    "        return [{'length': len(doc),\n",
    "                 'num_sentences': self.number_sentences(doc)}\n",
    "                for doc in docs]"
   ]
  },
  {
   "cell_type": "code",
   "execution_count": 166,
   "id": "27ee4ebd",
   "metadata": {},
   "outputs": [],
   "source": [
    "def custom_tokenizer(words):\n",
    "    \"\"\"Preprocessing tokens as seen in the lexical notebook\"\"\"\n",
    "    tokens = word_tokenize(words.lower())\n",
    "    porter = PorterStemmer()\n",
    "    lemmas = [porter.stem(t) for t in tokens]\n",
    "    stoplist = stopwords.words('english')\n",
    "    lemmas_clean = [w for w in lemmas if w not in stoplist]\n",
    "    punctuation = set(string.punctuation)\n",
    "    lemmas_punct = [w for w in lemmas_clean if  w not in punctuation]\n",
    "    return lemmas_punct"
   ]
  },
  {
   "cell_type": "code",
   "execution_count": 167,
   "id": "464a7cff",
   "metadata": {},
   "outputs": [],
   "source": [
    "class PosStats(BaseEstimator, TransformerMixin):\n",
    "    \"\"\"Obtain number of tokens with POS categories\"\"\"\n",
    "\n",
    "    def stats(self, doc):\n",
    "        tokens = custom_tokenizer(doc)\n",
    "        tagged = pos_tag(tokens, tagset='universal')\n",
    "        counts = Counter(tag for word,tag in tagged)\n",
    "        total = sum(counts.values())\n",
    "        #copy tags so that we return always the same number of features\n",
    "        pos_features = {'NOUN': 0, 'ADJ': 0, 'VERB': 0, 'ADV': 0, 'CONJ': 0, \n",
    "                        'ADP': 0, 'PRON':0, 'NUM': 0}\n",
    "        \n",
    "        pos_dic = dict((tag, float(count)/total) for tag,count in counts.items())\n",
    "        for k in pos_dic:\n",
    "            if k in pos_features:\n",
    "                pos_features[k] = pos_dic[k]\n",
    "        return pos_features\n",
    "    \n",
    "    def transform(self, docs, y=None):\n",
    "        return [self.stats(doc) for doc in docs]\n",
    "    \n",
    "    def fit(self, docs, y=None):\n",
    "        \"\"\"Returns `self` unless something different happens in train and test\"\"\"\n",
    "        return self"
   ]
  },
  {
   "cell_type": "code",
   "execution_count": 168,
   "id": "426c7d71",
   "metadata": {},
   "outputs": [],
   "source": [
    "ngrams_featurizer = Pipeline([\n",
    "  ('count_vectorizer',  CountVectorizer(ngram_range = (1, 3), encoding = 'ISO-8859-1', \n",
    "                                        tokenizer=custom_tokenizer)),\n",
    "  ('tfidf_transformer', TfidfTransformer())\n",
    "])"
   ]
  },
  {
   "cell_type": "markdown",
   "id": "8943c0af",
   "metadata": {},
   "source": [
    "<span style='color:steelblue'><font size=\"5\">__Pipelines for each feature__</font></span><br>"
   ]
  },
  {
   "cell_type": "markdown",
   "id": "550267ee",
   "metadata": {},
   "source": [
    "In this section we will use pipelines with the desired features to extract (lexical...). We applied one pipeline on every feature of the dataset one at a time. In the next section we will use the predictions from these pipelines and combine them together to predict the label of the test dataset.\n"
   ]
  },
  {
   "cell_type": "code",
   "execution_count": 169,
   "id": "bbdd98a3",
   "metadata": {},
   "outputs": [
    {
     "name": "stdout",
     "output_type": "stream",
     "text": [
      "Scores in every iteration [0.59821229 0.58703911]\n",
      "Accuracy: 0.59 (+/- 0.01)\n"
     ]
    }
   ],
   "source": [
    "#feature \"statement\"\n",
    "pipeline1 = Pipeline([\n",
    "       ('features', FeatureUnion([\n",
    "                    ('lexical_stats', Pipeline([\n",
    "                                ('stats', LexicalStats()),\n",
    "                                ('vectors', DictVectorizer())\n",
    "                            ])),\n",
    "                    ('words', TfidfVectorizer(tokenizer=custom_tokenizer)),\n",
    "                    ('ngrams', ngrams_featurizer),\n",
    "                    ('pos_stats', Pipeline([\n",
    "                                ('pos_stats', PosStats()),\n",
    "                                ('vectors', DictVectorizer())\n",
    "                            ])),\n",
    "                    ('lda', Pipeline([ \n",
    "                                ('count', CountVectorizer(tokenizer=custom_tokenizer)),\n",
    "                                ('lda',  LatentDirichletAllocation(n_components=4, max_iter=5,\n",
    "                                                       learning_method='online', \n",
    "                                                       learning_offset=50.,\n",
    "                                                       random_state=0))\n",
    "                            ])),\n",
    "                ])),\n",
    "         ('clf', MultinomialNB(alpha=.0001))\n",
    "    ])\n",
    "\n",
    "\n",
    "#Train the pipeline with values from train dataset\n",
    "pipeline1.fit(X1,y)\n",
    "\n",
    "#Predict the labels using the values from the train dataset\n",
    "y_1 = pipeline1.predict(X1)\n",
    "\n",
    "#Predict the labels using the values from the test dataset\n",
    "y_p1 = pipeline1.predict(X_test1)\n",
    "\n",
    "# Accuracy using KFold validation\n",
    "cv = KFold(2, shuffle=True, random_state=33)\n",
    "scores = cross_val_score(pipeline1, X1, y, cv=cv)\n",
    "print(\"Scores in every iteration\", scores)\n",
    "print(\"Accuracy: %0.2f (+/- %0.2f)\" % (scores.mean(), scores.std() * 2))"
   ]
  },
  {
   "cell_type": "code",
   "execution_count": 170,
   "id": "08a6ac03",
   "metadata": {},
   "outputs": [
    {
     "name": "stdout",
     "output_type": "stream",
     "text": [
      "Scores in every iteration [0.57765363 0.5803352 ]\n",
      "Accuracy: 0.58 (+/- 0.00)\n"
     ]
    }
   ],
   "source": [
    "#feature \"subject\"\n",
    "pipeline2 = Pipeline([\n",
    "       ('features', FeatureUnion([\n",
    "                    ('lexical_stats', Pipeline([\n",
    "                                ('stats', LexicalStats()),\n",
    "                                ('vectors', DictVectorizer())\n",
    "                            ])),\n",
    "                    ('words', TfidfVectorizer(tokenizer=custom_tokenizer)),\n",
    "                    ('ngrams', ngrams_featurizer),\n",
    "                    ('pos_stats', Pipeline([\n",
    "                                ('pos_stats', PosStats()),\n",
    "                                ('vectors', DictVectorizer())\n",
    "                            ])),\n",
    "                    ('lda', Pipeline([ \n",
    "                                ('count', CountVectorizer(tokenizer=custom_tokenizer)),\n",
    "                                ('lda',  LatentDirichletAllocation(n_components=4, max_iter=5,\n",
    "                                                       learning_method='online', \n",
    "                                                       learning_offset=50.,\n",
    "                                                       random_state=0))\n",
    "                            ])),\n",
    "                ])),\n",
    "       ('clf', MultinomialNB(alpha=.0001))\n",
    "    ])\n",
    "\n",
    "#Train the pipeline with values from train dataset\n",
    "pipeline2.fit(X2,y)\n",
    "\n",
    "#Predict the labels using the values from the test dataset\n",
    "y_p2 = pipeline2.predict(X_test2)\n",
    "\n",
    "#Predict the labels using the values from the train dataset\n",
    "y_2=pipeline2.predict(X2)\n",
    "\n",
    "# Accuracy using KFold validation\n",
    "cv = KFold(2, shuffle=True, random_state=33)\n",
    "scores = cross_val_score(pipeline2, X2, y, cv=cv)\n",
    "print(\"Scores in every iteration\", scores)\n",
    "print(\"Accuracy: %0.2f (+/- %0.2f)\" % (scores.mean(), scores.std() * 2))"
   ]
  },
  {
   "cell_type": "code",
   "execution_count": 171,
   "id": "34ad742b",
   "metadata": {},
   "outputs": [
    {
     "name": "stdout",
     "output_type": "stream",
     "text": [
      "Scores in every iteration [0.62122905 0.60648045]\n",
      "Accuracy: 0.61 (+/- 0.01)\n"
     ]
    }
   ],
   "source": [
    "#feature \"speaker\"\n",
    "pipeline3 = Pipeline([\n",
    "       ('features', FeatureUnion([\n",
    "                    ('lexical_stats', Pipeline([\n",
    "                                ('stats', LexicalStats()),\n",
    "                                ('vectors', DictVectorizer())\n",
    "                            ])),\n",
    "                    ('words', TfidfVectorizer(tokenizer=custom_tokenizer)),\n",
    "                    ('ngrams', ngrams_featurizer),\n",
    "                    ('pos_stats', Pipeline([\n",
    "                                ('pos_stats', PosStats()),\n",
    "                                ('vectors', DictVectorizer())\n",
    "                            ])),\n",
    "                    ('lda', Pipeline([ \n",
    "                                ('count', CountVectorizer(tokenizer=custom_tokenizer)),\n",
    "                                ('lda',  LatentDirichletAllocation(n_components=4, max_iter=5,\n",
    "                                                       learning_method='online', \n",
    "                                                       learning_offset=50.,\n",
    "                                                       random_state=0))\n",
    "                            ])),\n",
    "                ])),\n",
    "       ('clf', MultinomialNB(alpha=.0001))\n",
    "    ])\n",
    "\n",
    "#Train the pipeline with values from train dataset\n",
    "pipeline3.fit(X3,y)\n",
    "\n",
    "#Predict the labels using the values from the test dataset\n",
    "y_p3 = pipeline3.predict(X_test3)\n",
    "\n",
    "#Predict the labels using the values from the train dataset\n",
    "y_3=pipeline3.predict(X3)\n",
    "\n",
    "# Accuracy using KFold validation\n",
    "cv = KFold(2, shuffle=True, random_state=33)\n",
    "scores = cross_val_score(pipeline3, X3, y, cv=cv)\n",
    "print(\"Scores in every iteration\", scores)\n",
    "print(\"Accuracy: %0.2f (+/- %0.2f)\" % (scores.mean(), scores.std() * 2))"
   ]
  },
  {
   "cell_type": "code",
   "execution_count": 172,
   "id": "1941603d",
   "metadata": {},
   "outputs": [
    {
     "name": "stdout",
     "output_type": "stream",
     "text": [
      "Scores in every iteration [0.61296089 0.62748603]\n",
      "Accuracy: 0.62 (+/- 0.01)\n"
     ]
    }
   ],
   "source": [
    "#feature \"speaker_job\"\n",
    "pipeline4 = Pipeline([\n",
    "       ('features', FeatureUnion([\n",
    "                    ('lexical_stats', Pipeline([\n",
    "                                ('stats', LexicalStats()),\n",
    "                                ('vectors', DictVectorizer())\n",
    "                            ])),\n",
    "                    ('words', TfidfVectorizer(tokenizer=custom_tokenizer)),\n",
    "                    ('ngrams', ngrams_featurizer),\n",
    "                    ('pos_stats', Pipeline([\n",
    "                                ('pos_stats', PosStats()),\n",
    "                                ('vectors', DictVectorizer())\n",
    "                            ])),\n",
    "                    ('lda', Pipeline([ \n",
    "                                ('count', CountVectorizer(tokenizer=custom_tokenizer)),\n",
    "                                ('lda',  LatentDirichletAllocation(n_components=4, max_iter=5,\n",
    "                                                       learning_method='online', \n",
    "                                                       learning_offset=50.,\n",
    "                                                       random_state=0))\n",
    "                            ])),\n",
    "                ])),\n",
    "       ('clf', MultinomialNB(alpha=.0001))\n",
    "    ])\n",
    "\n",
    "#Train the pipeline with values from train dataset\n",
    "pipeline4.fit(X4,y)\n",
    "\n",
    "#Predict the labels using the values from the test dataset\n",
    "y_p4 = pipeline4.predict(X_test4)\n",
    "\n",
    "#Predict the labels using the values from the train dataset\n",
    "y_4 = pipeline4.predict(X4)\n",
    "\n",
    "\n",
    "# Accuracy using KFold validation\n",
    "cv = KFold(2, shuffle=True, random_state=33)\n",
    "scores = cross_val_score(pipeline4, X4, y, cv=cv)\n",
    "print(\"Scores in every iteration\", scores)\n",
    "print(\"Accuracy: %0.2f (+/- %0.2f)\" % (scores.mean(), scores.std() * 2))"
   ]
  },
  {
   "cell_type": "code",
   "execution_count": 173,
   "id": "f5ca34a0",
   "metadata": {},
   "outputs": [
    {
     "name": "stdout",
     "output_type": "stream",
     "text": [
      "Scores in every iteration [0.62547486 0.60290503]\n",
      "Accuracy: 0.61 (+/- 0.02)\n"
     ]
    }
   ],
   "source": [
    "#feature \"state_info\"\n",
    "pipeline5 = Pipeline([\n",
    "       ('features', FeatureUnion([\n",
    "                    ('lexical_stats', Pipeline([\n",
    "                                ('stats', LexicalStats()),\n",
    "                                ('vectors', DictVectorizer())\n",
    "                            ])),\n",
    "                    ('words', TfidfVectorizer(tokenizer=custom_tokenizer)),\n",
    "                    ('ngrams', ngrams_featurizer),\n",
    "                    ('pos_stats', Pipeline([\n",
    "                                ('pos_stats', PosStats()),\n",
    "                                ('vectors', DictVectorizer())\n",
    "                            ])),\n",
    "                    ('lda', Pipeline([ \n",
    "                                ('count', CountVectorizer(tokenizer=custom_tokenizer)),\n",
    "                                ('lda',  LatentDirichletAllocation(n_components=4, max_iter=5,\n",
    "                                                       learning_method='online', \n",
    "                                                       learning_offset=50.,\n",
    "                                                       random_state=0))\n",
    "                            ])),\n",
    "                ])),\n",
    "       ('clf', MultinomialNB(alpha=.0001))\n",
    "    ])\n",
    "\n",
    "#Train the pipeline with values from train dataset\n",
    "pipeline5.fit(X5,y)\n",
    "\n",
    "#Predict the labels using the values from the test dataset\n",
    "y_p5 = pipeline5.predict(X_test5)\n",
    "\n",
    "#Predict the labels using the values from the train dataset\n",
    "y_5 = pipeline5.predict(X5)\n",
    "\n",
    "# Accuracy using KFold validation\n",
    "cv = KFold(2, shuffle=True, random_state=33)\n",
    "scores = cross_val_score(pipeline5, X5, y, cv=cv)\n",
    "print(\"Scores in every iteration\", scores)\n",
    "print(\"Accuracy: %0.2f (+/- %0.2f)\" % (scores.mean(), scores.std() * 2))"
   ]
  },
  {
   "cell_type": "code",
   "execution_count": 174,
   "id": "b687983a",
   "metadata": {},
   "outputs": [
    {
     "name": "stdout",
     "output_type": "stream",
     "text": [
      "Scores in every iteration [0.60379888 0.6073743 ]\n",
      "Accuracy: 0.61 (+/- 0.00)\n"
     ]
    }
   ],
   "source": [
    "#feature \"party_affiliation\"\n",
    "pipeline6 = Pipeline([\n",
    "       ('features', FeatureUnion([\n",
    "                    ('lexical_stats', Pipeline([\n",
    "                                ('stats', LexicalStats()),\n",
    "                                ('vectors', DictVectorizer())\n",
    "                            ])),\n",
    "                    ('words', TfidfVectorizer(tokenizer=custom_tokenizer)),\n",
    "                    ('ngrams', ngrams_featurizer),\n",
    "                    ('pos_stats', Pipeline([\n",
    "                                ('pos_stats', PosStats()),\n",
    "                                ('vectors', DictVectorizer())\n",
    "                            ])),\n",
    "                    ('lda', Pipeline([ \n",
    "                                ('count', CountVectorizer(tokenizer=custom_tokenizer)),\n",
    "                                ('lda',  LatentDirichletAllocation(n_components=4, max_iter=5,\n",
    "                                                       learning_method='online', \n",
    "                                                       learning_offset=50.,\n",
    "                                                       random_state=0))\n",
    "                            ])),\n",
    "                ])),\n",
    "       ('clf', MultinomialNB(alpha=.0001))\n",
    "    ])\n",
    "\n",
    "\n",
    "#Train the pipeline with values from train dataset\n",
    "pipeline6.fit(X6,y)\n",
    "\n",
    "#Predict the labels using the values from the test dataset\n",
    "y_p6 = pipeline6.predict(X_test6)\n",
    "\n",
    "#Predict the labels using the values from the train dataset\n",
    "y_6=pipeline6.predict(X6)\n",
    "\n",
    "# Accurcy using KFold validation\n",
    "cv = KFold(2, shuffle=True, random_state=33)\n",
    "scores = cross_val_score(pipeline6, X6, y, cv=cv)\n",
    "print(\"Scores in every iteration\", scores)\n",
    "print(\"Accuracy: %0.2f (+/- %0.2f)\" % (scores.mean(), scores.std() * 2))"
   ]
  },
  {
   "cell_type": "markdown",
   "id": "b8221378",
   "metadata": {},
   "source": [
    "Now each pipeline has given a set of predictions based on only one feature at a time. We will now use these predictions all together as a training set to train various ML algo in order to predict the label of the test dataset."
   ]
  },
  {
   "cell_type": "markdown",
   "id": "91074baf",
   "metadata": {},
   "source": [
    "<span style='color:steelblue'><font size=\"5\">__Manual implementation of weights for each pipeline prediction__</font></span><br>"
   ]
  },
  {
   "cell_type": "markdown",
   "id": "aa4ffc33",
   "metadata": {},
   "source": [
    "In the following cell we chose weights based on what we thought would be the most important features in order to predict the labels correctly. We put bigger weights to the features \"statement\" and \"speaker\" since they were the ones which improved the best our accuracy. We put a weight of 0.0 to state since it gave bad predictions."
   ]
  },
  {
   "cell_type": "code",
   "execution_count": 175,
   "id": "8bf998dc",
   "metadata": {},
   "outputs": [],
   "source": [
    "y_p = np.zeros(3836);\n",
    "\n",
    "for k in range(3836) :\n",
    "    y_p[k] = 0.3*y_p1[k] + 0.1*y_p2[k] + 0.3*y_p3[k] + 0.1*y_p4[k]+ 0.0*y_p5[k]+ 0.2*y_p6[k]\n",
    "    \n",
    "    if y_p[k] >= 0.5 :\n",
    "        y_p[k] = 1\n",
    "    else :\n",
    "        y_p[k]= 0\n",
    "        \n",
    "    y_predicted_manuelWeights = y_p.astype(int)"
   ]
  },
  {
   "cell_type": "markdown",
   "id": "f28fbf1f",
   "metadata": {},
   "source": [
    "<span style='color:steelblue'><font size=\"5\">__Creation of sparse matrix to be used as a train set for further implementation__</font></span><br>"
   ]
  },
  {
   "cell_type": "markdown",
   "id": "fa496040",
   "metadata": {},
   "source": [
    "We formed a 2d array with the predicted values of the labels in each colum (column 1 is the prediction from pipeline1, column 2 for pipeline2 etc). Column7 corresponds to the feature \"party_group\" and column8 corresponds to \"subjectivityRange\", both were implemented in the section feature engineering. \n",
    "\n",
    "In other words, each pipeline gave us a prediction of the labels according to only one feature for the train dataset and we will now use these predictions all together (the predictions of every features). With them we will train ML algorithms to predict the label of the test dataset. To work with the predictions all together we will create a sparse matrix (see cell below) which will be used as the training set in our ML algo.\n"
   ]
  },
  {
   "cell_type": "code",
   "execution_count": 176,
   "id": "8ab22883",
   "metadata": {},
   "outputs": [
    {
     "name": "stdout",
     "output_type": "stream",
     "text": [
      "[[1 1 1 ... 1 0 4.0]\n",
      " [0 1 0 ... 0 1 4.0]\n",
      " [0 0 0 ... 0 1 4.0]\n",
      " ...\n",
      " [0 1 0 ... 1 0 2.0]\n",
      " [1 0 1 ... 1 0 2.0]\n",
      " [0 0 0 ... 0 1 4.0]]\n"
     ]
    },
    {
     "data": {
      "text/plain": [
       "(8950, 8)"
      ]
     },
     "execution_count": 176,
     "metadata": {},
     "output_type": "execute_result"
    }
   ],
   "source": [
    "y_tt = np.array([y_1,y_2,y_3,y_4,y_5,y_6,y_7,y_8])\n",
    "y_t = np.transpose(y_tt)\n",
    "print(y_t)\n",
    "y_t.shape"
   ]
  },
  {
   "cell_type": "code",
   "execution_count": 177,
   "id": "1986f986",
   "metadata": {},
   "outputs": [
    {
     "name": "stdout",
     "output_type": "stream",
     "text": [
      "[[1 1 0 ... 0 1 2.0]\n",
      " [0 0 1 ... 1 0 2.0]\n",
      " [1 1 1 ... 1 0 1.0]\n",
      " ...\n",
      " [1 1 0 ... 1 0 4.0]\n",
      " [1 0 1 ... 1 2 2.0]\n",
      " [0 1 1 ... 1 2 4.0]]\n"
     ]
    },
    {
     "data": {
      "text/plain": [
       "(3836, 8)"
      ]
     },
     "execution_count": 177,
     "metadata": {},
     "output_type": "execute_result"
    }
   ],
   "source": [
    "y_pt = np.array([y_p1,y_p2,y_p3, y_p4,y_p5,y_p6,y_p7, y_p8])\n",
    "y_p = np.transpose(y_pt)\n",
    "print(y_p)\n",
    "y_p.shape"
   ]
  },
  {
   "cell_type": "markdown",
   "id": "cb509abe",
   "metadata": {},
   "source": [
    "<span style='color:mediumpurple'><font size=\"6\">__Machine Learning Algorithms__</font></span><br>"
   ]
  },
  {
   "cell_type": "markdown",
   "id": "fcfedcc6",
   "metadata": {},
   "source": [
    "<span style='color:steelblue'><font size=\"5\">__Perceptron__</font></span><br>"
   ]
  },
  {
   "cell_type": "code",
   "execution_count": 178,
   "id": "28f29eb2",
   "metadata": {},
   "outputs": [],
   "source": [
    "perc_clf = Perceptron(max_iter=906, tol=1e-3, random_state=5, n_iter_no_change=6)\n",
    "perc_clf.fit(y_t,y)\n",
    "y_predicted=perc_clf.predict(y_p)"
   ]
  },
  {
   "cell_type": "markdown",
   "id": "11c7a1cc",
   "metadata": {},
   "source": [
    "<span style='color:steelblue'><font size=\"5\">__kNN__</font></span><br>"
   ]
  },
  {
   "cell_type": "code",
   "execution_count": 179,
   "id": "699839ce",
   "metadata": {},
   "outputs": [],
   "source": [
    "kNN_clf=KNeighborsClassifier(n_neighbors=5, weights='distance', algorithm='brute')\n",
    "kNN_clf.fit(y_t,y)\n",
    "y_predicted_kNN=kNN_clf.predict(y_p)"
   ]
  },
  {
   "cell_type": "markdown",
   "id": "f2e1a6fa",
   "metadata": {},
   "source": [
    "<span style='color:steelblue'><font size=\"5\">__MLP, Deep Learning__</font></span><br>"
   ]
  },
  {
   "cell_type": "code",
   "execution_count": 180,
   "id": "be79da51",
   "metadata": {},
   "outputs": [],
   "source": [
    "mlp_clf = MLPClassifier(hidden_layer_sizes=(50,), alpha=1e-02 ,solver='adam', random_state=1, max_iter=600, activation='relu')\n",
    "mlp_clf.fit(y_t, y)\n",
    "y_predicted = mlp_clf.predict(y_p)"
   ]
  },
  {
   "cell_type": "markdown",
   "id": "3d864876",
   "metadata": {},
   "source": [
    "<span style='color:steelblue'><font size=\"5\">__Multinomial__</font></span><br>"
   ]
  },
  {
   "cell_type": "code",
   "execution_count": 181,
   "id": "7ba3e637",
   "metadata": {},
   "outputs": [],
   "source": [
    "mb_clf = MultinomialNB(alpha=0.0001)\n",
    "mb_clf.fit(y_t, y)\n",
    "\n",
    "y_predicted = mb_clf.predict(y_p)"
   ]
  },
  {
   "cell_type": "markdown",
   "id": "7cfc84f9",
   "metadata": {},
   "source": [
    "<span style='color:mediumpurple'><font size=\"5\">__Ensemble Algorithms__</font></span><br>"
   ]
  },
  {
   "cell_type": "markdown",
   "id": "783882a0",
   "metadata": {},
   "source": [
    "<span style='color:steelblue'><font size=\"5\">Voting Classifier</font></span><br>"
   ]
  },
  {
   "cell_type": "code",
   "execution_count": 182,
   "id": "201079a9",
   "metadata": {},
   "outputs": [
    {
     "data": {
      "text/plain": [
       "VotingClassifier(estimators=[('knn',\n",
       "                              KNeighborsClassifier(algorithm='brute',\n",
       "                                                   weights='distance')),\n",
       "                             ('mlp',\n",
       "                              MLPClassifier(alpha=0.01,\n",
       "                                            hidden_layer_sizes=(50,),\n",
       "                                            max_iter=600, random_state=1)),\n",
       "                             ('mb', MultinomialNB(alpha=0.0001))])"
      ]
     },
     "execution_count": 182,
     "metadata": {},
     "output_type": "execute_result"
    }
   ],
   "source": [
    "VotingModel = VotingClassifier(estimators=[('knn', kNN_clf), ('mlp', mlp_clf), ('mb', mb_clf)], voting='hard')\n",
    "VotingModel.fit(y_t, y)"
   ]
  },
  {
   "cell_type": "markdown",
   "id": "c7b531fe",
   "metadata": {},
   "source": [
    "<span style='color:steelblue'><font size=\"5\">Stacking</font></span><br>"
   ]
  },
  {
   "cell_type": "code",
   "execution_count": 183,
   "id": "ba0a00d1",
   "metadata": {},
   "outputs": [
    {
     "data": {
      "text/plain": [
       "StackingClassifier(estimators=[('knn',\n",
       "                                KNeighborsClassifier(algorithm='brute',\n",
       "                                                     weights='distance')),\n",
       "                               ('mlp',\n",
       "                                MLPClassifier(alpha=0.01,\n",
       "                                              hidden_layer_sizes=(50,),\n",
       "                                              max_iter=600, random_state=1)),\n",
       "                               ('mb', MultinomialNB(alpha=0.0001))],\n",
       "                   final_estimator=LogisticRegression())"
      ]
     },
     "execution_count": 183,
     "metadata": {},
     "output_type": "execute_result"
    }
   ],
   "source": [
    "stackingModel = StackingClassifier(estimators=[('knn', kNN_clf), ('mlp', mlp_clf), ('mb', mb_clf)],final_estimator=LogisticRegression())\n",
    "stackingModel.fit(y_t,y)"
   ]
  },
  {
   "cell_type": "markdown",
   "id": "8f45d65c",
   "metadata": {},
   "source": [
    "<span style='color:mediumpurple'><font size=\"6\">__Hyperparameter tuning using GA__</font></span><br>"
   ]
  },
  {
   "cell_type": "markdown",
   "id": "2a394705",
   "metadata": {},
   "source": [
    "<span style='color:steelblue'><font size=\"5\">__Perceptron__</font></span><br>"
   ]
  },
  {
   "cell_type": "code",
   "execution_count": 184,
   "id": "ec45449a",
   "metadata": {},
   "outputs": [],
   "source": [
    "param_grid_perc = [{'alpha': np.arange(0.0001, 0.001),\n",
    "                    'max_iter': np.arange(800,1100),\n",
    "                   'fit_intercept': np.arange(0,1),\n",
    "                   'random_state': np.arange(0,10),\n",
    "                   'n_iter_no_change': np.arange(4,8)              \n",
    "                    }]"
   ]
  },
  {
   "cell_type": "code",
   "execution_count": 185,
   "id": "dbf7b384",
   "metadata": {},
   "outputs": [
    {
     "name": "stdout",
     "output_type": "stream",
     "text": [
      "Types [2, 1, 1, 1, 1] and maxint [0, 299, 0, 9, 3] detected\n",
      "--- Evolve in 12000 possible combinations ---\n",
      "gen\tnevals\tavg     \tmin     \tmax     \tstd        \n",
      "0  \t50    \t0.999553\t0.999553\t0.999553\t1.11022e-16\n",
      "1  \t29    \t0.999549\t0.999441\t0.999553\t2.18949e-05\n",
      "2  \t24    \t0.999551\t0.999441\t0.999553\t1.56425e-05\n",
      "3  \t20    \t0.999551\t0.999441\t0.999553\t1.56425e-05\n",
      "4  \t29    \t0.999551\t0.999441\t0.999553\t1.56425e-05\n",
      "5  \t39    \t0.999551\t0.999441\t0.999553\t1.56425e-05\n",
      "6  \t38    \t0.999553\t0.999553\t0.999553\t1.11022e-16\n",
      "7  \t36    \t0.999553\t0.999553\t0.999553\t1.11022e-16\n",
      "8  \t32    \t0.999551\t0.999441\t0.999553\t1.56425e-05\n",
      "9  \t23    \t0.999553\t0.999553\t0.999553\t1.11022e-16\n",
      "10 \t31    \t0.999553\t0.999553\t0.999553\t1.11022e-16\n",
      "Best individual is: {'alpha': 0.0001, 'max_iter': 843, 'fit_intercept': 0, 'random_state': 7, 'n_iter_no_change': 7}\n",
      "with fitness: 0.9995530726256984\n",
      "CPU times: user 5.85 s, sys: 77.3 ms, total: 5.93 s\n",
      "Wall time: 3.06 s\n"
     ]
    }
   ],
   "source": [
    "perc_GA = EvolutionaryAlgorithmSearchCV(estimator=Perceptron(),\n",
    "                                       params=param_grid_perc,\n",
    "                                       scoring=\"accuracy\",\n",
    "                                       cv=StratifiedKFold(n_splits=2),\n",
    "                                       verbose=True,\n",
    "                                       population_size=50,\n",
    "                                       gene_mutation_prob=0.10,\n",
    "                                       tournament_size=20,\n",
    "                                       generations_number=10)\n",
    "%time perc_GA.fit(y_t, y)"
   ]
  },
  {
   "cell_type": "markdown",
   "id": "3c9e9a51",
   "metadata": {},
   "source": [
    "<span style='color:steelblue'><font size=\"5\">__kNN__</font></span><br>"
   ]
  },
  {
   "cell_type": "code",
   "execution_count": 186,
   "id": "3c1317ad",
   "metadata": {},
   "outputs": [],
   "source": [
    "param_grid_kNN = [{'n_neighbors': np.arange(4, 7),\n",
    "                     'weights': ['uniform', 'distance'],\n",
    "                    'algorithm':['auto', 'ball_tree', 'kd_tree', 'brute']\n",
    "                            \n",
    "                    }]"
   ]
  },
  {
   "cell_type": "code",
   "execution_count": 187,
   "id": "0c8cd15e",
   "metadata": {},
   "outputs": [
    {
     "name": "stderr",
     "output_type": "stream",
     "text": [
      "/Users/epfl/opt/anaconda3/lib/python3.8/site-packages/deap/creator.py:138: RuntimeWarning: A class named 'FitnessMax' has already been created and it will be overwritten. Consider deleting previous creation of that class or rename it.\n",
      "  warnings.warn(\"A class named '{0}' has already been created and it \"\n",
      "/Users/epfl/opt/anaconda3/lib/python3.8/site-packages/deap/creator.py:138: RuntimeWarning: A class named 'Individual' has already been created and it will be overwritten. Consider deleting previous creation of that class or rename it.\n",
      "  warnings.warn(\"A class named '{0}' has already been created and it \"\n"
     ]
    },
    {
     "name": "stdout",
     "output_type": "stream",
     "text": [
      "Types [1, 1, 1] and maxint [2, 1, 3] detected\n",
      "--- Evolve in 24 possible combinations ---\n",
      "gen\tnevals\tavg     \tmin     \tmax     \tstd       \n",
      "0  \t50    \t0.996226\t0.990279\t0.997765\t0.00204506\n",
      "1  \t29    \t0.997723\t0.995866\t0.997765\t0.000266185\n",
      "2  \t31    \t0.997647\t0.995866\t0.997765\t0.000451048\n",
      "3  \t35    \t0.997765\t0.997765\t0.997765\t1.11022e-16\n",
      "4  \t27    \t0.997761\t0.997542\t0.997765\t3.12849e-05\n",
      "5  \t27    \t0.997756\t0.997542\t0.997765\t4.37898e-05\n",
      "6  \t24    \t0.997727\t0.995866\t0.997765\t0.000265922\n",
      "7  \t31    \t0.997689\t0.995866\t0.997765\t0.000372213\n",
      "8  \t29    \t0.997765\t0.997765\t0.997765\t1.11022e-16\n",
      "9  \t28    \t0.997763\t0.997654\t0.997765\t1.56425e-05\n",
      "10 \t33    \t0.997765\t0.997765\t0.997765\t1.11022e-16\n",
      "Best individual is: {'n_neighbors': 5, 'weights': 'distance', 'algorithm': 'brute'}\n",
      "with fitness: 0.9977653631284916\n",
      "CPU times: user 10.3 s, sys: 1.38 s, total: 11.6 s\n",
      "Wall time: 9.09 s\n"
     ]
    }
   ],
   "source": [
    "kNN_GA = EvolutionaryAlgorithmSearchCV(estimator=KNeighborsClassifier(),\n",
    "                                       params=param_grid_kNN,\n",
    "                                       scoring=\"accuracy\",\n",
    "                                       cv=StratifiedKFold(n_splits=2),\n",
    "                                       verbose=True,\n",
    "                                       population_size=50,\n",
    "                                       gene_mutation_prob=0.10,\n",
    "                                       tournament_size=20,\n",
    "                                       generations_number=10)\n",
    "%time kNN_GA.fit(y_t, y)"
   ]
  },
  {
   "cell_type": "markdown",
   "id": "79290ab0",
   "metadata": {},
   "source": [
    "<span style='color:steelblue'><font size=\"5\">__MLP, Deep Learning__</font></span><br>"
   ]
  },
  {
   "cell_type": "code",
   "execution_count": 188,
   "id": "5b80eb49",
   "metadata": {},
   "outputs": [],
   "source": [
    "param_grid_mlp = [{'activation': ['identity', 'logistic','tanh','relu'],\n",
    "                    'solver':['lbfgs', 'sgd', 'adam']         \n",
    "                    }]"
   ]
  },
  {
   "cell_type": "code",
   "execution_count": 189,
   "id": "d306e7c9",
   "metadata": {
    "scrolled": false
   },
   "outputs": [
    {
     "name": "stdout",
     "output_type": "stream",
     "text": [
      "Types [1, 1] and maxint [3, 2] detected\n",
      "--- Evolve in 12 possible combinations ---\n"
     ]
    },
    {
     "name": "stderr",
     "output_type": "stream",
     "text": [
      "/Users/epfl/opt/anaconda3/lib/python3.8/site-packages/deap/creator.py:138: RuntimeWarning: A class named 'FitnessMax' has already been created and it will be overwritten. Consider deleting previous creation of that class or rename it.\n",
      "  warnings.warn(\"A class named '{0}' has already been created and it \"\n",
      "/Users/epfl/opt/anaconda3/lib/python3.8/site-packages/deap/creator.py:138: RuntimeWarning: A class named 'Individual' has already been created and it will be overwritten. Consider deleting previous creation of that class or rename it.\n",
      "  warnings.warn(\"A class named '{0}' has already been created and it \"\n",
      "/Users/epfl/opt/anaconda3/lib/python3.8/site-packages/sklearn/neural_network/_multilayer_perceptron.py:692: ConvergenceWarning: Stochastic Optimizer: Maximum iterations (200) reached and the optimization hasn't converged yet.\n",
      "  warnings.warn(\n",
      "/Users/epfl/opt/anaconda3/lib/python3.8/site-packages/sklearn/neural_network/_multilayer_perceptron.py:692: ConvergenceWarning: Stochastic Optimizer: Maximum iterations (200) reached and the optimization hasn't converged yet.\n",
      "  warnings.warn(\n"
     ]
    },
    {
     "name": "stdout",
     "output_type": "stream",
     "text": [
      "gen\tnevals\tavg     \tmin     \tmax     \tstd       \n",
      "0  \t50    \t0.999441\t0.998771\t0.999553\t0.00026251\n",
      "1  \t27    \t0.99952 \t0.998771\t0.999553\t0.000138205\n",
      "2  \t40    \t0.999553\t0.999553\t0.999553\t1.11022e-16\n",
      "3  \t23    \t0.999537\t0.998771\t0.999553\t0.000109497\n",
      "4  \t20    \t0.999537\t0.998771\t0.999553\t0.000109497\n",
      "5  \t21    \t0.999537\t0.998771\t0.999553\t0.000109497\n",
      "6  \t29    \t0.999544\t0.999106\t0.999553\t6.25698e-05\n",
      "7  \t19    \t0.999553\t0.999553\t0.999553\t1.11022e-16\n",
      "8  \t24    \t0.999544\t0.999106\t0.999553\t6.25698e-05\n",
      "9  \t30    \t0.999537\t0.998771\t0.999553\t0.000109497\n",
      "10 \t32    \t0.999544\t0.999106\t0.999553\t6.25698e-05\n",
      "Best individual is: {'activation': 'identity', 'solver': 'sgd'}\n",
      "with fitness: 0.9995530726256984\n",
      "CPU times: user 56.6 s, sys: 431 ms, total: 57 s\n",
      "Wall time: 29.6 s\n"
     ]
    }
   ],
   "source": [
    "MLP_GA = EvolutionaryAlgorithmSearchCV(estimator=MLPClassifier(),\n",
    "                                       params=param_grid_mlp,\n",
    "                                       scoring=\"accuracy\",\n",
    "                                       cv=StratifiedKFold(n_splits=2),\n",
    "                                       verbose=True,\n",
    "                                       population_size=50,\n",
    "                                       gene_mutation_prob=0.10,\n",
    "                                       tournament_size=20,\n",
    "                                       generations_number=10)\n",
    "%time MLP_GA.fit(y_t, y)"
   ]
  },
  {
   "cell_type": "markdown",
   "id": "eae2ab49",
   "metadata": {},
   "source": [
    "<span style='color:steelblue'><font size=\"5\">__Multinomial__</font></span><br>"
   ]
  },
  {
   "cell_type": "code",
   "execution_count": 190,
   "id": "d3064064",
   "metadata": {},
   "outputs": [],
   "source": [
    "param_grid_mb = [{'alpha': np.arange(0.0, 0.5),    \n",
    "                    }]"
   ]
  },
  {
   "cell_type": "code",
   "execution_count": 191,
   "id": "909c4d39",
   "metadata": {},
   "outputs": [
    {
     "name": "stdout",
     "output_type": "stream",
     "text": [
      "Types [2] and maxint [0] detected\n",
      "--- Evolve in 1 possible combinations ---\n",
      "gen\tnevals\tavg     \tmin     \tmax     \tstd\n",
      "0  \t50    \t0.903687\t0.903687\t0.903687\t0  \n",
      "1  \t34    \t0.903687\t0.903687\t0.903687\t0  \n",
      "2  \t36    \t0.903687\t0.903687\t0.903687\t0  \n",
      "3  \t35    \t0.903687\t0.903687\t0.903687\t0  \n",
      "4  \t33    \t0.903687\t0.903687\t0.903687\t0  \n",
      "5  \t32    \t0.903687\t0.903687\t0.903687\t0  \n",
      "6  \t32    \t0.903687\t0.903687\t0.903687\t0  \n",
      "7  \t34    \t0.903687\t0.903687\t0.903687\t0  \n",
      "8  \t28    \t0.903687\t0.903687\t0.903687\t0  \n",
      "9  \t25    \t0.903687\t0.903687\t0.903687\t0  \n",
      "10 \t29    \t0.903687\t0.903687\t0.903687\t0  \n",
      "Best individual is: {'alpha': 0.0}\n",
      "with fitness: 0.9036871508379888\n",
      "CPU times: user 128 ms, sys: 7.69 ms, total: 136 ms\n",
      "Wall time: 80 ms\n"
     ]
    },
    {
     "name": "stderr",
     "output_type": "stream",
     "text": [
      "/Users/epfl/opt/anaconda3/lib/python3.8/site-packages/deap/creator.py:138: RuntimeWarning: A class named 'FitnessMax' has already been created and it will be overwritten. Consider deleting previous creation of that class or rename it.\n",
      "  warnings.warn(\"A class named '{0}' has already been created and it \"\n",
      "/Users/epfl/opt/anaconda3/lib/python3.8/site-packages/deap/creator.py:138: RuntimeWarning: A class named 'Individual' has already been created and it will be overwritten. Consider deleting previous creation of that class or rename it.\n",
      "  warnings.warn(\"A class named '{0}' has already been created and it \"\n",
      "/Users/epfl/opt/anaconda3/lib/python3.8/site-packages/sklearn/naive_bayes.py:555: UserWarning: alpha too small will result in numeric errors, setting alpha = 1.0e-10\n",
      "  warnings.warn(\n",
      "/Users/epfl/opt/anaconda3/lib/python3.8/site-packages/sklearn/naive_bayes.py:555: UserWarning: alpha too small will result in numeric errors, setting alpha = 1.0e-10\n",
      "  warnings.warn(\n",
      "/Users/epfl/opt/anaconda3/lib/python3.8/site-packages/sklearn/naive_bayes.py:555: UserWarning: alpha too small will result in numeric errors, setting alpha = 1.0e-10\n",
      "  warnings.warn(\n"
     ]
    }
   ],
   "source": [
    "MB_GA = EvolutionaryAlgorithmSearchCV(estimator=MultinomialNB(),\n",
    "                                       params=param_grid_mb,\n",
    "                                       scoring=\"accuracy\",\n",
    "                                       cv=StratifiedKFold(n_splits=2),\n",
    "                                       verbose=True,\n",
    "                                       population_size=50,\n",
    "                                       gene_mutation_prob=0.10,\n",
    "                                       tournament_size=20,\n",
    "                                       generations_number=10)\n",
    "%time MB_GA.fit(y_t, y)"
   ]
  },
  {
   "cell_type": "markdown",
   "id": "3687bcaa",
   "metadata": {},
   "source": [
    "<div class=\"alert alert-block alert-info\">\n",
    "    <span style='color:darkblue'><font size=\"4\"><b>CONCLUSION ALGORITHMS</b></font></span><br><br> <span style='color:black'> From the predictions on kaggle we found that the best accuracy was when we implemented the weights ourselves (approximately 56%). Using stacking, voting and hyperparameter tuning with GA we were able to increase our accuracy to approximately 55% which isn't very good either.  <i>voili </i>voilou. </span>\n",
    "</div>"
   ]
  },
  {
   "cell_type": "markdown",
   "id": "a2bc33b2",
   "metadata": {},
   "source": [
    "<span style='color:mediumpurple'><font size=\"6\">__Prediction__</font></span><br>"
   ]
  },
  {
   "cell_type": "code",
   "execution_count": 192,
   "id": "90292851",
   "metadata": {},
   "outputs": [],
   "source": [
    "#prediction for voting classifier\n",
    "y_predicted_voting=VotingModel.predict(y_p)"
   ]
  },
  {
   "cell_type": "code",
   "execution_count": 193,
   "id": "7e81122b",
   "metadata": {},
   "outputs": [],
   "source": [
    "#prediction for stacking classifier\n",
    "y_predicted_stacking=stackingModel.predict(y_p)"
   ]
  },
  {
   "cell_type": "markdown",
   "id": "26cbc787",
   "metadata": {},
   "source": [
    "<span style='color:mediumpurple'><font size=\"6\">__Submission__</font></span><br>"
   ]
  },
  {
   "cell_type": "code",
   "execution_count": 194,
   "id": "4e548fa1",
   "metadata": {},
   "outputs": [],
   "source": [
    "id = test_nolabel['id']\n",
    "dfsubmission = pd.DataFrame({'id': id, 'label': y_predicted_manuelWeights}, columns=[\"id\", \"label\"])\n",
    "dfsubmission.to_csv('submissionManuel_weights.csv', index=False, header=True)"
   ]
  },
  {
   "cell_type": "code",
   "execution_count": 195,
   "id": "0dbf5ee2",
   "metadata": {},
   "outputs": [],
   "source": [
    "id = test_nolabel['id']\n",
    "dfsubmission = pd.DataFrame({'id': id, 'label': y_predicted_voting}, columns=[\"id\", \"label\"])\n",
    "dfsubmission.to_csv('submission2.csv', index=False, header=True)"
   ]
  },
  {
   "cell_type": "code",
   "execution_count": 196,
   "id": "ecb35c79",
   "metadata": {},
   "outputs": [],
   "source": [
    "id = test_nolabel['id']\n",
    "dfsubmission = pd.DataFrame({'id': id, 'label': y_predicted_stacking}, columns=[\"id\", \"label\"])\n",
    "dfsubmission.to_csv('submission3.csv', index=False, header=True)"
   ]
  },
  {
   "cell_type": "code",
   "execution_count": 197,
   "id": "0b4d05ae",
   "metadata": {},
   "outputs": [],
   "source": [
    "id = test_nolabel['id']\n",
    "dfsubmission = pd.DataFrame({'id': id, 'label': y_predicted_kNN}, columns=[\"id\", \"label\"])\n",
    "dfsubmission.to_csv('submissionkNN.csv', index=False, header=True)"
   ]
  },
  {
   "cell_type": "markdown",
   "id": "a6a0e3c3",
   "metadata": {},
   "source": [
    "<div class=\"alert alert-block alert-info\">\n",
    "    <span style='color:purple'><font size=\"4\"><b>CONCLUSION GENERALE</b></font></span><br><br> <span style='color:black'> Ony hypothesis one why we did not have very good accuracies on kaggle using this method could be because we never combined several features in the same pipeline. Indeed, we only combined them after the pipeline gave the predictions for the labels individually. In the third notebook we have implemented this method and it did indeed increase our accuracy <i>(see notebook 3) </i> </span>\n",
    "</div>"
   ]
  }
 ],
 "metadata": {
  "kernelspec": {
   "display_name": "Python 3 (ipykernel)",
   "language": "python",
   "name": "python3"
  },
  "language_info": {
   "codemirror_mode": {
    "name": "ipython",
    "version": 3
   },
   "file_extension": ".py",
   "mimetype": "text/x-python",
   "name": "python",
   "nbconvert_exporter": "python",
   "pygments_lexer": "ipython3",
   "version": "3.8.12"
  }
 },
 "nbformat": 4,
 "nbformat_minor": 5
}
